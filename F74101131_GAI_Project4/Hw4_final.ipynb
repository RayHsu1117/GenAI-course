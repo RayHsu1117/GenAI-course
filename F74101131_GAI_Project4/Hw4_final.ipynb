{
  "nbformat": 4,
  "nbformat_minor": 0,
  "metadata": {
    "colab": {
      "provenance": []
    },
    "kernelspec": {
      "name": "python3",
      "display_name": "Python 3"
    },
    "language_info": {
      "name": "python"
    }
  },
  "cells": [
    {
      "cell_type": "markdown",
      "source": [
        "import 套件"
      ],
      "metadata": {
        "id": "Ivk5lw8i1GDN"
      }
    },
    {
      "cell_type": "code",
      "source": [
        "import torch\n",
        "import torch.nn as nn\n",
        "import torch.optim as optim\n",
        "from torchvision import datasets, transforms\n",
        "from torch.utils.data import DataLoader,Subset, TensorDataset\n",
        "import matplotlib.pyplot as plt\n",
        "import numpy as np\n",
        "from skimage.metrics import peak_signal_noise_ratio as psnr\n",
        "from skimage.metrics import structural_similarity as ssim\n",
        "from tqdm import tqdm"
      ],
      "metadata": {
        "id": "hrC9uf1oX_Zc"
      },
      "execution_count": 1,
      "outputs": []
    },
    {
      "cell_type": "markdown",
      "source": [
        "load MNIST dataset"
      ],
      "metadata": {
        "id": "p6g_WoGM1Mci"
      }
    },
    {
      "cell_type": "code",
      "source": [
        "def load_reduced_mnist(num_samples=1000):\n",
        "    transform = transforms.Compose([transforms.ToTensor(), transforms.Normalize((0.5,), (0.5,))])\n",
        "    dataset = datasets.MNIST('.', train=True, download=True, transform=transform)\n",
        "    indices = list(range(len(dataset)))\n",
        "    np.random.shuffle(indices)\n",
        "    reduced_indices = indices[:num_samples]\n",
        "    reduced_dataset = Subset(dataset, reduced_indices)\n",
        "    return DataLoader(reduced_dataset, batch_size=32, shuffle=True)\n",
        "\n",
        "# Loading the MNIST dataset\n",
        "dataloader = load_reduced_mnist(num_samples=10000)\n",
        "\n",
        "# Example target image\n",
        "target_image, _ = next(iter(dataloader))\n",
        "target_image = target_image[0].unsqueeze(0)"
      ],
      "metadata": {
        "id": "EeVMk_6ZD85B",
        "collapsed": true
      },
      "execution_count": null,
      "outputs": []
    },
    {
      "cell_type": "markdown",
      "source": [
        "DIP model"
      ],
      "metadata": {
        "id": "tj66_mC-1Wwi"
      }
    },
    {
      "cell_type": "code",
      "source": [
        "# Define the DIP model\n",
        "class DIPModel(nn.Module):\n",
        "    def __init__(self):\n",
        "        super(DIPModel, self).__init__()\n",
        "        self.conv1 = nn.Conv2d(1, 64, kernel_size=3, padding=1)\n",
        "        self.conv2 = nn.Conv2d(64, 64, kernel_size=3, padding=1)\n",
        "        self.conv3 = nn.Conv2d(64, 1, kernel_size=3, padding=1)\n",
        "        self.relu = nn.ReLU()\n",
        "\n",
        "    def forward(self, x):\n",
        "        x = self.relu(self.conv1(x))\n",
        "        x = self.relu(self.conv2(x))\n",
        "        x = self.conv3(x)\n",
        "        return x\n",
        "\n",
        "# DIP training function\n",
        "def train_dip(dip_model, target_image, epochs=10, lr=1e-3):\n",
        "    optimizer = optim.Adam(dip_model.parameters(), lr=lr)\n",
        "    criterion = nn.MSELoss()\n",
        "\n",
        "    for epoch in range(epochs):\n",
        "      optimizer.zero_grad()\n",
        "      noise = torch.randn_like(target_image)\n",
        "      noise_image = target_image + noise\n",
        "      restore_image = dip_model(noise_image)\n",
        "      loss = criterion(restore_image,target_image)\n",
        "      # loss = criterion(output, target_image)\n",
        "      loss.backward()\n",
        "      optimizer.step()\n",
        "      if epoch % 10 == 0:\n",
        "        print(f'Epoch {epoch+1}/{epochs}, DIP Loss: {loss.item()}')\n",
        "\n",
        "    return dip_model"
      ],
      "metadata": {
        "collapsed": true,
        "id": "lufCoWMqWuI6"
      },
      "execution_count": 3,
      "outputs": []
    },
    {
      "cell_type": "markdown",
      "source": [
        "DDPM model"
      ],
      "metadata": {
        "id": "XuvQlJQy1ZM6"
      }
    },
    {
      "cell_type": "code",
      "source": [
        "# Define the DDPM model\n",
        "class DDPMModel(nn.Module):\n",
        "    def __init__(self):\n",
        "        super(DDPMModel, self).__init__()\n",
        "        self.conv1 = nn.Conv2d(1, 64, kernel_size=3, padding=1)\n",
        "        self.conv2 = nn.Conv2d(64, 64, kernel_size=3, padding=1)\n",
        "        self.conv3 = nn.Conv2d(64, 1, kernel_size=3, padding=1)\n",
        "        self.relu = nn.ReLU()\n",
        "\n",
        "    def forward(self, x):\n",
        "        x = self.relu(self.conv1(x))\n",
        "        x = self.relu(self.conv2(x))\n",
        "        x = self.conv3(x)\n",
        "        return x\n",
        "# DDPM 訓練函數\n",
        "def train_ddpm(ddpm_model, dataloader, epochs=10, lr=1e-3, alpha_t=0.9):\n",
        "    optimizer = optim.Adam(ddpm_model.parameters(), lr=lr)\n",
        "    criterion = nn.MSELoss()\n",
        "\n",
        "    for epoch in range(epochs):\n",
        "        for images, _ in tqdm(dataloader):\n",
        "            optimizer.zero_grad()\n",
        "            noisy_images, noise = forward_diffusion(images, alpha_t)\n",
        "            # 模型預測添加的噪音\n",
        "            predicted_noise = ddpm_model(noisy_images)\n",
        "            # 計算預測噪音與實際噪音之間的損失\n",
        "            loss = criterion(predicted_noise, noise)\n",
        "            loss.backward()\n",
        "            optimizer.step()\n",
        "\n",
        "        print(f'Epoch {epoch+1}, DDPM Loss: {loss.item()}')\n",
        "\n",
        "    return ddpm_model\n"
      ],
      "metadata": {
        "id": "jbqwEswiDjVj"
      },
      "execution_count": 4,
      "outputs": []
    },
    {
      "cell_type": "markdown",
      "source": [
        "Integrate model"
      ],
      "metadata": {
        "id": "-d3wTR2p1btO"
      }
    },
    {
      "cell_type": "code",
      "source": [
        "# Define the Integrate model\n",
        "# 定義整合模型\n",
        "class IntegrateModel(nn.Module):\n",
        "    def __init__(self, dip_model, ddpm_model):\n",
        "        super(IntegrateModel, self).__init__()\n",
        "        self.dip_model = dip_model\n",
        "        self.ddpm_model = ddpm_model\n",
        "\n",
        "    def forward(self, x, alpha_t=0.9):\n",
        "        noisy_images, _ = forward_diffusion(x, alpha_t)\n",
        "        restored_images = self.dip_model(noisy_images)\n",
        "        generated_images = reverse_diffusion(self.ddpm_model, restored_images, alpha_t)\n",
        "        return generated_images\n",
        "# 訓練整合模型\n",
        "def train_integrate(dip_model, ddpm_model, dataloader, epochs=10, lr=1e-3, alpha_t=0.9):\n",
        "    optimizer = optim.Adam(ddpm_model.parameters(), lr=lr)\n",
        "    criterion = nn.MSELoss()\n",
        "\n",
        "    for epoch in range(epochs):\n",
        "        for images, _ in tqdm(dataloader):\n",
        "            optimizer.zero_grad()\n",
        "            noisy_images, noise = forward_diffusion(images, alpha_t)\n",
        "            restore_images = dip_model(noisy_images)\n",
        "            alpha_t_tensor = torch.tensor(alpha_t, dtype=torch.float32, device=noisy_images.device)\n",
        "            alpha_t_tensor = alpha_t_tensor.expand_as(noisy_images)\n",
        "            predicted_noise = ddpm_model(noisy_images)\n",
        "            intergrate_image = (noisy_images - torch.sqrt(1 - alpha_t_tensor) * predicted_noise) / torch.sqrt(alpha_t_tensor)\n",
        "            # predicted_noise = ddpm_model(restore_images)\n",
        "            # loss = criterion(predicted_noise, torch.zeros_like(predicted_noise))\n",
        "            loss = criterion(intergrate_image,images)\n",
        "            loss.backward()\n",
        "            optimizer.step()\n",
        "\n",
        "        print(f'Epoch {epoch+1}, integrate Loss: {loss.item()}')\n",
        "\n",
        "    return ddpm_model"
      ],
      "metadata": {
        "id": "WEltO1SHmR39"
      },
      "execution_count": 5,
      "outputs": []
    },
    {
      "cell_type": "markdown",
      "source": [
        "forward_diffusion是用來把圖片加入雜訊"
      ],
      "metadata": {
        "id": "7cy_0Aj5zCGB"
      }
    },
    {
      "cell_type": "code",
      "source": [
        "# 前向擴散過程\n",
        "def forward_diffusion(x, alpha_t):\n",
        "    noise = torch.randn_like(x)\n",
        "    alpha_t_tensor = torch.tensor(alpha_t, dtype=torch.float32, device=x.device)\n",
        "    noisy_images = torch.sqrt(alpha_t_tensor) * x + torch.sqrt(1 - alpha_t_tensor) * noise\n",
        "    return noisy_images, noise\n"
      ],
      "metadata": {
        "id": "9SUm1HdfJ93R"
      },
      "execution_count": 6,
      "outputs": []
    },
    {
      "cell_type": "markdown",
      "source": [
        "reverse diffusion是用來生成圖片"
      ],
      "metadata": {
        "id": "2AKRqYanzanE"
      }
    },
    {
      "cell_type": "code",
      "source": [
        "# 定義反向擴散過程\n",
        "def reverse_diffusion(ddpm_model, noisy_images, alpha_t):\n",
        "    alpha_t_tensor = torch.tensor(alpha_t, dtype=torch.float32, device=noisy_images.device)\n",
        "    alpha_t_tensor = alpha_t_tensor.expand_as(noisy_images)\n",
        "    with torch.no_grad():\n",
        "        predicted_noise = ddpm_model(noisy_images)\n",
        "        generated_data = (noisy_images - torch.sqrt(1 - alpha_t_tensor) * predicted_noise) / torch.sqrt(alpha_t_tensor)\n",
        "    return generated_data\n"
      ],
      "metadata": {
        "id": "gjMRweF3J9Ar"
      },
      "execution_count": 7,
      "outputs": []
    },
    {
      "cell_type": "markdown",
      "source": [
        "初始化model"
      ],
      "metadata": {
        "id": "66IcU6ZJ1kld"
      }
    },
    {
      "cell_type": "code",
      "source": [
        "# Instantiate models\n",
        "dip_model = DIPModel()\n",
        "ddpm_model = DDPMModel()\n",
        "integrated_model = IntegrateModel(dip_model, ddpm_model)"
      ],
      "metadata": {
        "id": "qAlic4GsEFzx"
      },
      "execution_count": 8,
      "outputs": []
    },
    {
      "cell_type": "markdown",
      "source": [
        "開始訓練"
      ],
      "metadata": {
        "id": "uhVn_XmW1nBv"
      }
    },
    {
      "cell_type": "code",
      "source": [
        "# Train DIP model\n",
        "trained_dip = train_dip(dip_model, target_image, epochs=100)\n"
      ],
      "metadata": {
        "colab": {
          "base_uri": "https://localhost:8080/"
        },
        "id": "jj3K24JyWxdN",
        "outputId": "b66823a4-c61d-4838-fbbc-f9b526b26235"
      },
      "execution_count": 9,
      "outputs": [
        {
          "output_type": "stream",
          "name": "stdout",
          "text": [
            "Epoch 1/100, DIP Loss: 0.7189186811447144\n",
            "Epoch 11/100, DIP Loss: 0.1509806215763092\n",
            "Epoch 21/100, DIP Loss: 0.1449800282716751\n",
            "Epoch 31/100, DIP Loss: 0.09889227151870728\n",
            "Epoch 41/100, DIP Loss: 0.08104608952999115\n",
            "Epoch 51/100, DIP Loss: 0.08729540556669235\n",
            "Epoch 61/100, DIP Loss: 0.0768495500087738\n",
            "Epoch 71/100, DIP Loss: 0.07440047711133957\n",
            "Epoch 81/100, DIP Loss: 0.06799503415822983\n",
            "Epoch 91/100, DIP Loss: 0.06668253988027573\n"
          ]
        }
      ]
    },
    {
      "cell_type": "code",
      "source": [
        "# Train integrate model\n",
        "trained_integrate = train_integrate(trained_dip,ddpm_model, dataloader, 5,1e-3, 0.7)"
      ],
      "metadata": {
        "id": "cbeHy_xrrq2C"
      },
      "execution_count": null,
      "outputs": []
    },
    {
      "cell_type": "code",
      "source": [
        "# Train DDPM\n",
        "trained_ddpm = train_ddpm(ddpm_model, dataloader, epochs=50, lr=1e-3, alpha_t=0.7)"
      ],
      "metadata": {
        "colab": {
          "base_uri": "https://localhost:8080/"
        },
        "id": "gTMhqT9UKQx4",
        "outputId": "a29fec4e-d4a8-41a2-a6e8-48e16b3c0a0d",
        "collapsed": true
      },
      "execution_count": 12,
      "outputs": [
        {
          "output_type": "stream",
          "name": "stderr",
          "text": [
            "100%|██████████| 313/313 [00:53<00:00,  5.89it/s]\n"
          ]
        },
        {
          "output_type": "stream",
          "name": "stdout",
          "text": [
            "Epoch 1, DDPM Loss: 0.057841431349515915\n"
          ]
        },
        {
          "output_type": "stream",
          "name": "stderr",
          "text": [
            "100%|██████████| 313/313 [00:56<00:00,  5.50it/s]\n"
          ]
        },
        {
          "output_type": "stream",
          "name": "stdout",
          "text": [
            "Epoch 2, DDPM Loss: 0.05240217596292496\n"
          ]
        },
        {
          "output_type": "stream",
          "name": "stderr",
          "text": [
            "100%|██████████| 313/313 [00:53<00:00,  5.85it/s]\n"
          ]
        },
        {
          "output_type": "stream",
          "name": "stdout",
          "text": [
            "Epoch 3, DDPM Loss: 0.05658581480383873\n"
          ]
        },
        {
          "output_type": "stream",
          "name": "stderr",
          "text": [
            "100%|██████████| 313/313 [00:53<00:00,  5.84it/s]\n"
          ]
        },
        {
          "output_type": "stream",
          "name": "stdout",
          "text": [
            "Epoch 4, DDPM Loss: 0.05295637995004654\n"
          ]
        },
        {
          "output_type": "stream",
          "name": "stderr",
          "text": [
            "100%|██████████| 313/313 [00:53<00:00,  5.84it/s]\n"
          ]
        },
        {
          "output_type": "stream",
          "name": "stdout",
          "text": [
            "Epoch 5, DDPM Loss: 0.05466880649328232\n"
          ]
        },
        {
          "output_type": "stream",
          "name": "stderr",
          "text": [
            "100%|██████████| 313/313 [00:53<00:00,  5.84it/s]\n"
          ]
        },
        {
          "output_type": "stream",
          "name": "stdout",
          "text": [
            "Epoch 6, DDPM Loss: 0.056276146322488785\n"
          ]
        },
        {
          "output_type": "stream",
          "name": "stderr",
          "text": [
            "100%|██████████| 313/313 [00:53<00:00,  5.87it/s]\n"
          ]
        },
        {
          "output_type": "stream",
          "name": "stdout",
          "text": [
            "Epoch 7, DDPM Loss: 0.049300022423267365\n"
          ]
        },
        {
          "output_type": "stream",
          "name": "stderr",
          "text": [
            "100%|██████████| 313/313 [00:53<00:00,  5.84it/s]\n"
          ]
        },
        {
          "output_type": "stream",
          "name": "stdout",
          "text": [
            "Epoch 8, DDPM Loss: 0.04764441400766373\n"
          ]
        },
        {
          "output_type": "stream",
          "name": "stderr",
          "text": [
            "100%|██████████| 313/313 [00:53<00:00,  5.88it/s]\n"
          ]
        },
        {
          "output_type": "stream",
          "name": "stdout",
          "text": [
            "Epoch 9, DDPM Loss: 0.054147008806467056\n"
          ]
        },
        {
          "output_type": "stream",
          "name": "stderr",
          "text": [
            "100%|██████████| 313/313 [00:53<00:00,  5.85it/s]\n"
          ]
        },
        {
          "output_type": "stream",
          "name": "stdout",
          "text": [
            "Epoch 10, DDPM Loss: 0.05210944265127182\n"
          ]
        },
        {
          "output_type": "stream",
          "name": "stderr",
          "text": [
            "100%|██████████| 313/313 [00:53<00:00,  5.86it/s]\n"
          ]
        },
        {
          "output_type": "stream",
          "name": "stdout",
          "text": [
            "Epoch 11, DDPM Loss: 0.05446700006723404\n"
          ]
        },
        {
          "output_type": "stream",
          "name": "stderr",
          "text": [
            "100%|██████████| 313/313 [00:53<00:00,  5.83it/s]\n"
          ]
        },
        {
          "output_type": "stream",
          "name": "stdout",
          "text": [
            "Epoch 12, DDPM Loss: 0.05417593568563461\n"
          ]
        },
        {
          "output_type": "stream",
          "name": "stderr",
          "text": [
            "100%|██████████| 313/313 [00:56<00:00,  5.52it/s]\n"
          ]
        },
        {
          "output_type": "stream",
          "name": "stdout",
          "text": [
            "Epoch 13, DDPM Loss: 0.056544993072748184\n"
          ]
        },
        {
          "output_type": "stream",
          "name": "stderr",
          "text": [
            "100%|██████████| 313/313 [00:53<00:00,  5.88it/s]\n"
          ]
        },
        {
          "output_type": "stream",
          "name": "stdout",
          "text": [
            "Epoch 14, DDPM Loss: 0.05033213645219803\n"
          ]
        },
        {
          "output_type": "stream",
          "name": "stderr",
          "text": [
            "100%|██████████| 313/313 [00:53<00:00,  5.86it/s]\n"
          ]
        },
        {
          "output_type": "stream",
          "name": "stdout",
          "text": [
            "Epoch 15, DDPM Loss: 0.05091355741024017\n"
          ]
        },
        {
          "output_type": "stream",
          "name": "stderr",
          "text": [
            "100%|██████████| 313/313 [00:53<00:00,  5.84it/s]\n"
          ]
        },
        {
          "output_type": "stream",
          "name": "stdout",
          "text": [
            "Epoch 16, DDPM Loss: 0.0552157424390316\n"
          ]
        },
        {
          "output_type": "stream",
          "name": "stderr",
          "text": [
            "100%|██████████| 313/313 [00:53<00:00,  5.80it/s]\n"
          ]
        },
        {
          "output_type": "stream",
          "name": "stdout",
          "text": [
            "Epoch 17, DDPM Loss: 0.05664903670549393\n"
          ]
        },
        {
          "output_type": "stream",
          "name": "stderr",
          "text": [
            "100%|██████████| 313/313 [00:54<00:00,  5.77it/s]\n"
          ]
        },
        {
          "output_type": "stream",
          "name": "stdout",
          "text": [
            "Epoch 18, DDPM Loss: 0.05369525030255318\n"
          ]
        },
        {
          "output_type": "stream",
          "name": "stderr",
          "text": [
            "100%|██████████| 313/313 [00:54<00:00,  5.73it/s]\n"
          ]
        },
        {
          "output_type": "stream",
          "name": "stdout",
          "text": [
            "Epoch 19, DDPM Loss: 0.05190286040306091\n"
          ]
        },
        {
          "output_type": "stream",
          "name": "stderr",
          "text": [
            "100%|██████████| 313/313 [00:53<00:00,  5.82it/s]\n"
          ]
        },
        {
          "output_type": "stream",
          "name": "stdout",
          "text": [
            "Epoch 20, DDPM Loss: 0.045821160078048706\n"
          ]
        },
        {
          "output_type": "stream",
          "name": "stderr",
          "text": [
            "100%|██████████| 313/313 [00:53<00:00,  5.82it/s]\n"
          ]
        },
        {
          "output_type": "stream",
          "name": "stdout",
          "text": [
            "Epoch 21, DDPM Loss: 0.052169039845466614\n"
          ]
        },
        {
          "output_type": "stream",
          "name": "stderr",
          "text": [
            "100%|██████████| 313/313 [00:53<00:00,  5.82it/s]\n"
          ]
        },
        {
          "output_type": "stream",
          "name": "stdout",
          "text": [
            "Epoch 22, DDPM Loss: 0.04658733680844307\n"
          ]
        },
        {
          "output_type": "stream",
          "name": "stderr",
          "text": [
            "100%|██████████| 313/313 [00:53<00:00,  5.83it/s]\n"
          ]
        },
        {
          "output_type": "stream",
          "name": "stdout",
          "text": [
            "Epoch 23, DDPM Loss: 0.055202990770339966\n"
          ]
        },
        {
          "output_type": "stream",
          "name": "stderr",
          "text": [
            "100%|██████████| 313/313 [00:54<00:00,  5.76it/s]\n"
          ]
        },
        {
          "output_type": "stream",
          "name": "stdout",
          "text": [
            "Epoch 24, DDPM Loss: 0.05223468318581581\n"
          ]
        },
        {
          "output_type": "stream",
          "name": "stderr",
          "text": [
            "100%|██████████| 313/313 [00:56<00:00,  5.56it/s]\n"
          ]
        },
        {
          "output_type": "stream",
          "name": "stdout",
          "text": [
            "Epoch 25, DDPM Loss: 0.044181011617183685\n"
          ]
        },
        {
          "output_type": "stream",
          "name": "stderr",
          "text": [
            "100%|██████████| 313/313 [00:53<00:00,  5.84it/s]\n"
          ]
        },
        {
          "output_type": "stream",
          "name": "stdout",
          "text": [
            "Epoch 26, DDPM Loss: 0.05163321644067764\n"
          ]
        },
        {
          "output_type": "stream",
          "name": "stderr",
          "text": [
            "100%|██████████| 313/313 [00:53<00:00,  5.82it/s]\n"
          ]
        },
        {
          "output_type": "stream",
          "name": "stdout",
          "text": [
            "Epoch 27, DDPM Loss: 0.052020713686943054\n"
          ]
        },
        {
          "output_type": "stream",
          "name": "stderr",
          "text": [
            "100%|██████████| 313/313 [00:53<00:00,  5.82it/s]\n"
          ]
        },
        {
          "output_type": "stream",
          "name": "stdout",
          "text": [
            "Epoch 28, DDPM Loss: 0.049469124525785446\n"
          ]
        },
        {
          "output_type": "stream",
          "name": "stderr",
          "text": [
            "100%|██████████| 313/313 [00:53<00:00,  5.82it/s]\n"
          ]
        },
        {
          "output_type": "stream",
          "name": "stdout",
          "text": [
            "Epoch 29, DDPM Loss: 0.04665837064385414\n"
          ]
        },
        {
          "output_type": "stream",
          "name": "stderr",
          "text": [
            "100%|██████████| 313/313 [00:53<00:00,  5.83it/s]\n"
          ]
        },
        {
          "output_type": "stream",
          "name": "stdout",
          "text": [
            "Epoch 30, DDPM Loss: 0.047447215765714645\n"
          ]
        },
        {
          "output_type": "stream",
          "name": "stderr",
          "text": [
            "100%|██████████| 313/313 [00:53<00:00,  5.83it/s]\n"
          ]
        },
        {
          "output_type": "stream",
          "name": "stdout",
          "text": [
            "Epoch 31, DDPM Loss: 0.047015074640512466\n"
          ]
        },
        {
          "output_type": "stream",
          "name": "stderr",
          "text": [
            "100%|██████████| 313/313 [00:53<00:00,  5.83it/s]\n"
          ]
        },
        {
          "output_type": "stream",
          "name": "stdout",
          "text": [
            "Epoch 32, DDPM Loss: 0.0507647879421711\n"
          ]
        },
        {
          "output_type": "stream",
          "name": "stderr",
          "text": [
            "100%|██████████| 313/313 [00:53<00:00,  5.84it/s]\n"
          ]
        },
        {
          "output_type": "stream",
          "name": "stdout",
          "text": [
            "Epoch 33, DDPM Loss: 0.054226987063884735\n"
          ]
        },
        {
          "output_type": "stream",
          "name": "stderr",
          "text": [
            "100%|██████████| 313/313 [00:53<00:00,  5.84it/s]\n"
          ]
        },
        {
          "output_type": "stream",
          "name": "stdout",
          "text": [
            "Epoch 34, DDPM Loss: 0.05209696665406227\n"
          ]
        },
        {
          "output_type": "stream",
          "name": "stderr",
          "text": [
            "100%|██████████| 313/313 [00:53<00:00,  5.84it/s]\n"
          ]
        },
        {
          "output_type": "stream",
          "name": "stdout",
          "text": [
            "Epoch 35, DDPM Loss: 0.05211230367422104\n"
          ]
        },
        {
          "output_type": "stream",
          "name": "stderr",
          "text": [
            "100%|██████████| 313/313 [00:54<00:00,  5.79it/s]\n"
          ]
        },
        {
          "output_type": "stream",
          "name": "stdout",
          "text": [
            "Epoch 36, DDPM Loss: 0.05125076323747635\n"
          ]
        },
        {
          "output_type": "stream",
          "name": "stderr",
          "text": [
            "100%|██████████| 313/313 [00:53<00:00,  5.84it/s]\n"
          ]
        },
        {
          "output_type": "stream",
          "name": "stdout",
          "text": [
            "Epoch 37, DDPM Loss: 0.050301969051361084\n"
          ]
        },
        {
          "output_type": "stream",
          "name": "stderr",
          "text": [
            "100%|██████████| 313/313 [00:53<00:00,  5.85it/s]\n"
          ]
        },
        {
          "output_type": "stream",
          "name": "stdout",
          "text": [
            "Epoch 38, DDPM Loss: 0.04800759628415108\n"
          ]
        },
        {
          "output_type": "stream",
          "name": "stderr",
          "text": [
            "100%|██████████| 313/313 [00:53<00:00,  5.85it/s]\n"
          ]
        },
        {
          "output_type": "stream",
          "name": "stdout",
          "text": [
            "Epoch 39, DDPM Loss: 0.05826471745967865\n"
          ]
        },
        {
          "output_type": "stream",
          "name": "stderr",
          "text": [
            "100%|██████████| 313/313 [00:53<00:00,  5.83it/s]\n"
          ]
        },
        {
          "output_type": "stream",
          "name": "stdout",
          "text": [
            "Epoch 40, DDPM Loss: 0.048786286264657974\n"
          ]
        },
        {
          "output_type": "stream",
          "name": "stderr",
          "text": [
            "100%|██████████| 313/313 [00:54<00:00,  5.80it/s]\n"
          ]
        },
        {
          "output_type": "stream",
          "name": "stdout",
          "text": [
            "Epoch 41, DDPM Loss: 0.05274832993745804\n"
          ]
        },
        {
          "output_type": "stream",
          "name": "stderr",
          "text": [
            "100%|██████████| 313/313 [00:53<00:00,  5.81it/s]\n"
          ]
        },
        {
          "output_type": "stream",
          "name": "stdout",
          "text": [
            "Epoch 42, DDPM Loss: 0.05854785069823265\n"
          ]
        },
        {
          "output_type": "stream",
          "name": "stderr",
          "text": [
            "100%|██████████| 313/313 [00:53<00:00,  5.86it/s]\n"
          ]
        },
        {
          "output_type": "stream",
          "name": "stdout",
          "text": [
            "Epoch 43, DDPM Loss: 0.04637378081679344\n"
          ]
        },
        {
          "output_type": "stream",
          "name": "stderr",
          "text": [
            "100%|██████████| 313/313 [00:53<00:00,  5.84it/s]\n"
          ]
        },
        {
          "output_type": "stream",
          "name": "stdout",
          "text": [
            "Epoch 44, DDPM Loss: 0.057150207459926605\n"
          ]
        },
        {
          "output_type": "stream",
          "name": "stderr",
          "text": [
            "100%|██████████| 313/313 [00:53<00:00,  5.80it/s]\n"
          ]
        },
        {
          "output_type": "stream",
          "name": "stdout",
          "text": [
            "Epoch 45, DDPM Loss: 0.053169459104537964\n"
          ]
        },
        {
          "output_type": "stream",
          "name": "stderr",
          "text": [
            "100%|██████████| 313/313 [00:53<00:00,  5.82it/s]\n"
          ]
        },
        {
          "output_type": "stream",
          "name": "stdout",
          "text": [
            "Epoch 46, DDPM Loss: 0.04798777401447296\n"
          ]
        },
        {
          "output_type": "stream",
          "name": "stderr",
          "text": [
            "100%|██████████| 313/313 [00:53<00:00,  5.83it/s]\n"
          ]
        },
        {
          "output_type": "stream",
          "name": "stdout",
          "text": [
            "Epoch 47, DDPM Loss: 0.058734796941280365\n"
          ]
        },
        {
          "output_type": "stream",
          "name": "stderr",
          "text": [
            "100%|██████████| 313/313 [00:53<00:00,  5.83it/s]\n"
          ]
        },
        {
          "output_type": "stream",
          "name": "stdout",
          "text": [
            "Epoch 48, DDPM Loss: 0.05602602660655975\n"
          ]
        },
        {
          "output_type": "stream",
          "name": "stderr",
          "text": [
            "100%|██████████| 313/313 [00:53<00:00,  5.81it/s]\n"
          ]
        },
        {
          "output_type": "stream",
          "name": "stdout",
          "text": [
            "Epoch 49, DDPM Loss: 0.04994703829288483\n"
          ]
        },
        {
          "output_type": "stream",
          "name": "stderr",
          "text": [
            "100%|██████████| 313/313 [00:53<00:00,  5.83it/s]"
          ]
        },
        {
          "output_type": "stream",
          "name": "stdout",
          "text": [
            "Epoch 50, DDPM Loss: 0.045322198420763016\n"
          ]
        },
        {
          "output_type": "stream",
          "name": "stderr",
          "text": [
            "\n"
          ]
        }
      ]
    },
    {
      "cell_type": "code",
      "source": [
        "def visualize_images(target_image_np, generated_image_np, title):\n",
        "    plt.figure(figsize=(10, 5))\n",
        "\n",
        "    plt.subplot(1, 2, 1)\n",
        "    plt.imshow(target_image_np, cmap='gray')\n",
        "    plt.title('Target Image')\n",
        "    plt.axis('off')\n",
        "\n",
        "    plt.subplot(1, 2, 2)\n",
        "    plt.imshow(generated_image_np, cmap='gray')\n",
        "    plt.title('Generated Image')\n",
        "    plt.axis('off')\n",
        "\n",
        "    plt.suptitle(title)\n",
        "    plt.show()"
      ],
      "metadata": {
        "id": "iCbLhm5x4QZp"
      },
      "execution_count": 13,
      "outputs": []
    },
    {
      "cell_type": "code",
      "source": [
        "# 產生測試圖片\n",
        "test_images, _ = next(iter(dataloader))\n",
        "noisy_test_images, _ = forward_diffusion(test_images, 0.7)\n"
      ],
      "metadata": {
        "id": "xQXAeSZc1Dg2"
      },
      "execution_count": 14,
      "outputs": []
    },
    {
      "cell_type": "code",
      "source": [
        "# integrate model 生成圖片\n",
        "intergrate_image2 = reverse_diffusion(trained_integrate, noisy_test_images, 0.7)"
      ],
      "metadata": {
        "id": "Y_Y_Qr_C6YDa"
      },
      "execution_count": 15,
      "outputs": []
    },
    {
      "cell_type": "code",
      "source": [
        "# DDPM 生成圖片\n",
        "generated_images = reverse_diffusion(trained_ddpm, noisy_test_images, 0.7)\n",
        "# DIP 生成圖片(修復雜訊)\n",
        "dip_image = trained_dip(noisy_test_images)\n",
        "# 用DIP生成的圖片送給DDPM來生成圖片\n",
        "intergrate_image = reverse_diffusion(trained_ddpm, dip_image, 0.7)\n"
      ],
      "metadata": {
        "id": "fIkCskxzL-5N"
      },
      "execution_count": 16,
      "outputs": []
    },
    {
      "cell_type": "code",
      "source": [
        "visualize_images(noisy_test_images[0].squeeze().detach().cpu().numpy(), intergrate_image2[0].squeeze().detach().cpu().numpy(), 'Noise vs Integrate')\n",
        "visualize_images(test_images[0].squeeze().detach().cpu().numpy(), intergrate_image2[0].squeeze().detach().cpu().numpy(), 'Origin vs Integrate')\n"
      ],
      "metadata": {
        "colab": {
          "base_uri": "https://localhost:8080/",
          "height": 893
        },
        "id": "eBncjODjuteD",
        "outputId": "feeb7051-66dc-4018-8111-c2996121bbf2"
      },
      "execution_count": 17,
      "outputs": [
        {
          "output_type": "display_data",
          "data": {
            "text/plain": [
              "<Figure size 1000x500 with 2 Axes>"
            ],
            "image/png": "[encoded data removed]"
          },
          "metadata": {}
        },
        {
          "output_type": "display_data",
          "data": {
            "text/plain": [
              "<Figure size 1000x500 with 2 Axes>"
            ],
            "image/png": "[encoded data removed]"
          },
          "metadata": {}
        }
      ]
    },
    {
      "cell_type": "markdown",
      "source": [
        "計算PSNR和SSIM"
      ],
      "metadata": {
        "id": "3z_l19my09qQ"
      }
    },
    {
      "cell_type": "code",
      "source": [
        "psnr_dip = psnr(test_images[0].squeeze().detach().cpu().numpy(), intergrate_image2[0].squeeze().detach().cpu().numpy())\n",
        "ssim_dip = ssim(test_images[0].squeeze().detach().cpu().numpy(), intergrate_image2[0].squeeze().detach().cpu().numpy())\n",
        "print(f'Integrate PSNR: {psnr_dip}, SSIM: {ssim_dip}')"
      ],
      "metadata": {
        "colab": {
          "base_uri": "https://localhost:8080/"
        },
        "id": "WCDt4dDS4U9E",
        "outputId": "c2c4f49e-4f8f-40c6-d70e-062be2097967"
      },
      "execution_count": 18,
      "outputs": [
        {
          "output_type": "stream",
          "name": "stdout",
          "text": [
            "Integrate PSNR: 22.615236886263656, SSIM: 0.8996644555668015\n"
          ]
        }
      ]
    },
    {
      "cell_type": "code",
      "source": [
        "visualize_images(test_images[0].squeeze().detach().cpu().numpy(),noisy_test_images[0].squeeze().detach().cpu().numpy(), 'Origin vs Noise')\n",
        "visualize_images(noisy_test_images[0].squeeze().detach().cpu().numpy(), dip_image[0].squeeze().detach().cpu().numpy(), 'Noise vs DIP')\n",
        "visualize_images(noisy_test_images[0].squeeze().detach().cpu().numpy(), generated_images[0].squeeze().detach().cpu().numpy(), 'Noise vs DDPM')\n",
        "visualize_images(noisy_test_images[0].squeeze().detach().cpu().numpy(), intergrate_image[0].squeeze().detach().cpu().numpy(), 'Noise vs Integrate')\n"
      ],
      "metadata": {
        "id": "Zcu3xrKP8_3G",
        "colab": {
          "base_uri": "https://localhost:8080/",
          "height": 1000
        },
        "collapsed": true,
        "outputId": "6e282d28-cce3-4774-ea1e-abb83586131c"
      },
      "execution_count": 19,
      "outputs": [
        {
          "output_type": "display_data",
          "data": {
            "text/plain": [
              "<Figure size 1000x500 with 2 Axes>"
            ],
            "image/png": "[encoded data removed]"
          },
          "metadata": {}
        },
        {
          "output_type": "display_data",
          "data": {
            "text/plain": [
              "<Figure size 1000x500 with 2 Axes>"
            ],
            "image/png": "[encoded data removed]"
          },
          "metadata": {}
        },
        {
          "output_type": "display_data",
          "data": {
            "text/plain": [
              "<Figure size 1000x500 with 2 Axes>"
            ],
            "image/png": "[encoded data removed]"
          },
          "metadata": {}
        },
        {
          "output_type": "display_data",
          "data": {
            "text/plain": [
              "<Figure size 1000x500 with 2 Axes>"
            ],
            "image/png": "[encoded data removed]"
          },
          "metadata": {}
        }
      ]
    },
    {
      "cell_type": "code",
      "source": [
        "psnr_dip = psnr(test_images[0].squeeze().detach().cpu().numpy(), dip_image[0].squeeze().detach().cpu().numpy())\n",
        "ssim_dip = ssim(test_images[0].squeeze().detach().cpu().numpy(), dip_image[0].squeeze().detach().cpu().numpy())\n",
        "print(f'Standalone DIP PSNR: {psnr_dip}, SSIM: {ssim_dip}')\n",
        "psnr_dip = psnr(test_images[0].squeeze().detach().cpu().numpy(), generated_images[0].squeeze().detach().cpu().numpy())\n",
        "ssim_dip = ssim(test_images[0].squeeze().detach().cpu().numpy(), generated_images[0].squeeze().detach().cpu().numpy())\n",
        "print(f'Standalone DDPM PSNR: {psnr_dip}, SSIM: {ssim_dip}')\n",
        "psnr_dip = psnr(test_images[0].squeeze().detach().cpu().numpy(), intergrate_image[0].squeeze().detach().cpu().numpy())\n",
        "ssim_dip = ssim(test_images[0].squeeze().detach().cpu().numpy(), intergrate_image[0].squeeze().detach().cpu().numpy())\n",
        "print(f'Integrate PSNR: {psnr_dip}, SSIM: {ssim_dip}')\n"
      ],
      "metadata": {
        "colab": {
          "base_uri": "https://localhost:8080/"
        },
        "id": "ZnjA5-XLbIfd",
        "outputId": "97aae5d5-2381-42a4-dc00-039df2910b4b"
      },
      "execution_count": 20,
      "outputs": [
        {
          "output_type": "stream",
          "name": "stdout",
          "text": [
            "Standalone DIP PSNR: 16.754250384336654, SSIM: 0.6428596466502621\n",
            "Standalone DDPM PSNR: 22.615236886263656, SSIM: 0.8996644555668015\n",
            "Integrate PSNR: 18.702268753360393, SSIM: 0.732189503136622\n"
          ]
        }
      ]
    }
  ]
}