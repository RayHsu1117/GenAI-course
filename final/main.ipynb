{
 "cells": [
  {
   "cell_type": "code",
   "execution_count": 1,
   "metadata": {},
   "outputs": [
    {
     "name": "stderr",
     "output_type": "stream",
     "text": [
      "c:\\Users\\amtom\\AppData\\Local\\Programs\\Python\\Python310\\lib\\site-packages\\tqdm\\auto.py:21: TqdmWarning: IProgress not found. Please update jupyter and ipywidgets. See https://ipywidgets.readthedocs.io/en/stable/user_install.html\n",
      "  from .autonotebook import tqdm as notebook_tqdm\n"
     ]
    }
   ],
   "source": [
    "import os\n",
    "import random\n",
    "import torch\n",
    "import numpy as np\n",
    "import pandas as pd\n",
    "import torch.nn as nn\n",
    "from ignite.metrics import Rouge\n",
    "from pandas.core.common import random_state\n",
    "from PIL import Image , ImageFilter\n",
    "from torch.optim import AdamW\n",
    "from torch.utils.data import Dataset, DataLoader\n",
    "from tqdm import tqdm\n",
    "from transformers import GPT2Tokenizer, VisionEncoderDecoderModel, ViTImageProcessor , BertTokenizer\n",
    "from typing import Any, Dict, List"
   ]
  },
  {
   "cell_type": "code",
   "execution_count": 2,
   "metadata": {},
   "outputs": [],
   "source": [
    "seed = 48763\n",
    "\n",
    "np.random.seed(seed=seed, )\n",
    "\n",
    "random_state(state=seed, )\n",
    "\n",
    "random.seed(a=seed, )\n",
    "\n",
    "torch.manual_seed(seed=seed, )\n",
    "torch.cuda.manual_seed(seed=seed, )\n",
    "torch.cuda.manual_seed_all(seed=seed, )\n",
    "torch.backends.cudnn.benchmark = False\n",
    "torch.backends.cudnn.deterministic = True"
   ]
  },
  {
   "cell_type": "code",
   "execution_count": 3,
   "metadata": {},
   "outputs": [
    {
     "name": "stderr",
     "output_type": "stream",
     "text": [
      "c:\\Users\\amtom\\AppData\\Local\\Programs\\Python\\Python310\\lib\\site-packages\\torch\\_utils.py:831: UserWarning: TypedStorage is deprecated. It will be removed in the future and UntypedStorage will be the only storage class. This should only matter to you if you are using storages directly.  To access UntypedStorage directly, use tensor.untyped_storage() instead of tensor.storage()\n",
      "  return self.fget.__get__(instance, owner)()\n",
      "Some weights of ViTModel were not initialized from the model checkpoint at nickmuchi/vit-finetuned-chest-xray-pneumonia and are newly initialized: ['vit.pooler.dense.bias', 'vit.pooler.dense.weight']\n",
      "You should probably TRAIN this model on a down-stream task to be able to use it for predictions and inference.\n",
      "Some weights of BertLMHeadModel were not initialized from the model checkpoint at bert-base-cased and are newly initialized: ['bert.encoder.layer.0.crossattention.output.LayerNorm.bias', 'bert.encoder.layer.0.crossattention.output.LayerNorm.weight', 'bert.encoder.layer.0.crossattention.output.dense.bias', 'bert.encoder.layer.0.crossattention.output.dense.weight', 'bert.encoder.layer.0.crossattention.self.key.bias', 'bert.encoder.layer.0.crossattention.self.key.weight', 'bert.encoder.layer.0.crossattention.self.query.bias', 'bert.encoder.layer.0.crossattention.self.query.weight', 'bert.encoder.layer.0.crossattention.self.value.bias', 'bert.encoder.layer.0.crossattention.self.value.weight', 'bert.encoder.layer.1.crossattention.output.LayerNorm.bias', 'bert.encoder.layer.1.crossattention.output.LayerNorm.weight', 'bert.encoder.layer.1.crossattention.output.dense.bias', 'bert.encoder.layer.1.crossattention.output.dense.weight', 'bert.encoder.layer.1.crossattention.self.key.bias', 'bert.encoder.layer.1.crossattention.self.key.weight', 'bert.encoder.layer.1.crossattention.self.query.bias', 'bert.encoder.layer.1.crossattention.self.query.weight', 'bert.encoder.layer.1.crossattention.self.value.bias', 'bert.encoder.layer.1.crossattention.self.value.weight', 'bert.encoder.layer.10.crossattention.output.LayerNorm.bias', 'bert.encoder.layer.10.crossattention.output.LayerNorm.weight', 'bert.encoder.layer.10.crossattention.output.dense.bias', 'bert.encoder.layer.10.crossattention.output.dense.weight', 'bert.encoder.layer.10.crossattention.self.key.bias', 'bert.encoder.layer.10.crossattention.self.key.weight', 'bert.encoder.layer.10.crossattention.self.query.bias', 'bert.encoder.layer.10.crossattention.self.query.weight', 'bert.encoder.layer.10.crossattention.self.value.bias', 'bert.encoder.layer.10.crossattention.self.value.weight', 'bert.encoder.layer.11.crossattention.output.LayerNorm.bias', 'bert.encoder.layer.11.crossattention.output.LayerNorm.weight', 'bert.encoder.layer.11.crossattention.output.dense.bias', 'bert.encoder.layer.11.crossattention.output.dense.weight', 'bert.encoder.layer.11.crossattention.self.key.bias', 'bert.encoder.layer.11.crossattention.self.key.weight', 'bert.encoder.layer.11.crossattention.self.query.bias', 'bert.encoder.layer.11.crossattention.self.query.weight', 'bert.encoder.layer.11.crossattention.self.value.bias', 'bert.encoder.layer.11.crossattention.self.value.weight', 'bert.encoder.layer.2.crossattention.output.LayerNorm.bias', 'bert.encoder.layer.2.crossattention.output.LayerNorm.weight', 'bert.encoder.layer.2.crossattention.output.dense.bias', 'bert.encoder.layer.2.crossattention.output.dense.weight', 'bert.encoder.layer.2.crossattention.self.key.bias', 'bert.encoder.layer.2.crossattention.self.key.weight', 'bert.encoder.layer.2.crossattention.self.query.bias', 'bert.encoder.layer.2.crossattention.self.query.weight', 'bert.encoder.layer.2.crossattention.self.value.bias', 'bert.encoder.layer.2.crossattention.self.value.weight', 'bert.encoder.layer.3.crossattention.output.LayerNorm.bias', 'bert.encoder.layer.3.crossattention.output.LayerNorm.weight', 'bert.encoder.layer.3.crossattention.output.dense.bias', 'bert.encoder.layer.3.crossattention.output.dense.weight', 'bert.encoder.layer.3.crossattention.self.key.bias', 'bert.encoder.layer.3.crossattention.self.key.weight', 'bert.encoder.layer.3.crossattention.self.query.bias', 'bert.encoder.layer.3.crossattention.self.query.weight', 'bert.encoder.layer.3.crossattention.self.value.bias', 'bert.encoder.layer.3.crossattention.self.value.weight', 'bert.encoder.layer.4.crossattention.output.LayerNorm.bias', 'bert.encoder.layer.4.crossattention.output.LayerNorm.weight', 'bert.encoder.layer.4.crossattention.output.dense.bias', 'bert.encoder.layer.4.crossattention.output.dense.weight', 'bert.encoder.layer.4.crossattention.self.key.bias', 'bert.encoder.layer.4.crossattention.self.key.weight', 'bert.encoder.layer.4.crossattention.self.query.bias', 'bert.encoder.layer.4.crossattention.self.query.weight', 'bert.encoder.layer.4.crossattention.self.value.bias', 'bert.encoder.layer.4.crossattention.self.value.weight', 'bert.encoder.layer.5.crossattention.output.LayerNorm.bias', 'bert.encoder.layer.5.crossattention.output.LayerNorm.weight', 'bert.encoder.layer.5.crossattention.output.dense.bias', 'bert.encoder.layer.5.crossattention.output.dense.weight', 'bert.encoder.layer.5.crossattention.self.key.bias', 'bert.encoder.layer.5.crossattention.self.key.weight', 'bert.encoder.layer.5.crossattention.self.query.bias', 'bert.encoder.layer.5.crossattention.self.query.weight', 'bert.encoder.layer.5.crossattention.self.value.bias', 'bert.encoder.layer.5.crossattention.self.value.weight', 'bert.encoder.layer.6.crossattention.output.LayerNorm.bias', 'bert.encoder.layer.6.crossattention.output.LayerNorm.weight', 'bert.encoder.layer.6.crossattention.output.dense.bias', 'bert.encoder.layer.6.crossattention.output.dense.weight', 'bert.encoder.layer.6.crossattention.self.key.bias', 'bert.encoder.layer.6.crossattention.self.key.weight', 'bert.encoder.layer.6.crossattention.self.query.bias', 'bert.encoder.layer.6.crossattention.self.query.weight', 'bert.encoder.layer.6.crossattention.self.value.bias', 'bert.encoder.layer.6.crossattention.self.value.weight', 'bert.encoder.layer.7.crossattention.output.LayerNorm.bias', 'bert.encoder.layer.7.crossattention.output.LayerNorm.weight', 'bert.encoder.layer.7.crossattention.output.dense.bias', 'bert.encoder.layer.7.crossattention.output.dense.weight', 'bert.encoder.layer.7.crossattention.self.key.bias', 'bert.encoder.layer.7.crossattention.self.key.weight', 'bert.encoder.layer.7.crossattention.self.query.bias', 'bert.encoder.layer.7.crossattention.self.query.weight', 'bert.encoder.layer.7.crossattention.self.value.bias', 'bert.encoder.layer.7.crossattention.self.value.weight', 'bert.encoder.layer.8.crossattention.output.LayerNorm.bias', 'bert.encoder.layer.8.crossattention.output.LayerNorm.weight', 'bert.encoder.layer.8.crossattention.output.dense.bias', 'bert.encoder.layer.8.crossattention.output.dense.weight', 'bert.encoder.layer.8.crossattention.self.key.bias', 'bert.encoder.layer.8.crossattention.self.key.weight', 'bert.encoder.layer.8.crossattention.self.query.bias', 'bert.encoder.layer.8.crossattention.self.query.weight', 'bert.encoder.layer.8.crossattention.self.value.bias', 'bert.encoder.layer.8.crossattention.self.value.weight', 'bert.encoder.layer.9.crossattention.output.LayerNorm.bias', 'bert.encoder.layer.9.crossattention.output.LayerNorm.weight', 'bert.encoder.layer.9.crossattention.output.dense.bias', 'bert.encoder.layer.9.crossattention.output.dense.weight', 'bert.encoder.layer.9.crossattention.self.key.bias', 'bert.encoder.layer.9.crossattention.self.key.weight', 'bert.encoder.layer.9.crossattention.self.query.bias', 'bert.encoder.layer.9.crossattention.self.query.weight', 'bert.encoder.layer.9.crossattention.self.value.bias', 'bert.encoder.layer.9.crossattention.self.value.weight']\n",
      "You should probably TRAIN this model on a down-stream task to be able to use it for predictions and inference.\n"
     ]
    },
    {
     "name": "stdout",
     "output_type": "stream",
     "text": [
      "['[UNK]', '[SEP]', '[PAD]', '[CLS]', '[MASK]']\n"
     ]
    }
   ],
   "source": [
    "device = \"cuda\" if torch.cuda.is_available() else \"cpu\"\n",
    "\n",
    "model = VisionEncoderDecoderModel.from_encoder_decoder_pretrained(\"nickmuchi/vit-finetuned-chest-xray-pneumonia\", \"bert-base-cased\").to(device)\n",
    "######################################################## bert based model\n",
    "tokenizer = BertTokenizer.from_pretrained(############## bert based model\n",
    "    \"bert-base-cased\" , cache_dir= '/cache'\n",
    ")\n",
    "\n",
    "print(tokenizer.all_special_tokens)\n",
    "\n",
    "tokenizer.add_special_tokens({\n",
    "    \"bos_token\": \"[beginoftext]\",\n",
    "    \"pad_token\": \"[PAD]\",\n",
    "    \"eos_token\": \"[EOS]\",\n",
    "})\n",
    "\n",
    "tokenizer.bos_token_id = 400404\n",
    "\n",
    "model.config.decoder_start_token_id = tokenizer.bos_token_id\n",
    "model.generation_config.decoder_start_token_id = tokenizer.bos_token_id\n",
    "model.config.pad_token_id = tokenizer.pad_token_id\n",
    "\n",
    "model.decoder.resize_token_embeddings(len(tokenizer))\n",
    "processor = ViTImageProcessor.from_pretrained(\"nickmuchi/vit-finetuned-chest-xray-pneumonia\" , cache_dir='/cache')"
   ]
  },
  {
   "cell_type": "code",
   "execution_count": 4,
   "metadata": {},
   "outputs": [],
   "source": [
    "class CXIRGDataset(Dataset):\n",
    "    def __init__(self, data: List[Dict[str, Any]]) -> None:\n",
    "        super(CXIRGDataset, self).__init__()\n",
    "        self.data = data\n",
    "\n",
    "    def __getitem__(self, index: int) -> Dict[str, Any]:\n",
    "        return self.data[index]\n",
    "\n",
    "    def __len__(self) -> int:\n",
    "        return len(self.data)"
   ]
  },
  {
   "cell_type": "code",
   "execution_count": 5,
   "metadata": {},
   "outputs": [],
   "source": [
    "max_length = 256\n",
    "\n",
    "def train_dl_collate_fn(one_batch_data: List[Dict[str, Any]]):\n",
    "    names = [one_data[\"name\"] for one_data in one_batch_data]\n",
    "\n",
    "    pixel_values = processor(\n",
    "        images=[one_data[\"image\"] for one_data in one_batch_data], \n",
    "        return_tensors=\"pt\"\n",
    "    ).pixel_values\n",
    "\n",
    "    label_ids = tokenizer.batch_encode_plus(\n",
    "        batch_text_or_text_pairs=[\n",
    "            (tokenizer.bos_token + one_data[\"text\"] + tokenizer.eos_token) for one_data in one_batch_data\n",
    "        ],\n",
    "        max_length=max_length,\n",
    "        padding=\"max_length\",\n",
    "        truncation=True,\n",
    "        return_tensors=\"pt\"\n",
    "    ).input_ids\n",
    "\n",
    "    return names, pixel_values.to(device), label_ids.to(device)\n",
    "\n",
    "def valid_dl_collate_fn(one_batch_data: List[Dict[str, Any]]):\n",
    "    names = [one_data[\"name\"] for one_data in one_batch_data]\n",
    "\n",
    "    pixel_values = processor(\n",
    "        images=[one_data[\"image\"] for one_data in one_batch_data], \n",
    "        return_tensors=\"pt\"\n",
    "    ).pixel_values\n",
    "\n",
    "    label_ids = tokenizer.batch_encode_plus(\n",
    "        batch_text_or_text_pairs=[\n",
    "            (tokenizer.bos_token + one_data[\"text\"] + tokenizer.eos_token) for one_data in one_batch_data\n",
    "        ],\n",
    "        max_length=max_length,\n",
    "        padding=\"max_length\",\n",
    "        truncation=True,\n",
    "        return_tensors=\"pt\"\n",
    "    ).input_ids\n",
    "\n",
    "    return names, pixel_values.to(device), label_ids.to(device)"
   ]
  },
  {
   "cell_type": "code",
   "execution_count": 6,
   "metadata": {},
   "outputs": [],
   "source": [
    "train_data = []\n",
    "\n",
    "report_path = \"data/train_data/reports.xlsx\"\n",
    "report_df = pd.read_excel(report_path)\n",
    "\n",
    "image_dir_path = \"data/train_data/images\"\n",
    "for image_name in os.listdir(image_dir_path):\n",
    "    image = Image.open(os.path.join(image_dir_path, image_name))\n",
    "    image= image.filter(ImageFilter.DETAIL)############################################################ additional operation: image filter\n",
    "    image_array = np.array(image).astype(np.float32)################################################### additional operation: normalize\n",
    "    normalized_array = (image_array - np.min(image_array)) / (np.max(image_array) - np.min(image_array))\n",
    "    image = Image.fromarray((normalized_array * 255).astype(np.uint8))\n",
    "    if image.mode != \"RGB\":\n",
    "        image = image.convert(\"RGB\")\n",
    "\n",
    "    text = report_df[report_df[\"name\"] == image_name[:13]][\"text\"].values[0].replace(\"_x000D_\", \"\\r\")\n",
    "\n",
    "    train_data.append({\n",
    "        \"name\": image_name[:13],\n",
    "        \"image\": image,\n",
    "        \"text\": text\n",
    "    })\n",
    "\n",
    "train_dataset = CXIRGDataset(train_data)"
   ]
  },
  {
   "cell_type": "code",
   "execution_count": 7,
   "metadata": {},
   "outputs": [],
   "source": [
    "valid_data = []\n",
    "\n",
    "report_path = \"data/valid_data/reports.xlsx\"\n",
    "report_df = pd.read_excel(report_path)\n",
    "\n",
    "image_dir_path = \"data/valid_data/images\"\n",
    "for image_name in os.listdir(image_dir_path):\n",
    "    image = Image.open(os.path.join(image_dir_path, image_name))\n",
    "    image= image.filter(ImageFilter.DETAIL)############################################################ additional operation: image filter\n",
    "    image_array = np.array(image).astype(np.float32)################################################### additional operation: normalize\n",
    "    normalized_array = (image_array - np.min(image_array)) / (np.max(image_array) - np.min(image_array))\n",
    "    image = Image.fromarray((normalized_array * 255).astype(np.uint8))\n",
    "    if image.mode != \"RGB\":\n",
    "        image = image.convert(\"RGB\")\n",
    "\n",
    "    text = report_df[report_df[\"name\"] == image_name[:13]][\"text\"].values[0].replace(\"_x000D_\", \"\\r\")\n",
    "\n",
    "    valid_data.append({\n",
    "        \"name\": image_name[:13],\n",
    "        \"image\": image,\n",
    "        \"text\": text\n",
    "    })\n",
    "\n",
    "valid_dataset = CXIRGDataset(valid_data)"
   ]
  },
  {
   "cell_type": "code",
   "execution_count": 8,
   "metadata": {},
   "outputs": [],
   "source": [
    "lr = 1e-5\n",
    "epochs = 30\n",
    "optimizer = AdamW(params=model.parameters(), lr=lr)\n",
    "\n",
    "train_batch_size = 1\n",
    "valid_batch_size = 1\n",
    "train_dataloader = DataLoader(\n",
    "    dataset=train_dataset,\n",
    "    batch_size=train_batch_size,\n",
    "    shuffle=True,\n",
    "    collate_fn=train_dl_collate_fn\n",
    ")\n",
    "valid_dataloader = DataLoader(\n",
    "    dataset=valid_dataset,\n",
    "    batch_size=valid_batch_size,\n",
    "    shuffle=False,\n",
    "    collate_fn=valid_dl_collate_fn\n",
    ")\n",
    "\n",
    "rouge = Rouge(variants=[\"L\", 2], multiref=\"best\")"
   ]
  },
  {
   "cell_type": "code",
   "execution_count": 9,
   "metadata": {},
   "outputs": [],
   "source": [
    "def evaluate(model: VisionEncoderDecoderModel, epoch: int) -> Dict[str, float]:\n",
    "    model.eval()\n",
    "\n",
    "    pbar = tqdm(valid_dataloader)\n",
    "    pbar.set_description(f\"Evaluting Epoch: {epoch + 1}\")\n",
    "\n",
    "    with torch.no_grad():\n",
    "        for names, pixel_values, label_ids in pbar:\n",
    "            predictions = model.generate(pixel_values)\n",
    "\n",
    "            _predictions = tokenizer.batch_decode(\n",
    "                predictions,\n",
    "                skip_special_tokens=True\n",
    "            )\n",
    "\n",
    "            _labels = tokenizer.batch_decode(\n",
    "                label_ids,\n",
    "                skip_special_tokens=True\n",
    "            )\n",
    "\n",
    "            print(f\"Names      : {names}\")\n",
    "            print(f\"Predictions: {_predictions}\")\n",
    "            print(f\"Labels     : {_labels}\")\n",
    "            print()\n",
    "\n",
    "            for _prediction, _label in zip(_predictions, _labels):\n",
    "                split_prediction = _prediction.split()\n",
    "                split_label = _label.split()\n",
    "\n",
    "                rouge.update(([split_prediction], [[split_label]]))\n",
    "\n",
    "    return rouge.compute()"
   ]
  },
  {
   "cell_type": "code",
   "execution_count": 10,
   "metadata": {},
   "outputs": [],
   "source": [
    "def generate_result(model: VisionEncoderDecoderModel, epoch: int) -> Dict[str, float]:\n",
    "    results = []\n",
    "    model.eval()\n",
    "\n",
    "    pbar = tqdm(valid_dataloader)\n",
    "    pbar.set_description(f\"Evaluting Epoch: {epoch + 1}\")\n",
    "\n",
    "    with torch.no_grad():\n",
    "        for names, pixel_values, label_ids in pbar:\n",
    "            predictions = model.generate(pixel_values)\n",
    "\n",
    "            _predictions = tokenizer.batch_decode(\n",
    "                predictions,\n",
    "                skip_special_tokens=True\n",
    "            )\n",
    "\n",
    "            _labels = tokenizer.batch_decode(\n",
    "                label_ids,\n",
    "                skip_special_tokens=True\n",
    "            )\n",
    "\n",
    "            print(f\"Names      : {names}\")\n",
    "            print(f\"Predictions: {_predictions}\")\n",
    "            print(f\"Labels     : {_labels}\")\n",
    "            results.append(_predictions)\n",
    "    return _predictions"
   ]
  },
  {
   "cell_type": "code",
   "execution_count": 11,
   "metadata": {},
   "outputs": [
    {
     "name": "stderr",
     "output_type": "stream",
     "text": [
      "Training Epoch [1 / 30]:   0%|          | 0/89 [00:00<?, ?it/s]We strongly recommend passing in an `attention_mask` since your input_ids may be padded. See https://huggingface.co/docs/transformers/troubleshooting#incorrect-output-when-padding-tokens-arent-masked.\n",
      "Training Epoch [1 / 30]: 100%|██████████| 89/89 [00:18<00:00,  4.86it/s, loss=2.99]\n",
      "Evaluting Epoch: 1:   0%|          | 0/10 [00:00<?, ?it/s]c:\\Users\\amtom\\AppData\\Local\\Programs\\Python\\Python310\\lib\\site-packages\\transformers\\generation\\utils.py:1178: UserWarning: Using the model-agnostic default `max_length` (=20) to control the generation length. We recommend setting `max_new_tokens` to control the maximum length of the generation.\n",
      "  warnings.warn(\n",
      "Evaluting Epoch: 1:  10%|█         | 1/10 [00:00<00:04,  1.89it/s]"
     ]
    },
    {
     "name": "stdout",
     "output_type": "stream",
     "text": [
      "Names      : ['NLP_CHEST_002']\n",
      "Predictions: ['']\n",
      "Labels     : ['Chest PA view shows : Partial atelectasis at left lower lung field. Left pleural effusion. Borderline heart size. Atherosclerotic change of aortic knob. S / P port - A implantation via left subclavian vein. Intraperitoneal port catheter. Surgical clips at RUQ of abdomen.']\n",
      "\n"
     ]
    },
    {
     "name": "stderr",
     "output_type": "stream",
     "text": [
      "Evaluting Epoch: 1:  20%|██        | 2/10 [00:01<00:03,  2.02it/s]"
     ]
    },
    {
     "name": "stdout",
     "output_type": "stream",
     "text": [
      "Names      : ['NLP_CHEST_004']\n",
      "Predictions: ['']\n",
      "Labels     : ['Chest PA view show : Impression : - S / P RLL wedge resection. - Bilateral lungs metastasis. - Left lower lung subsegmental atelectasis. - Increased infiltrations in both lungs. - Blunting right CP angle. - Tortuous atherosclerotic aorta. - Scoliosis, DJD and osteoporosis of spine. - Compression fracture of L1.']\n",
      "\n"
     ]
    },
    {
     "name": "stderr",
     "output_type": "stream",
     "text": [
      "Evaluting Epoch: 1:  30%|███       | 3/10 [00:01<00:03,  2.06it/s]"
     ]
    },
    {
     "name": "stdout",
     "output_type": "stream",
     "text": [
      "Names      : ['NLP_CHEST_011']\n",
      "Predictions: ['']\n",
      "Labels     : [\"Chest AP view showed : 1. s / p sternotomy and CABG. Enlarged heart size with tortuous aorta. 2. R't middle and lower lung faint patches. L't lower lung consolidation. L't pleural effusion. 3. No mediastinum widening. 4. s / p endotracheal tube and NG intubation.\"]\n",
      "\n"
     ]
    },
    {
     "name": "stderr",
     "output_type": "stream",
     "text": [
      "Evaluting Epoch: 1:  40%|████      | 4/10 [00:01<00:02,  2.15it/s]"
     ]
    },
    {
     "name": "stdout",
     "output_type": "stream",
     "text": [
      "Names      : ['NLP_CHEST_015']\n",
      "Predictions: ['']\n",
      "Labels     : ['Chest X ray : - No obvious lung mass nor consolidation patch. - Normal heart size. - No pleural effusion.']\n",
      "\n"
     ]
    },
    {
     "name": "stderr",
     "output_type": "stream",
     "text": [
      "Evaluting Epoch: 1:  50%|█████     | 5/10 [00:02<00:02,  2.15it/s]"
     ]
    },
    {
     "name": "stdout",
     "output_type": "stream",
     "text": [
      "Names      : ['NLP_CHEST_027']\n",
      "Predictions: ['']\n",
      "Labels     : ['Chest PA View : Impression : > Cardiomegaly with bilateral pulmonary congestion. > Postinflammatory fibrosis in both upper lungs. > Atherosclerosis of aorta. > Old fractures of left 5th and 6th ribs. > R / O osteoporosis. > Spondylosis of thoracolumbar spine. > S / P abdominal operation in RUQ.']\n",
      "\n"
     ]
    },
    {
     "name": "stderr",
     "output_type": "stream",
     "text": [
      "Evaluting Epoch: 1:  60%|██████    | 6/10 [00:02<00:01,  2.16it/s]"
     ]
    },
    {
     "name": "stdout",
     "output_type": "stream",
     "text": [
      "Names      : ['NLP_CHEST_031']\n",
      "Predictions: ['']\n",
      "Labels     : ['Chest PA view : Impression : - Increased both lung markings. - Compatible with right lung nodules. - Fibrotic lesion in left upper lung. - Normal heart size. Atherosclerotic aorta. - Suspect right pleural effusion. - Spondylosis. R / O osteoporosis. - Compatible with multiple bony metastases. - S / P NG and endotracheal tube. - S / P Lt subclavian Port - A - cath.']\n",
      "\n"
     ]
    },
    {
     "name": "stderr",
     "output_type": "stream",
     "text": [
      "Evaluting Epoch: 1:  70%|███████   | 7/10 [00:03<00:01,  2.18it/s]"
     ]
    },
    {
     "name": "stdout",
     "output_type": "stream",
     "text": [
      "Names      : ['NLP_CHEST_057']\n",
      "Predictions: ['']\n",
      "Labels     : ['Chest plain film shows : Impression : - Increased infiltrations in both lungs. - Tortuous atherosclerotic dilated aorta. - Normal heart size. - DJD of spine. Old fracture of right ribs. - Increased both lung markings. S / P Lt jugular CVC insertion. S / P NG and endotracheal tube. - Susp. Lt pneumothorax. Suspect pneumomediastinum. Subcutaneous emphysema in bilateral neck. - S / P bilateral chest tube insertion.']\n",
      "\n"
     ]
    },
    {
     "name": "stderr",
     "output_type": "stream",
     "text": [
      "Evaluting Epoch: 1:  80%|████████  | 8/10 [00:03<00:00,  2.21it/s]"
     ]
    },
    {
     "name": "stdout",
     "output_type": "stream",
     "text": [
      "Names      : ['NLP_CHEST_059']\n",
      "Predictions: ['']\n",
      "Labels     : ['Supine chest AP view shows : Pigtail catheter at right lower chest. Decreased amount of right pleural effusion. Air in the right lower pleural space. Poor lung expansion. Mild subcutaneous emphysema at right chest wall. Right pleural thickening. Ill - defined masses at right perihilar region. Normal heart size.']\n",
      "\n"
     ]
    },
    {
     "name": "stderr",
     "output_type": "stream",
     "text": [
      "Evaluting Epoch: 1:  90%|█████████ | 9/10 [00:04<00:00,  2.20it/s]"
     ]
    },
    {
     "name": "stdout",
     "output_type": "stream",
     "text": [
      "Names      : ['NLP_CHEST_071']\n",
      "Predictions: ['']\n",
      "Labels     : ['Chest film shows : Impression : - Bilateral lung infiltrations. - Suspect right lower lung patch. Blunting right CP angle. - Tortuous atherosclerotic aorta. - Scoliosis, DJD and osteoporosis of spine. Compression fracture of T12. Old fracture of left ribs. - S / P fixation in L - spine. - S / P tracheostomy and NG tube.']\n",
      "\n"
     ]
    },
    {
     "name": "stderr",
     "output_type": "stream",
     "text": [
      "Evaluting Epoch: 1: 100%|██████████| 10/10 [00:04<00:00,  2.16it/s]\n"
     ]
    },
    {
     "name": "stdout",
     "output_type": "stream",
     "text": [
      "Names      : ['NLP_CHEST_085']\n",
      "Predictions: ['']\n",
      "Labels     : ['Chest X ray : - Right pneumothorax with pleural effusion, status post drainge tube placement. - Extensive subcutaneous emphysema from neck to right side thoracic cage. - Increased right hilar opacity. - Atherosclerosis and tortuous aorta. - Obscured bilateral costophrenic angles. - Spondylosis and mild scoliosis of thoracolumbar spine. - OA of right glenohumeral joint. - Generalized osteopenia.']\n",
      "\n",
      "Rouge-2 score on epoch 0: {'Rouge-L-P': 0.0, 'Rouge-L-R': 0.0, 'Rouge-L-F': 0.0, 'Rouge-2-P': 0.0, 'Rouge-2-R': 0.0, 'Rouge-2-F': 0.0}\n"
     ]
    },
    {
     "name": "stderr",
     "output_type": "stream",
     "text": [
      "Training Epoch [2 / 30]: 100%|██████████| 89/89 [00:16<00:00,  5.29it/s, loss=1.74]\n",
      "Evaluting Epoch: 2:  10%|█         | 1/10 [00:00<00:04,  2.22it/s]"
     ]
    },
    {
     "name": "stdout",
     "output_type": "stream",
     "text": [
      "Names      : ['NLP_CHEST_002']\n",
      "Predictions: ['Chest plain plain plain plain plain plain plain plain plain plain plain plain plain plain plain plain plain']\n",
      "Labels     : ['Chest PA view shows : Partial atelectasis at left lower lung field. Left pleural effusion. Borderline heart size. Atherosclerotic change of aortic knob. S / P port - A implantation via left subclavian vein. Intraperitoneal port catheter. Surgical clips at RUQ of abdomen.']\n",
      "\n"
     ]
    },
    {
     "name": "stderr",
     "output_type": "stream",
     "text": [
      "Evaluting Epoch: 2:  20%|██        | 2/10 [00:00<00:03,  2.23it/s]"
     ]
    },
    {
     "name": "stdout",
     "output_type": "stream",
     "text": [
      "Names      : ['NLP_CHEST_004']\n",
      "Predictions: ['Chest plain plain plain plain plain plain plain plain plain plain plain plain plain plain plain plain plain']\n",
      "Labels     : ['Chest PA view show : Impression : - S / P RLL wedge resection. - Bilateral lungs metastasis. - Left lower lung subsegmental atelectasis. - Increased infiltrations in both lungs. - Blunting right CP angle. - Tortuous atherosclerotic aorta. - Scoliosis, DJD and osteoporosis of spine. - Compression fracture of L1.']\n",
      "\n"
     ]
    },
    {
     "name": "stderr",
     "output_type": "stream",
     "text": [
      "Evaluting Epoch: 2:  30%|███       | 3/10 [00:01<00:03,  2.11it/s]"
     ]
    },
    {
     "name": "stdout",
     "output_type": "stream",
     "text": [
      "Names      : ['NLP_CHEST_011']\n",
      "Predictions: ['Chest plain plain plain plain plain plain plain plain plain plain plain plain plain plain plain plain plain']\n",
      "Labels     : [\"Chest AP view showed : 1. s / p sternotomy and CABG. Enlarged heart size with tortuous aorta. 2. R't middle and lower lung faint patches. L't lower lung consolidation. L't pleural effusion. 3. No mediastinum widening. 4. s / p endotracheal tube and NG intubation.\"]\n",
      "\n"
     ]
    },
    {
     "name": "stderr",
     "output_type": "stream",
     "text": [
      "Evaluting Epoch: 2:  40%|████      | 4/10 [00:01<00:02,  2.13it/s]"
     ]
    },
    {
     "name": "stdout",
     "output_type": "stream",
     "text": [
      "Names      : ['NLP_CHEST_015']\n",
      "Predictions: ['Chest plain plain plain plain plain plain plain plain plain plain plain plain plain plain plain plain plain']\n",
      "Labels     : ['Chest X ray : - No obvious lung mass nor consolidation patch. - Normal heart size. - No pleural effusion.']\n",
      "\n"
     ]
    },
    {
     "name": "stderr",
     "output_type": "stream",
     "text": [
      "Evaluting Epoch: 2:  50%|█████     | 5/10 [00:02<00:02,  2.19it/s]"
     ]
    },
    {
     "name": "stdout",
     "output_type": "stream",
     "text": [
      "Names      : ['NLP_CHEST_027']\n",
      "Predictions: ['Chest plain plain plain plain plain plain plain plain plain plain plain plain plain plain plain plain plain']\n",
      "Labels     : ['Chest PA View : Impression : > Cardiomegaly with bilateral pulmonary congestion. > Postinflammatory fibrosis in both upper lungs. > Atherosclerosis of aorta. > Old fractures of left 5th and 6th ribs. > R / O osteoporosis. > Spondylosis of thoracolumbar spine. > S / P abdominal operation in RUQ.']\n",
      "\n"
     ]
    },
    {
     "name": "stderr",
     "output_type": "stream",
     "text": [
      "Evaluting Epoch: 2:  60%|██████    | 6/10 [00:02<00:01,  2.19it/s]"
     ]
    },
    {
     "name": "stdout",
     "output_type": "stream",
     "text": [
      "Names      : ['NLP_CHEST_031']\n",
      "Predictions: ['Chest plain plain plain plain plain plain plain plain plain plain plain plain plain plain plain plain plain']\n",
      "Labels     : ['Chest PA view : Impression : - Increased both lung markings. - Compatible with right lung nodules. - Fibrotic lesion in left upper lung. - Normal heart size. Atherosclerotic aorta. - Suspect right pleural effusion. - Spondylosis. R / O osteoporosis. - Compatible with multiple bony metastases. - S / P NG and endotracheal tube. - S / P Lt subclavian Port - A - cath.']\n",
      "\n"
     ]
    },
    {
     "name": "stderr",
     "output_type": "stream",
     "text": [
      "Evaluting Epoch: 2:  70%|███████   | 7/10 [00:03<00:01,  2.19it/s]"
     ]
    },
    {
     "name": "stdout",
     "output_type": "stream",
     "text": [
      "Names      : ['NLP_CHEST_057']\n",
      "Predictions: ['Chest plain plain plain plain plain plain plain plain plain plain plain plain plain plain plain plain plain']\n",
      "Labels     : ['Chest plain film shows : Impression : - Increased infiltrations in both lungs. - Tortuous atherosclerotic dilated aorta. - Normal heart size. - DJD of spine. Old fracture of right ribs. - Increased both lung markings. S / P Lt jugular CVC insertion. S / P NG and endotracheal tube. - Susp. Lt pneumothorax. Suspect pneumomediastinum. Subcutaneous emphysema in bilateral neck. - S / P bilateral chest tube insertion.']\n",
      "\n"
     ]
    },
    {
     "name": "stderr",
     "output_type": "stream",
     "text": [
      "Evaluting Epoch: 2:  80%|████████  | 8/10 [00:03<00:00,  2.20it/s]"
     ]
    },
    {
     "name": "stdout",
     "output_type": "stream",
     "text": [
      "Names      : ['NLP_CHEST_059']\n",
      "Predictions: ['Chest plain plain plain plain plain plain plain plain plain plain plain plain plain plain plain plain plain']\n",
      "Labels     : ['Supine chest AP view shows : Pigtail catheter at right lower chest. Decreased amount of right pleural effusion. Air in the right lower pleural space. Poor lung expansion. Mild subcutaneous emphysema at right chest wall. Right pleural thickening. Ill - defined masses at right perihilar region. Normal heart size.']\n",
      "\n"
     ]
    },
    {
     "name": "stderr",
     "output_type": "stream",
     "text": [
      "Evaluting Epoch: 2:  90%|█████████ | 9/10 [00:04<00:00,  2.23it/s]"
     ]
    },
    {
     "name": "stdout",
     "output_type": "stream",
     "text": [
      "Names      : ['NLP_CHEST_071']\n",
      "Predictions: ['Chest plain plain plain plain plain plain plain plain plain plain plain plain plain plain plain plain plain']\n",
      "Labels     : ['Chest film shows : Impression : - Bilateral lung infiltrations. - Suspect right lower lung patch. Blunting right CP angle. - Tortuous atherosclerotic aorta. - Scoliosis, DJD and osteoporosis of spine. Compression fracture of T12. Old fracture of left ribs. - S / P fixation in L - spine. - S / P tracheostomy and NG tube.']\n",
      "\n"
     ]
    },
    {
     "name": "stderr",
     "output_type": "stream",
     "text": [
      "Evaluting Epoch: 2: 100%|██████████| 10/10 [00:04<00:00,  2.18it/s]\n"
     ]
    },
    {
     "name": "stdout",
     "output_type": "stream",
     "text": [
      "Names      : ['NLP_CHEST_085']\n",
      "Predictions: ['Chest plain plain plain plain plain plain plain plain plain plain plain plain plain plain plain plain plain']\n",
      "Labels     : ['Chest X ray : - Right pneumothorax with pleural effusion, status post drainge tube placement. - Extensive subcutaneous emphysema from neck to right side thoracic cage. - Increased right hilar opacity. - Atherosclerosis and tortuous aorta. - Obscured bilateral costophrenic angles. - Spondylosis and mild scoliosis of thoracolumbar spine. - OA of right glenohumeral joint. - Generalized osteopenia.']\n",
      "\n",
      "Rouge-2 score on epoch 1: {'Rouge-L-P': 0.02777777777777778, 'Rouge-L-R': 0.010676252444144274, 'Rouge-L-F': 0.010676252444144274, 'Rouge-2-P': 0.0029411764705882353, 'Rouge-2-R': 0.0007352941176470588, 'Rouge-2-F': 0.0007352941176470588}\n"
     ]
    },
    {
     "name": "stderr",
     "output_type": "stream",
     "text": [
      "Training Epoch [3 / 30]: 100%|██████████| 89/89 [00:17<00:00,  5.22it/s, loss=1.2] \n",
      "Evaluting Epoch: 3:  10%|█         | 1/10 [00:00<00:03,  2.31it/s]"
     ]
    },
    {
     "name": "stdout",
     "output_type": "stream",
     "text": [
      "Names      : ['NLP_CHEST_002']\n",
      "Predictions: ['Chest plain shows : Impression : - - - - - - Increased']\n",
      "Labels     : ['Chest PA view shows : Partial atelectasis at left lower lung field. Left pleural effusion. Borderline heart size. Atherosclerotic change of aortic knob. S / P port - A implantation via left subclavian vein. Intraperitoneal port catheter. Surgical clips at RUQ of abdomen.']\n",
      "\n"
     ]
    },
    {
     "name": "stderr",
     "output_type": "stream",
     "text": [
      "Evaluting Epoch: 3:  20%|██        | 2/10 [00:00<00:03,  2.28it/s]"
     ]
    },
    {
     "name": "stdout",
     "output_type": "stream",
     "text": [
      "Names      : ['NLP_CHEST_004']\n",
      "Predictions: ['Chest plain shows : Impression : - - - - - Increased in']\n",
      "Labels     : ['Chest PA view show : Impression : - S / P RLL wedge resection. - Bilateral lungs metastasis. - Left lower lung subsegmental atelectasis. - Increased infiltrations in both lungs. - Blunting right CP angle. - Tortuous atherosclerotic aorta. - Scoliosis, DJD and osteoporosis of spine. - Compression fracture of L1.']\n",
      "\n"
     ]
    },
    {
     "name": "stderr",
     "output_type": "stream",
     "text": [
      "Evaluting Epoch: 3:  30%|███       | 3/10 [00:01<00:03,  2.19it/s]"
     ]
    },
    {
     "name": "stdout",
     "output_type": "stream",
     "text": [
      "Names      : ['NLP_CHEST_011']\n",
      "Predictions: ['Chest plain shows : Impression : - - - - Increased infi']\n",
      "Labels     : [\"Chest AP view showed : 1. s / p sternotomy and CABG. Enlarged heart size with tortuous aorta. 2. R't middle and lower lung faint patches. L't lower lung consolidation. L't pleural effusion. 3. No mediastinum widening. 4. s / p endotracheal tube and NG intubation.\"]\n",
      "\n"
     ]
    },
    {
     "name": "stderr",
     "output_type": "stream",
     "text": [
      "Evaluting Epoch: 3:  40%|████      | 4/10 [00:01<00:02,  2.18it/s]"
     ]
    },
    {
     "name": "stdout",
     "output_type": "stream",
     "text": [
      "Names      : ['NLP_CHEST_015']\n",
      "Predictions: ['Chest plain shows : Impression : - - - - - - - -']\n",
      "Labels     : ['Chest X ray : - No obvious lung mass nor consolidation patch. - Normal heart size. - No pleural effusion.']\n",
      "\n"
     ]
    },
    {
     "name": "stderr",
     "output_type": "stream",
     "text": [
      "Evaluting Epoch: 3:  50%|█████     | 5/10 [00:02<00:02,  2.21it/s]"
     ]
    },
    {
     "name": "stdout",
     "output_type": "stream",
     "text": [
      "Names      : ['NLP_CHEST_027']\n",
      "Predictions: ['Chest plain shows : Impression : - - - - - Increased in']\n",
      "Labels     : ['Chest PA View : Impression : > Cardiomegaly with bilateral pulmonary congestion. > Postinflammatory fibrosis in both upper lungs. > Atherosclerosis of aorta. > Old fractures of left 5th and 6th ribs. > R / O osteoporosis. > Spondylosis of thoracolumbar spine. > S / P abdominal operation in RUQ.']\n",
      "\n"
     ]
    },
    {
     "name": "stderr",
     "output_type": "stream",
     "text": [
      "Evaluting Epoch: 3:  60%|██████    | 6/10 [00:02<00:01,  2.20it/s]"
     ]
    },
    {
     "name": "stdout",
     "output_type": "stream",
     "text": [
      "Names      : ['NLP_CHEST_031']\n",
      "Predictions: ['Chest plain view : Impression : - - - Suspect bilateral bilateral lung']\n",
      "Labels     : ['Chest PA view : Impression : - Increased both lung markings. - Compatible with right lung nodules. - Fibrotic lesion in left upper lung. - Normal heart size. Atherosclerotic aorta. - Suspect right pleural effusion. - Spondylosis. R / O osteoporosis. - Compatible with multiple bony metastases. - S / P NG and endotracheal tube. - S / P Lt subclavian Port - A - cath.']\n",
      "\n"
     ]
    },
    {
     "name": "stderr",
     "output_type": "stream",
     "text": [
      "Evaluting Epoch: 3:  70%|███████   | 7/10 [00:03<00:01,  2.17it/s]"
     ]
    },
    {
     "name": "stdout",
     "output_type": "stream",
     "text": [
      "Names      : ['NLP_CHEST_057']\n",
      "Predictions: ['Chest plain shows : Impression : - - - - Increasedreased in']\n",
      "Labels     : ['Chest plain film shows : Impression : - Increased infiltrations in both lungs. - Tortuous atherosclerotic dilated aorta. - Normal heart size. - DJD of spine. Old fracture of right ribs. - Increased both lung markings. S / P Lt jugular CVC insertion. S / P NG and endotracheal tube. - Susp. Lt pneumothorax. Suspect pneumomediastinum. Subcutaneous emphysema in bilateral neck. - S / P bilateral chest tube insertion.']\n",
      "\n"
     ]
    },
    {
     "name": "stderr",
     "output_type": "stream",
     "text": [
      "Evaluting Epoch: 3:  80%|████████  | 8/10 [00:03<00:00,  2.22it/s]"
     ]
    },
    {
     "name": "stdout",
     "output_type": "stream",
     "text": [
      "Names      : ['NLP_CHEST_059']\n",
      "Predictions: ['Chest plain shows : Impression : - - - - - Increased in']\n",
      "Labels     : ['Supine chest AP view shows : Pigtail catheter at right lower chest. Decreased amount of right pleural effusion. Air in the right lower pleural space. Poor lung expansion. Mild subcutaneous emphysema at right chest wall. Right pleural thickening. Ill - defined masses at right perihilar region. Normal heart size.']\n",
      "\n"
     ]
    },
    {
     "name": "stderr",
     "output_type": "stream",
     "text": [
      "Evaluting Epoch: 3:  90%|█████████ | 9/10 [00:04<00:00,  2.20it/s]"
     ]
    },
    {
     "name": "stdout",
     "output_type": "stream",
     "text": [
      "Names      : ['NLP_CHEST_071']\n",
      "Predictions: ['Chestest plain plain plain plain plain plain plain plain plain plain plain plain plain']\n",
      "Labels     : ['Chest film shows : Impression : - Bilateral lung infiltrations. - Suspect right lower lung patch. Blunting right CP angle. - Tortuous atherosclerotic aorta. - Scoliosis, DJD and osteoporosis of spine. Compression fracture of T12. Old fracture of left ribs. - S / P fixation in L - spine. - S / P tracheostomy and NG tube.']\n",
      "\n"
     ]
    },
    {
     "name": "stderr",
     "output_type": "stream",
     "text": [
      "Evaluting Epoch: 3: 100%|██████████| 10/10 [00:04<00:00,  2.20it/s]\n"
     ]
    },
    {
     "name": "stdout",
     "output_type": "stream",
     "text": [
      "Names      : ['NLP_CHEST_085']\n",
      "Predictions: ['Chestest plain plain plain plain plain plain plain plain plain plain plain plain plain']\n",
      "Labels     : ['Chest X ray : - Right pneumothorax with pleural effusion, status post drainge tube placement. - Extensive subcutaneous emphysema from neck to right side thoracic cage. - Increased right hilar opacity. - Atherosclerosis and tortuous aorta. - Obscured bilateral costophrenic angles. - Spondylosis and mild scoliosis of thoracolumbar spine. - OA of right glenohumeral joint. - Generalized osteopenia.']\n",
      "\n",
      "Rouge-2 score on epoch 2: {'Rouge-L-P': 0.14602157102157104, 'Rouge-L-R': 0.041770447098452686, 'Rouge-L-F': 0.041770447098452686, 'Rouge-2-P': 0.05578751314045431, 'Rouge-2-R': 0.012774971122052059, 'Rouge-2-F': 0.012774971122052059}\n"
     ]
    },
    {
     "name": "stderr",
     "output_type": "stream",
     "text": [
      "Training Epoch [4 / 30]: 100%|██████████| 89/89 [00:17<00:00,  5.09it/s, loss=0.868]\n",
      "Evaluting Epoch: 4:  10%|█         | 1/10 [00:00<00:04,  2.01it/s]"
     ]
    },
    {
     "name": "stdout",
     "output_type": "stream",
     "text": [
      "Names      : ['NLP_CHEST_002']\n",
      "Predictions: ['Chest plain film shows : Impression : - - Increased infiltration']\n",
      "Labels     : ['Chest PA view shows : Partial atelectasis at left lower lung field. Left pleural effusion. Borderline heart size. Atherosclerotic change of aortic knob. S / P port - A implantation via left subclavian vein. Intraperitoneal port catheter. Surgical clips at RUQ of abdomen.']\n",
      "\n"
     ]
    },
    {
     "name": "stderr",
     "output_type": "stream",
     "text": [
      "Evaluting Epoch: 4:  20%|██        | 2/10 [00:00<00:03,  2.10it/s]"
     ]
    },
    {
     "name": "stdout",
     "output_type": "stream",
     "text": [
      "Names      : ['NLP_CHEST_004']\n",
      "Predictions: ['Chest plain film shows : Impression : - Increased infiltrations']\n",
      "Labels     : ['Chest PA view show : Impression : - S / P RLL wedge resection. - Bilateral lungs metastasis. - Left lower lung subsegmental atelectasis. - Increased infiltrations in both lungs. - Blunting right CP angle. - Tortuous atherosclerotic aorta. - Scoliosis, DJD and osteoporosis of spine. - Compression fracture of L1.']\n",
      "\n"
     ]
    },
    {
     "name": "stderr",
     "output_type": "stream",
     "text": [
      "Evaluting Epoch: 4:  30%|███       | 3/10 [00:01<00:03,  2.17it/s]"
     ]
    },
    {
     "name": "stdout",
     "output_type": "stream",
     "text": [
      "Names      : ['NLP_CHEST_011']\n",
      "Predictions: ['Chest plain film shows : Impression : - Increased infiltrations']\n",
      "Labels     : [\"Chest AP view showed : 1. s / p sternotomy and CABG. Enlarged heart size with tortuous aorta. 2. R't middle and lower lung faint patches. L't lower lung consolidation. L't pleural effusion. 3. No mediastinum widening. 4. s / p endotracheal tube and NG intubation.\"]\n",
      "\n"
     ]
    },
    {
     "name": "stderr",
     "output_type": "stream",
     "text": [
      "Evaluting Epoch: 4:  40%|████      | 4/10 [00:01<00:02,  2.12it/s]"
     ]
    },
    {
     "name": "stdout",
     "output_type": "stream",
     "text": [
      "Names      : ['NLP_CHEST_015']\n",
      "Predictions: ['Chest plain film shows : Impression : - - Increased infiltration']\n",
      "Labels     : ['Chest X ray : - No obvious lung mass nor consolidation patch. - Normal heart size. - No pleural effusion.']\n",
      "\n"
     ]
    },
    {
     "name": "stderr",
     "output_type": "stream",
     "text": [
      "Evaluting Epoch: 4:  50%|█████     | 5/10 [00:02<00:02,  2.09it/s]"
     ]
    },
    {
     "name": "stdout",
     "output_type": "stream",
     "text": [
      "Names      : ['NLP_CHEST_027']\n",
      "Predictions: ['Chest plain film shows : Impression : - - Increased infiltration']\n",
      "Labels     : ['Chest PA View : Impression : > Cardiomegaly with bilateral pulmonary congestion. > Postinflammatory fibrosis in both upper lungs. > Atherosclerosis of aorta. > Old fractures of left 5th and 6th ribs. > R / O osteoporosis. > Spondylosis of thoracolumbar spine. > S / P abdominal operation in RUQ.']\n",
      "\n"
     ]
    },
    {
     "name": "stderr",
     "output_type": "stream",
     "text": [
      "Evaluting Epoch: 4:  60%|██████    | 6/10 [00:02<00:01,  2.06it/s]"
     ]
    },
    {
     "name": "stdout",
     "output_type": "stream",
     "text": [
      "Names      : ['NLP_CHEST_031']\n",
      "Predictions: ['Chest plain film shows : Impression : - Increased infiltrations']\n",
      "Labels     : ['Chest PA view : Impression : - Increased both lung markings. - Compatible with right lung nodules. - Fibrotic lesion in left upper lung. - Normal heart size. Atherosclerotic aorta. - Suspect right pleural effusion. - Spondylosis. R / O osteoporosis. - Compatible with multiple bony metastases. - S / P NG and endotracheal tube. - S / P Lt subclavian Port - A - cath.']\n",
      "\n"
     ]
    },
    {
     "name": "stderr",
     "output_type": "stream",
     "text": [
      "Evaluting Epoch: 4:  70%|███████   | 7/10 [00:03<00:01,  2.11it/s]"
     ]
    },
    {
     "name": "stdout",
     "output_type": "stream",
     "text": [
      "Names      : ['NLP_CHEST_057']\n",
      "Predictions: ['Chest plain film shows : Impression : - Increased infiltrations']\n",
      "Labels     : ['Chest plain film shows : Impression : - Increased infiltrations in both lungs. - Tortuous atherosclerotic dilated aorta. - Normal heart size. - DJD of spine. Old fracture of right ribs. - Increased both lung markings. S / P Lt jugular CVC insertion. S / P NG and endotracheal tube. - Susp. Lt pneumothorax. Suspect pneumomediastinum. Subcutaneous emphysema in bilateral neck. - S / P bilateral chest tube insertion.']\n",
      "\n"
     ]
    },
    {
     "name": "stderr",
     "output_type": "stream",
     "text": [
      "Evaluting Epoch: 4:  80%|████████  | 8/10 [00:03<00:00,  2.17it/s]"
     ]
    },
    {
     "name": "stdout",
     "output_type": "stream",
     "text": [
      "Names      : ['NLP_CHEST_059']\n",
      "Predictions: ['Chest plain film shows : Impression : - - Increased infiltration']\n",
      "Labels     : ['Supine chest AP view shows : Pigtail catheter at right lower chest. Decreased amount of right pleural effusion. Air in the right lower pleural space. Poor lung expansion. Mild subcutaneous emphysema at right chest wall. Right pleural thickening. Ill - defined masses at right perihilar region. Normal heart size.']\n",
      "\n"
     ]
    },
    {
     "name": "stderr",
     "output_type": "stream",
     "text": [
      "Evaluting Epoch: 4:  90%|█████████ | 9/10 [00:04<00:00,  2.12it/s]"
     ]
    },
    {
     "name": "stdout",
     "output_type": "stream",
     "text": [
      "Names      : ['NLP_CHEST_071']\n",
      "Predictions: ['Chest plain film shows : Impression : - - Increased both lungs.']\n",
      "Labels     : ['Chest film shows : Impression : - Bilateral lung infiltrations. - Suspect right lower lung patch. Blunting right CP angle. - Tortuous atherosclerotic aorta. - Scoliosis, DJD and osteoporosis of spine. Compression fracture of T12. Old fracture of left ribs. - S / P fixation in L - spine. - S / P tracheostomy and NG tube.']\n",
      "\n"
     ]
    },
    {
     "name": "stderr",
     "output_type": "stream",
     "text": [
      "Evaluting Epoch: 4: 100%|██████████| 10/10 [00:04<00:00,  2.13it/s]\n"
     ]
    },
    {
     "name": "stdout",
     "output_type": "stream",
     "text": [
      "Names      : ['NLP_CHEST_085']\n",
      "Predictions: ['Chest plain film view : Impression : - Increased infiltrations']\n",
      "Labels     : ['Chest X ray : - Right pneumothorax with pleural effusion, status post drainge tube placement. - Extensive subcutaneous emphysema from neck to right side thoracic cage. - Increased right hilar opacity. - Atherosclerosis and tortuous aorta. - Obscured bilateral costophrenic angles. - Spondylosis and mild scoliosis of thoracolumbar spine. - OA of right glenohumeral joint. - Generalized osteopenia.']\n",
      "\n",
      "Rouge-2 score on epoch 3: {'Rouge-L-P': 0.232773754023754, 'Rouge-L-R': 0.057831183574228465, 'Rouge-L-F': 0.057831183574228465, 'Rouge-2-P': 0.12125982677453265, 'Rouge-2-R': 0.02349011831453229, 'Rouge-2-F': 0.02349011831453229}\n"
     ]
    },
    {
     "name": "stderr",
     "output_type": "stream",
     "text": [
      "Training Epoch [5 / 30]: 100%|██████████| 89/89 [00:17<00:00,  5.01it/s, loss=0.669]\n",
      "Evaluting Epoch: 5:  10%|█         | 1/10 [00:00<00:04,  2.12it/s]"
     ]
    },
    {
     "name": "stdout",
     "output_type": "stream",
     "text": [
      "Names      : ['NLP_CHEST_002']\n",
      "Predictions: ['Chest PA view shows : Impression : - Suspicious right upper lung']\n",
      "Labels     : ['Chest PA view shows : Partial atelectasis at left lower lung field. Left pleural effusion. Borderline heart size. Atherosclerotic change of aortic knob. S / P port - A implantation via left subclavian vein. Intraperitoneal port catheter. Surgical clips at RUQ of abdomen.']\n",
      "\n"
     ]
    },
    {
     "name": "stderr",
     "output_type": "stream",
     "text": [
      "Evaluting Epoch: 5:  20%|██        | 2/10 [00:00<00:03,  2.06it/s]"
     ]
    },
    {
     "name": "stdout",
     "output_type": "stream",
     "text": [
      "Names      : ['NLP_CHEST_004']\n",
      "Predictions: ['Chest AP view showed : Impression : - Suspect right upper lung patch']\n",
      "Labels     : ['Chest PA view show : Impression : - S / P RLL wedge resection. - Bilateral lungs metastasis. - Left lower lung subsegmental atelectasis. - Increased infiltrations in both lungs. - Blunting right CP angle. - Tortuous atherosclerotic aorta. - Scoliosis, DJD and osteoporosis of spine. - Compression fracture of L1.']\n",
      "\n"
     ]
    },
    {
     "name": "stderr",
     "output_type": "stream",
     "text": [
      "Evaluting Epoch: 5:  30%|███       | 3/10 [00:01<00:03,  2.05it/s]"
     ]
    },
    {
     "name": "stdout",
     "output_type": "stream",
     "text": [
      "Names      : ['NLP_CHEST_011']\n",
      "Predictions: ['Chest AP view showed : Impression : - Suspect right upper lung mass']\n",
      "Labels     : [\"Chest AP view showed : 1. s / p sternotomy and CABG. Enlarged heart size with tortuous aorta. 2. R't middle and lower lung faint patches. L't lower lung consolidation. L't pleural effusion. 3. No mediastinum widening. 4. s / p endotracheal tube and NG intubation.\"]\n",
      "\n"
     ]
    },
    {
     "name": "stderr",
     "output_type": "stream",
     "text": [
      "Evaluting Epoch: 5:  40%|████      | 4/10 [00:01<00:02,  2.07it/s]"
     ]
    },
    {
     "name": "stdout",
     "output_type": "stream",
     "text": [
      "Names      : ['NLP_CHEST_015']\n",
      "Predictions: ['Chest PA view showed : Impression : - Suspicious bilateral lung markings']\n",
      "Labels     : ['Chest X ray : - No obvious lung mass nor consolidation patch. - Normal heart size. - No pleural effusion.']\n",
      "\n"
     ]
    },
    {
     "name": "stderr",
     "output_type": "stream",
     "text": [
      "Evaluting Epoch: 5:  50%|█████     | 5/10 [00:02<00:02,  2.08it/s]"
     ]
    },
    {
     "name": "stdout",
     "output_type": "stream",
     "text": [
      "Names      : ['NLP_CHEST_027']\n",
      "Predictions: ['Chest AP view showed : Impression : - Suspect right upper lung patch']\n",
      "Labels     : ['Chest PA View : Impression : > Cardiomegaly with bilateral pulmonary congestion. > Postinflammatory fibrosis in both upper lungs. > Atherosclerosis of aorta. > Old fractures of left 5th and 6th ribs. > R / O osteoporosis. > Spondylosis of thoracolumbar spine. > S / P abdominal operation in RUQ.']\n",
      "\n"
     ]
    },
    {
     "name": "stderr",
     "output_type": "stream",
     "text": [
      "Evaluting Epoch: 5:  60%|██████    | 6/10 [00:02<00:01,  2.06it/s]"
     ]
    },
    {
     "name": "stdout",
     "output_type": "stream",
     "text": [
      "Names      : ['NLP_CHEST_031']\n",
      "Predictions: ['Chest AP view showed : Impression : - Suspect right upper lung mass']\n",
      "Labels     : ['Chest PA view : Impression : - Increased both lung markings. - Compatible with right lung nodules. - Fibrotic lesion in left upper lung. - Normal heart size. Atherosclerotic aorta. - Suspect right pleural effusion. - Spondylosis. R / O osteoporosis. - Compatible with multiple bony metastases. - S / P NG and endotracheal tube. - S / P Lt subclavian Port - A - cath.']\n",
      "\n"
     ]
    },
    {
     "name": "stderr",
     "output_type": "stream",
     "text": [
      "Evaluting Epoch: 5:  70%|███████   | 7/10 [00:03<00:01,  2.04it/s]"
     ]
    },
    {
     "name": "stdout",
     "output_type": "stream",
     "text": [
      "Names      : ['NLP_CHEST_057']\n",
      "Predictions: ['Chest AP view showed : Impression : - Suspect right upper lung mass']\n",
      "Labels     : ['Chest plain film shows : Impression : - Increased infiltrations in both lungs. - Tortuous atherosclerotic dilated aorta. - Normal heart size. - DJD of spine. Old fracture of right ribs. - Increased both lung markings. S / P Lt jugular CVC insertion. S / P NG and endotracheal tube. - Susp. Lt pneumothorax. Suspect pneumomediastinum. Subcutaneous emphysema in bilateral neck. - S / P bilateral chest tube insertion.']\n",
      "\n"
     ]
    },
    {
     "name": "stderr",
     "output_type": "stream",
     "text": [
      "Evaluting Epoch: 5:  80%|████████  | 8/10 [00:03<00:00,  2.07it/s]"
     ]
    },
    {
     "name": "stdout",
     "output_type": "stream",
     "text": [
      "Names      : ['NLP_CHEST_059']\n",
      "Predictions: ['Chest AP view showed : Impression : - Suspicious pulmonary edema']\n",
      "Labels     : ['Supine chest AP view shows : Pigtail catheter at right lower chest. Decreased amount of right pleural effusion. Air in the right lower pleural space. Poor lung expansion. Mild subcutaneous emphysema at right chest wall. Right pleural thickening. Ill - defined masses at right perihilar region. Normal heart size.']\n",
      "\n"
     ]
    },
    {
     "name": "stderr",
     "output_type": "stream",
     "text": [
      "Evaluting Epoch: 5:  90%|█████████ | 9/10 [00:04<00:00,  2.08it/s]"
     ]
    },
    {
     "name": "stdout",
     "output_type": "stream",
     "text": [
      "Names      : ['NLP_CHEST_071']\n",
      "Predictions: ['Chest plain film shows : Impression : - Increased both lung markings.']\n",
      "Labels     : ['Chest film shows : Impression : - Bilateral lung infiltrations. - Suspect right lower lung patch. Blunting right CP angle. - Tortuous atherosclerotic aorta. - Scoliosis, DJD and osteoporosis of spine. Compression fracture of T12. Old fracture of left ribs. - S / P fixation in L - spine. - S / P tracheostomy and NG tube.']\n",
      "\n"
     ]
    },
    {
     "name": "stderr",
     "output_type": "stream",
     "text": [
      "Evaluting Epoch: 5: 100%|██████████| 10/10 [00:04<00:00,  2.09it/s]\n"
     ]
    },
    {
     "name": "stdout",
     "output_type": "stream",
     "text": [
      "Names      : ['NLP_CHEST_085']\n",
      "Predictions: ['Chest AP view showed : Impression : - Suspicious pulmonary edema']\n",
      "Labels     : ['Chest X ray : - Right pneumothorax with pleural effusion, status post drainge tube placement. - Extensive subcutaneous emphysema from neck to right side thoracic cage. - Increased right hilar opacity. - Atherosclerosis and tortuous aorta. - Obscured bilateral costophrenic angles. - Spondylosis and mild scoliosis of thoracolumbar spine. - OA of right glenohumeral joint. - Generalized osteopenia.']\n",
      "\n",
      "Rouge-2 score on epoch 4: {'Rouge-L-P': 0.2797155067155067, 'Rouge-L-R': 0.0703368195203846, 'Rouge-L-F': 0.0703368195203846, 'Rouge-2-P': 0.1475230129347776, 'Rouge-2-R': 0.03051766506872654, 'Rouge-2-F': 0.03051766506872654}\n"
     ]
    },
    {
     "name": "stderr",
     "output_type": "stream",
     "text": [
      "Training Epoch [6 / 30]: 100%|██████████| 89/89 [00:17<00:00,  4.95it/s, loss=0.559]\n",
      "Evaluting Epoch: 6:  10%|█         | 1/10 [00:00<00:04,  1.94it/s]"
     ]
    },
    {
     "name": "stdout",
     "output_type": "stream",
     "text": [
      "Names      : ['NLP_CHEST_002']\n",
      "Predictions: ['Chest plain film shows : Impression : - Suspicious right upper lung']\n",
      "Labels     : ['Chest PA view shows : Partial atelectasis at left lower lung field. Left pleural effusion. Borderline heart size. Atherosclerotic change of aortic knob. S / P port - A implantation via left subclavian vein. Intraperitoneal port catheter. Surgical clips at RUQ of abdomen.']\n",
      "\n"
     ]
    },
    {
     "name": "stderr",
     "output_type": "stream",
     "text": [
      "Evaluting Epoch: 6:  20%|██        | 2/10 [00:01<00:04,  1.96it/s]"
     ]
    },
    {
     "name": "stdout",
     "output_type": "stream",
     "text": [
      "Names      : ['NLP_CHEST_004']\n",
      "Predictions: ['Chest plain film shows : Impression : - Suspicious right upper lung']\n",
      "Labels     : ['Chest PA view show : Impression : - S / P RLL wedge resection. - Bilateral lungs metastasis. - Left lower lung subsegmental atelectasis. - Increased infiltrations in both lungs. - Blunting right CP angle. - Tortuous atherosclerotic aorta. - Scoliosis, DJD and osteoporosis of spine. - Compression fracture of L1.']\n",
      "\n"
     ]
    },
    {
     "name": "stderr",
     "output_type": "stream",
     "text": [
      "Evaluting Epoch: 6:  30%|███       | 3/10 [00:01<00:03,  2.04it/s]"
     ]
    },
    {
     "name": "stdout",
     "output_type": "stream",
     "text": [
      "Names      : ['NLP_CHEST_011']\n",
      "Predictions: ['Chest plain film shows : Impression : - Suspicious pulmonary edema']\n",
      "Labels     : [\"Chest AP view showed : 1. s / p sternotomy and CABG. Enlarged heart size with tortuous aorta. 2. R't middle and lower lung faint patches. L't lower lung consolidation. L't pleural effusion. 3. No mediastinum widening. 4. s / p endotracheal tube and NG intubation.\"]\n",
      "\n"
     ]
    },
    {
     "name": "stderr",
     "output_type": "stream",
     "text": [
      "Evaluting Epoch: 6:  40%|████      | 4/10 [00:02<00:03,  1.99it/s]"
     ]
    },
    {
     "name": "stdout",
     "output_type": "stream",
     "text": [
      "Names      : ['NLP_CHEST_015']\n",
      "Predictions: ['Chest plain film shows : Impression : - Suspicious right upper lung']\n",
      "Labels     : ['Chest X ray : - No obvious lung mass nor consolidation patch. - Normal heart size. - No pleural effusion.']\n",
      "\n"
     ]
    },
    {
     "name": "stderr",
     "output_type": "stream",
     "text": [
      "Evaluting Epoch: 6:  50%|█████     | 5/10 [00:02<00:02,  2.10it/s]"
     ]
    },
    {
     "name": "stdout",
     "output_type": "stream",
     "text": [
      "Names      : ['NLP_CHEST_027']\n",
      "Predictions: ['Chest plain film shows : Impression : - Suspicious right upper lung']\n",
      "Labels     : ['Chest PA View : Impression : > Cardiomegaly with bilateral pulmonary congestion. > Postinflammatory fibrosis in both upper lungs. > Atherosclerosis of aorta. > Old fractures of left 5th and 6th ribs. > R / O osteoporosis. > Spondylosis of thoracolumbar spine. > S / P abdominal operation in RUQ.']\n",
      "\n"
     ]
    },
    {
     "name": "stderr",
     "output_type": "stream",
     "text": [
      "Evaluting Epoch: 6:  60%|██████    | 6/10 [00:02<00:01,  2.09it/s]"
     ]
    },
    {
     "name": "stdout",
     "output_type": "stream",
     "text": [
      "Names      : ['NLP_CHEST_031']\n",
      "Predictions: ['Chest plain film view showed : Impression : - Suspicious right upper']\n",
      "Labels     : ['Chest PA view : Impression : - Increased both lung markings. - Compatible with right lung nodules. - Fibrotic lesion in left upper lung. - Normal heart size. Atherosclerotic aorta. - Suspect right pleural effusion. - Spondylosis. R / O osteoporosis. - Compatible with multiple bony metastases. - S / P NG and endotracheal tube. - S / P Lt subclavian Port - A - cath.']\n",
      "\n"
     ]
    },
    {
     "name": "stderr",
     "output_type": "stream",
     "text": [
      "Evaluting Epoch: 6:  70%|███████   | 7/10 [00:03<00:01,  2.10it/s]"
     ]
    },
    {
     "name": "stdout",
     "output_type": "stream",
     "text": [
      "Names      : ['NLP_CHEST_057']\n",
      "Predictions: ['Chest plain film shows : Impression : - Suspicious right upper lung']\n",
      "Labels     : ['Chest plain film shows : Impression : - Increased infiltrations in both lungs. - Tortuous atherosclerotic dilated aorta. - Normal heart size. - DJD of spine. Old fracture of right ribs. - Increased both lung markings. S / P Lt jugular CVC insertion. S / P NG and endotracheal tube. - Susp. Lt pneumothorax. Suspect pneumomediastinum. Subcutaneous emphysema in bilateral neck. - S / P bilateral chest tube insertion.']\n",
      "\n"
     ]
    },
    {
     "name": "stderr",
     "output_type": "stream",
     "text": [
      "Evaluting Epoch: 6:  80%|████████  | 8/10 [00:03<00:00,  2.10it/s]"
     ]
    },
    {
     "name": "stdout",
     "output_type": "stream",
     "text": [
      "Names      : ['NLP_CHEST_059']\n",
      "Predictions: ['Chest plain film shows : Impression : - Suspicious right upper lung']\n",
      "Labels     : ['Supine chest AP view shows : Pigtail catheter at right lower chest. Decreased amount of right pleural effusion. Air in the right lower pleural space. Poor lung expansion. Mild subcutaneous emphysema at right chest wall. Right pleural thickening. Ill - defined masses at right perihilar region. Normal heart size.']\n",
      "\n"
     ]
    },
    {
     "name": "stderr",
     "output_type": "stream",
     "text": [
      "Evaluting Epoch: 6:  90%|█████████ | 9/10 [00:04<00:00,  2.11it/s]"
     ]
    },
    {
     "name": "stdout",
     "output_type": "stream",
     "text": [
      "Names      : ['NLP_CHEST_071']\n",
      "Predictions: ['Chest plain film shows : Impression : - Suspicious right upper lung']\n",
      "Labels     : ['Chest film shows : Impression : - Bilateral lung infiltrations. - Suspect right lower lung patch. Blunting right CP angle. - Tortuous atherosclerotic aorta. - Scoliosis, DJD and osteoporosis of spine. Compression fracture of T12. Old fracture of left ribs. - S / P fixation in L - spine. - S / P tracheostomy and NG tube.']\n",
      "\n"
     ]
    },
    {
     "name": "stderr",
     "output_type": "stream",
     "text": [
      "Evaluting Epoch: 6: 100%|██████████| 10/10 [00:04<00:00,  2.05it/s]\n"
     ]
    },
    {
     "name": "stdout",
     "output_type": "stream",
     "text": [
      "Names      : ['NLP_CHEST_085']\n",
      "Predictions: ['Chest plain film shows : Impression : - Suspicious right upper lung']\n",
      "Labels     : ['Chest X ray : - Right pneumothorax with pleural effusion, status post drainge tube placement. - Extensive subcutaneous emphysema from neck to right side thoracic cage. - Increased right hilar opacity. - Atherosclerosis and tortuous aorta. - Obscured bilateral costophrenic angles. - Spondylosis and mild scoliosis of thoracolumbar spine. - OA of right glenohumeral joint. - Generalized osteopenia.']\n",
      "\n",
      "Rouge-2 score on epoch 5: {'Rouge-L-P': 0.3111265586265585, 'Rouge-L-R': 0.07742703526858322, 'Rouge-L-F': 0.07742703526858322, 'Rouge-2-P': 0.15929948047595108, 'Rouge-2-R': 0.03299831021027394, 'Rouge-2-F': 0.03299831021027394}\n"
     ]
    },
    {
     "name": "stderr",
     "output_type": "stream",
     "text": [
      "Training Epoch [7 / 30]: 100%|██████████| 89/89 [00:18<00:00,  4.86it/s, loss=0.476]\n",
      "Evaluting Epoch: 7:  10%|█         | 1/10 [00:00<00:04,  2.06it/s]"
     ]
    },
    {
     "name": "stdout",
     "output_type": "stream",
     "text": [
      "Names      : ['NLP_CHEST_002']\n",
      "Predictions: ['Chest plain film shows : Impression : - Increased both lung markings.']\n",
      "Labels     : ['Chest PA view shows : Partial atelectasis at left lower lung field. Left pleural effusion. Borderline heart size. Atherosclerotic change of aortic knob. S / P port - A implantation via left subclavian vein. Intraperitoneal port catheter. Surgical clips at RUQ of abdomen.']\n",
      "\n"
     ]
    },
    {
     "name": "stderr",
     "output_type": "stream",
     "text": [
      "Evaluting Epoch: 7:  20%|██        | 2/10 [00:00<00:03,  2.10it/s]"
     ]
    },
    {
     "name": "stdout",
     "output_type": "stream",
     "text": [
      "Names      : ['NLP_CHEST_004']\n",
      "Predictions: ['Chest plain film view showed : Impression : - Increased both lung markings']\n",
      "Labels     : ['Chest PA view show : Impression : - S / P RLL wedge resection. - Bilateral lungs metastasis. - Left lower lung subsegmental atelectasis. - Increased infiltrations in both lungs. - Blunting right CP angle. - Tortuous atherosclerotic aorta. - Scoliosis, DJD and osteoporosis of spine. - Compression fracture of L1.']\n",
      "\n"
     ]
    },
    {
     "name": "stderr",
     "output_type": "stream",
     "text": [
      "Evaluting Epoch: 7:  30%|███       | 3/10 [00:01<00:03,  2.15it/s]"
     ]
    },
    {
     "name": "stdout",
     "output_type": "stream",
     "text": [
      "Names      : ['NLP_CHEST_011']\n",
      "Predictions: ['Chest plain film view showed : Impression : - Increased both lung markings']\n",
      "Labels     : [\"Chest AP view showed : 1. s / p sternotomy and CABG. Enlarged heart size with tortuous aorta. 2. R't middle and lower lung faint patches. L't lower lung consolidation. L't pleural effusion. 3. No mediastinum widening. 4. s / p endotracheal tube and NG intubation.\"]\n",
      "\n"
     ]
    },
    {
     "name": "stderr",
     "output_type": "stream",
     "text": [
      "Evaluting Epoch: 7:  40%|████      | 4/10 [00:01<00:02,  2.13it/s]"
     ]
    },
    {
     "name": "stdout",
     "output_type": "stream",
     "text": [
      "Names      : ['NLP_CHEST_015']\n",
      "Predictions: ['Chest plain film view shows : Impression : - Increased both lung markings']\n",
      "Labels     : ['Chest X ray : - No obvious lung mass nor consolidation patch. - Normal heart size. - No pleural effusion.']\n",
      "\n"
     ]
    },
    {
     "name": "stderr",
     "output_type": "stream",
     "text": [
      "Evaluting Epoch: 7:  50%|█████     | 5/10 [00:02<00:02,  2.04it/s]"
     ]
    },
    {
     "name": "stdout",
     "output_type": "stream",
     "text": [
      "Names      : ['NLP_CHEST_027']\n",
      "Predictions: ['Chest plain film shows : Impression : - Increased both lung markings.']\n",
      "Labels     : ['Chest PA View : Impression : > Cardiomegaly with bilateral pulmonary congestion. > Postinflammatory fibrosis in both upper lungs. > Atherosclerosis of aorta. > Old fractures of left 5th and 6th ribs. > R / O osteoporosis. > Spondylosis of thoracolumbar spine. > S / P abdominal operation in RUQ.']\n",
      "\n"
     ]
    },
    {
     "name": "stderr",
     "output_type": "stream",
     "text": [
      "Evaluting Epoch: 7:  60%|██████    | 6/10 [00:02<00:02,  1.98it/s]"
     ]
    },
    {
     "name": "stdout",
     "output_type": "stream",
     "text": [
      "Names      : ['NLP_CHEST_031']\n",
      "Predictions: ['Chest plain film view showed : Impression : - Increased both lung markings']\n",
      "Labels     : ['Chest PA view : Impression : - Increased both lung markings. - Compatible with right lung nodules. - Fibrotic lesion in left upper lung. - Normal heart size. Atherosclerotic aorta. - Suspect right pleural effusion. - Spondylosis. R / O osteoporosis. - Compatible with multiple bony metastases. - S / P NG and endotracheal tube. - S / P Lt subclavian Port - A - cath.']\n",
      "\n"
     ]
    },
    {
     "name": "stderr",
     "output_type": "stream",
     "text": [
      "Evaluting Epoch: 7:  70%|███████   | 7/10 [00:03<00:01,  2.02it/s]"
     ]
    },
    {
     "name": "stdout",
     "output_type": "stream",
     "text": [
      "Names      : ['NLP_CHEST_057']\n",
      "Predictions: ['Chest plain film shows : Impression : - Increased both lung markings.']\n",
      "Labels     : ['Chest plain film shows : Impression : - Increased infiltrations in both lungs. - Tortuous atherosclerotic dilated aorta. - Normal heart size. - DJD of spine. Old fracture of right ribs. - Increased both lung markings. S / P Lt jugular CVC insertion. S / P NG and endotracheal tube. - Susp. Lt pneumothorax. Suspect pneumomediastinum. Subcutaneous emphysema in bilateral neck. - S / P bilateral chest tube insertion.']\n",
      "\n"
     ]
    },
    {
     "name": "stderr",
     "output_type": "stream",
     "text": [
      "Evaluting Epoch: 7:  80%|████████  | 8/10 [00:03<00:00,  2.09it/s]"
     ]
    },
    {
     "name": "stdout",
     "output_type": "stream",
     "text": [
      "Names      : ['NLP_CHEST_059']\n",
      "Predictions: ['Chest plain film shows : Impression : - Increased both lung markings.']\n",
      "Labels     : ['Supine chest AP view shows : Pigtail catheter at right lower chest. Decreased amount of right pleural effusion. Air in the right lower pleural space. Poor lung expansion. Mild subcutaneous emphysema at right chest wall. Right pleural thickening. Ill - defined masses at right perihilar region. Normal heart size.']\n",
      "\n"
     ]
    },
    {
     "name": "stderr",
     "output_type": "stream",
     "text": [
      "Evaluting Epoch: 7:  90%|█████████ | 9/10 [00:04<00:00,  2.07it/s]"
     ]
    },
    {
     "name": "stdout",
     "output_type": "stream",
     "text": [
      "Names      : ['NLP_CHEST_071']\n",
      "Predictions: ['Chest plain film shows : Impression : - Increased both lung markings.']\n",
      "Labels     : ['Chest film shows : Impression : - Bilateral lung infiltrations. - Suspect right lower lung patch. Blunting right CP angle. - Tortuous atherosclerotic aorta. - Scoliosis, DJD and osteoporosis of spine. Compression fracture of T12. Old fracture of left ribs. - S / P fixation in L - spine. - S / P tracheostomy and NG tube.']\n",
      "\n"
     ]
    },
    {
     "name": "stderr",
     "output_type": "stream",
     "text": [
      "Evaluting Epoch: 7: 100%|██████████| 10/10 [00:04<00:00,  2.07it/s]\n"
     ]
    },
    {
     "name": "stdout",
     "output_type": "stream",
     "text": [
      "Names      : ['NLP_CHEST_085']\n",
      "Predictions: ['Chest plain film view showed : Impression : - Increased both lung markings']\n",
      "Labels     : ['Chest X ray : - Right pneumothorax with pleural effusion, status post drainge tube placement. - Extensive subcutaneous emphysema from neck to right side thoracic cage. - Increased right hilar opacity. - Atherosclerosis and tortuous aorta. - Obscured bilateral costophrenic angles. - Spondylosis and mild scoliosis of thoracolumbar spine. - OA of right glenohumeral joint. - Generalized osteopenia.']\n",
      "\n",
      "Rouge-2 score on epoch 6: {'Rouge-L-P': 0.3377421784564641, 'Rouge-L-R': 0.08407173333247253, 'Rouge-L-F': 0.08407173333247253, 'Rouge-2-P': 0.18037358066769837, 'Rouge-2-R': 0.03744113787793892, 'Rouge-2-F': 0.03744113787793892}\n"
     ]
    },
    {
     "name": "stderr",
     "output_type": "stream",
     "text": [
      "Training Epoch [8 / 30]: 100%|██████████| 89/89 [00:18<00:00,  4.80it/s, loss=0.416]\n",
      "Evaluting Epoch: 8:  10%|█         | 1/10 [00:00<00:04,  1.97it/s]"
     ]
    },
    {
     "name": "stdout",
     "output_type": "stream",
     "text": [
      "Names      : ['NLP_CHEST_002']\n",
      "Predictions: ['Chest plain film shows : Impression : - Increased infiltrations']\n",
      "Labels     : ['Chest PA view shows : Partial atelectasis at left lower lung field. Left pleural effusion. Borderline heart size. Atherosclerotic change of aortic knob. S / P port - A implantation via left subclavian vein. Intraperitoneal port catheter. Surgical clips at RUQ of abdomen.']\n",
      "\n"
     ]
    },
    {
     "name": "stderr",
     "output_type": "stream",
     "text": [
      "Evaluting Epoch: 8:  20%|██        | 2/10 [00:01<00:04,  1.96it/s]"
     ]
    },
    {
     "name": "stdout",
     "output_type": "stream",
     "text": [
      "Names      : ['NLP_CHEST_004']\n",
      "Predictions: ['Chest plain film shows : Impression : - Suspicious right upper lung']\n",
      "Labels     : ['Chest PA view show : Impression : - S / P RLL wedge resection. - Bilateral lungs metastasis. - Left lower lung subsegmental atelectasis. - Increased infiltrations in both lungs. - Blunting right CP angle. - Tortuous atherosclerotic aorta. - Scoliosis, DJD and osteoporosis of spine. - Compression fracture of L1.']\n",
      "\n"
     ]
    },
    {
     "name": "stderr",
     "output_type": "stream",
     "text": [
      "Evaluting Epoch: 8:  30%|███       | 3/10 [00:01<00:03,  1.95it/s]"
     ]
    },
    {
     "name": "stdout",
     "output_type": "stream",
     "text": [
      "Names      : ['NLP_CHEST_011']\n",
      "Predictions: ['Chest plain film shows : Impression : - Suspicious pulmonary edema']\n",
      "Labels     : [\"Chest AP view showed : 1. s / p sternotomy and CABG. Enlarged heart size with tortuous aorta. 2. R't middle and lower lung faint patches. L't lower lung consolidation. L't pleural effusion. 3. No mediastinum widening. 4. s / p endotracheal tube and NG intubation.\"]\n",
      "\n"
     ]
    },
    {
     "name": "stderr",
     "output_type": "stream",
     "text": [
      "Evaluting Epoch: 8:  40%|████      | 4/10 [00:02<00:03,  1.97it/s]"
     ]
    },
    {
     "name": "stdout",
     "output_type": "stream",
     "text": [
      "Names      : ['NLP_CHEST_015']\n",
      "Predictions: ['Chest plain film shows : Impression : - Increased both lung markings.']\n",
      "Labels     : ['Chest X ray : - No obvious lung mass nor consolidation patch. - Normal heart size. - No pleural effusion.']\n",
      "\n"
     ]
    },
    {
     "name": "stderr",
     "output_type": "stream",
     "text": [
      "Evaluting Epoch: 8:  50%|█████     | 5/10 [00:02<00:02,  1.97it/s]"
     ]
    },
    {
     "name": "stdout",
     "output_type": "stream",
     "text": [
      "Names      : ['NLP_CHEST_027']\n",
      "Predictions: ['Chest plain film shows : Impression : - Suspicious pulmonary edema']\n",
      "Labels     : ['Chest PA View : Impression : > Cardiomegaly with bilateral pulmonary congestion. > Postinflammatory fibrosis in both upper lungs. > Atherosclerosis of aorta. > Old fractures of left 5th and 6th ribs. > R / O osteoporosis. > Spondylosis of thoracolumbar spine. > S / P abdominal operation in RUQ.']\n",
      "\n"
     ]
    },
    {
     "name": "stderr",
     "output_type": "stream",
     "text": [
      "Evaluting Epoch: 8:  60%|██████    | 6/10 [00:03<00:02,  1.96it/s]"
     ]
    },
    {
     "name": "stdout",
     "output_type": "stream",
     "text": [
      "Names      : ['NLP_CHEST_031']\n",
      "Predictions: ['Chest plain film shows : Impression : - Suspicious right upper lung']\n",
      "Labels     : ['Chest PA view : Impression : - Increased both lung markings. - Compatible with right lung nodules. - Fibrotic lesion in left upper lung. - Normal heart size. Atherosclerotic aorta. - Suspect right pleural effusion. - Spondylosis. R / O osteoporosis. - Compatible with multiple bony metastases. - S / P NG and endotracheal tube. - S / P Lt subclavian Port - A - cath.']\n",
      "\n"
     ]
    },
    {
     "name": "stderr",
     "output_type": "stream",
     "text": [
      "Evaluting Epoch: 8:  70%|███████   | 7/10 [00:03<00:01,  1.97it/s]"
     ]
    },
    {
     "name": "stdout",
     "output_type": "stream",
     "text": [
      "Names      : ['NLP_CHEST_057']\n",
      "Predictions: ['Chest plain film shows : Impression : - Suspicious pulmonary edema']\n",
      "Labels     : ['Chest plain film shows : Impression : - Increased infiltrations in both lungs. - Tortuous atherosclerotic dilated aorta. - Normal heart size. - DJD of spine. Old fracture of right ribs. - Increased both lung markings. S / P Lt jugular CVC insertion. S / P NG and endotracheal tube. - Susp. Lt pneumothorax. Suspect pneumomediastinum. Subcutaneous emphysema in bilateral neck. - S / P bilateral chest tube insertion.']\n",
      "\n"
     ]
    },
    {
     "name": "stderr",
     "output_type": "stream",
     "text": [
      "Evaluting Epoch: 8:  80%|████████  | 8/10 [00:04<00:01,  1.94it/s]"
     ]
    },
    {
     "name": "stdout",
     "output_type": "stream",
     "text": [
      "Names      : ['NLP_CHEST_059']\n",
      "Predictions: ['Chest plain film shows : Impression : - Suspicious right upper lung']\n",
      "Labels     : ['Supine chest AP view shows : Pigtail catheter at right lower chest. Decreased amount of right pleural effusion. Air in the right lower pleural space. Poor lung expansion. Mild subcutaneous emphysema at right chest wall. Right pleural thickening. Ill - defined masses at right perihilar region. Normal heart size.']\n",
      "\n"
     ]
    },
    {
     "name": "stderr",
     "output_type": "stream",
     "text": [
      "Evaluting Epoch: 8:  90%|█████████ | 9/10 [00:04<00:00,  1.97it/s]"
     ]
    },
    {
     "name": "stdout",
     "output_type": "stream",
     "text": [
      "Names      : ['NLP_CHEST_071']\n",
      "Predictions: ['Chest plain film shows : Impression : - Suspicious pulmonary edema']\n",
      "Labels     : ['Chest film shows : Impression : - Bilateral lung infiltrations. - Suspect right lower lung patch. Blunting right CP angle. - Tortuous atherosclerotic aorta. - Scoliosis, DJD and osteoporosis of spine. Compression fracture of T12. Old fracture of left ribs. - S / P fixation in L - spine. - S / P tracheostomy and NG tube.']\n",
      "\n"
     ]
    },
    {
     "name": "stderr",
     "output_type": "stream",
     "text": [
      "Evaluting Epoch: 8: 100%|██████████| 10/10 [00:05<00:00,  1.97it/s]\n"
     ]
    },
    {
     "name": "stdout",
     "output_type": "stream",
     "text": [
      "Names      : ['NLP_CHEST_085']\n",
      "Predictions: ['Chest plain film shows : Impression : - Suspicious right upper lung']\n",
      "Labels     : ['Chest X ray : - Right pneumothorax with pleural effusion, status post drainge tube placement. - Extensive subcutaneous emphysema from neck to right side thoracic cage. - Increased right hilar opacity. - Atherosclerosis and tortuous aorta. - Obscured bilateral costophrenic angles. - Spondylosis and mild scoliosis of thoracolumbar spine. - OA of right glenohumeral joint. - Generalized osteopenia.']\n",
      "\n",
      "Rouge-2 score on epoch 7: {'Rouge-L-P': 0.35156607281607266, 'Rouge-L-R': 0.08668222164590876, 'Rouge-L-F': 0.08668222164590876, 'Rouge-2-P': 0.18694304470039771, 'Rouge-2-R': 0.03843618763294793, 'Rouge-2-F': 0.03843618763294793}\n"
     ]
    },
    {
     "name": "stderr",
     "output_type": "stream",
     "text": [
      "Training Epoch [9 / 30]: 100%|██████████| 89/89 [00:19<00:00,  4.64it/s, loss=0.371]\n",
      "Evaluting Epoch: 9:  10%|█         | 1/10 [00:00<00:04,  1.90it/s]"
     ]
    },
    {
     "name": "stdout",
     "output_type": "stream",
     "text": [
      "Names      : ['NLP_CHEST_002']\n",
      "Predictions: ['Chest plain film shows : Impression : - Increased infiltrations']\n",
      "Labels     : ['Chest PA view shows : Partial atelectasis at left lower lung field. Left pleural effusion. Borderline heart size. Atherosclerotic change of aortic knob. S / P port - A implantation via left subclavian vein. Intraperitoneal port catheter. Surgical clips at RUQ of abdomen.']\n",
      "\n"
     ]
    },
    {
     "name": "stderr",
     "output_type": "stream",
     "text": [
      "Evaluting Epoch: 9:  20%|██        | 2/10 [00:01<00:04,  1.83it/s]"
     ]
    },
    {
     "name": "stdout",
     "output_type": "stream",
     "text": [
      "Names      : ['NLP_CHEST_004']\n",
      "Predictions: ['Chest plain film shows : Impression : - Increased infiltrations']\n",
      "Labels     : ['Chest PA view show : Impression : - S / P RLL wedge resection. - Bilateral lungs metastasis. - Left lower lung subsegmental atelectasis. - Increased infiltrations in both lungs. - Blunting right CP angle. - Tortuous atherosclerotic aorta. - Scoliosis, DJD and osteoporosis of spine. - Compression fracture of L1.']\n",
      "\n"
     ]
    },
    {
     "name": "stderr",
     "output_type": "stream",
     "text": [
      "Evaluting Epoch: 9:  30%|███       | 3/10 [00:01<00:03,  1.89it/s]"
     ]
    },
    {
     "name": "stdout",
     "output_type": "stream",
     "text": [
      "Names      : ['NLP_CHEST_011']\n",
      "Predictions: ['Chest plain film shows : Impression : - Suspicious pulmonary edema']\n",
      "Labels     : [\"Chest AP view showed : 1. s / p sternotomy and CABG. Enlarged heart size with tortuous aorta. 2. R't middle and lower lung faint patches. L't lower lung consolidation. L't pleural effusion. 3. No mediastinum widening. 4. s / p endotracheal tube and NG intubation.\"]\n",
      "\n"
     ]
    },
    {
     "name": "stderr",
     "output_type": "stream",
     "text": [
      "Evaluting Epoch: 9:  40%|████      | 4/10 [00:02<00:03,  1.87it/s]"
     ]
    },
    {
     "name": "stdout",
     "output_type": "stream",
     "text": [
      "Names      : ['NLP_CHEST_015']\n",
      "Predictions: ['Chest plain film shows : Impression : - Increased infiltrations']\n",
      "Labels     : ['Chest X ray : - No obvious lung mass nor consolidation patch. - Normal heart size. - No pleural effusion.']\n",
      "\n"
     ]
    },
    {
     "name": "stderr",
     "output_type": "stream",
     "text": [
      "Evaluting Epoch: 9:  50%|█████     | 5/10 [00:02<00:02,  1.83it/s]"
     ]
    },
    {
     "name": "stdout",
     "output_type": "stream",
     "text": [
      "Names      : ['NLP_CHEST_027']\n",
      "Predictions: ['Chest plain film shows : Impression : - Increased infiltrations']\n",
      "Labels     : ['Chest PA View : Impression : > Cardiomegaly with bilateral pulmonary congestion. > Postinflammatory fibrosis in both upper lungs. > Atherosclerosis of aorta. > Old fractures of left 5th and 6th ribs. > R / O osteoporosis. > Spondylosis of thoracolumbar spine. > S / P abdominal operation in RUQ.']\n",
      "\n"
     ]
    },
    {
     "name": "stderr",
     "output_type": "stream",
     "text": [
      "Evaluting Epoch: 9:  60%|██████    | 6/10 [00:03<00:02,  1.89it/s]"
     ]
    },
    {
     "name": "stdout",
     "output_type": "stream",
     "text": [
      "Names      : ['NLP_CHEST_031']\n",
      "Predictions: ['Chest plain film shows : Impression : - Increased both lung markings.']\n",
      "Labels     : ['Chest PA view : Impression : - Increased both lung markings. - Compatible with right lung nodules. - Fibrotic lesion in left upper lung. - Normal heart size. Atherosclerotic aorta. - Suspect right pleural effusion. - Spondylosis. R / O osteoporosis. - Compatible with multiple bony metastases. - S / P NG and endotracheal tube. - S / P Lt subclavian Port - A - cath.']\n",
      "\n"
     ]
    },
    {
     "name": "stderr",
     "output_type": "stream",
     "text": [
      "Evaluting Epoch: 9:  70%|███████   | 7/10 [00:03<00:01,  1.89it/s]"
     ]
    },
    {
     "name": "stdout",
     "output_type": "stream",
     "text": [
      "Names      : ['NLP_CHEST_057']\n",
      "Predictions: ['Chest plain film shows : Impression : - Increased infiltrations']\n",
      "Labels     : ['Chest plain film shows : Impression : - Increased infiltrations in both lungs. - Tortuous atherosclerotic dilated aorta. - Normal heart size. - DJD of spine. Old fracture of right ribs. - Increased both lung markings. S / P Lt jugular CVC insertion. S / P NG and endotracheal tube. - Susp. Lt pneumothorax. Suspect pneumomediastinum. Subcutaneous emphysema in bilateral neck. - S / P bilateral chest tube insertion.']\n",
      "\n"
     ]
    },
    {
     "name": "stderr",
     "output_type": "stream",
     "text": [
      "Evaluting Epoch: 9:  80%|████████  | 8/10 [00:04<00:01,  1.93it/s]"
     ]
    },
    {
     "name": "stdout",
     "output_type": "stream",
     "text": [
      "Names      : ['NLP_CHEST_059']\n",
      "Predictions: ['Chest plain film shows : Impression : - Increased infiltrations']\n",
      "Labels     : ['Supine chest AP view shows : Pigtail catheter at right lower chest. Decreased amount of right pleural effusion. Air in the right lower pleural space. Poor lung expansion. Mild subcutaneous emphysema at right chest wall. Right pleural thickening. Ill - defined masses at right perihilar region. Normal heart size.']\n",
      "\n"
     ]
    },
    {
     "name": "stderr",
     "output_type": "stream",
     "text": [
      "Evaluting Epoch: 9:  90%|█████████ | 9/10 [00:04<00:00,  1.96it/s]"
     ]
    },
    {
     "name": "stdout",
     "output_type": "stream",
     "text": [
      "Names      : ['NLP_CHEST_071']\n",
      "Predictions: ['Chest plain film shows : Impression : - Increased infiltrations']\n",
      "Labels     : ['Chest film shows : Impression : - Bilateral lung infiltrations. - Suspect right lower lung patch. Blunting right CP angle. - Tortuous atherosclerotic aorta. - Scoliosis, DJD and osteoporosis of spine. Compression fracture of T12. Old fracture of left ribs. - S / P fixation in L - spine. - S / P tracheostomy and NG tube.']\n",
      "\n"
     ]
    },
    {
     "name": "stderr",
     "output_type": "stream",
     "text": [
      "Evaluting Epoch: 9: 100%|██████████| 10/10 [00:05<00:00,  1.91it/s]\n"
     ]
    },
    {
     "name": "stdout",
     "output_type": "stream",
     "text": [
      "Names      : ['NLP_CHEST_085']\n",
      "Predictions: ['Chest plain film shows : Impression : - Suspicious pulmonary edema']\n",
      "Labels     : ['Chest X ray : - Right pneumothorax with pleural effusion, status post drainge tube placement. - Extensive subcutaneous emphysema from neck to right side thoracic cage. - Increased right hilar opacity. - Atherosclerosis and tortuous aorta. - Obscured bilateral costophrenic angles. - Spondylosis and mild scoliosis of thoracolumbar spine. - OA of right glenohumeral joint. - Generalized osteopenia.']\n",
      "\n",
      "Rouge-2 score on epoch 8: {'Rouge-L-P': 0.3681092364425697, 'Rouge-L-R': 0.08839312186870377, 'Rouge-L-F': 0.08839312186870377, 'Rouge-2-P': 0.20398304310069024, 'Rouge-2-R': 0.0406651177340032, 'Rouge-2-F': 0.0406651177340032}\n"
     ]
    },
    {
     "name": "stderr",
     "output_type": "stream",
     "text": [
      "Training Epoch [10 / 30]: 100%|██████████| 89/89 [00:18<00:00,  4.75it/s, loss=0.33] \n",
      "Evaluting Epoch: 10:  10%|█         | 1/10 [00:00<00:04,  2.25it/s]"
     ]
    },
    {
     "name": "stdout",
     "output_type": "stream",
     "text": [
      "Names      : ['NLP_CHEST_002']\n",
      "Predictions: ['Chest plain film shows : Impression : - Increased both lung markings.']\n",
      "Labels     : ['Chest PA view shows : Partial atelectasis at left lower lung field. Left pleural effusion. Borderline heart size. Atherosclerotic change of aortic knob. S / P port - A implantation via left subclavian vein. Intraperitoneal port catheter. Surgical clips at RUQ of abdomen.']\n",
      "\n"
     ]
    },
    {
     "name": "stderr",
     "output_type": "stream",
     "text": [
      "Evaluting Epoch: 10:  20%|██        | 2/10 [00:00<00:03,  2.08it/s]"
     ]
    },
    {
     "name": "stdout",
     "output_type": "stream",
     "text": [
      "Names      : ['NLP_CHEST_004']\n",
      "Predictions: ['Chest plain film shows : Impression : - Increased both lung markings.']\n",
      "Labels     : ['Chest PA view show : Impression : - S / P RLL wedge resection. - Bilateral lungs metastasis. - Left lower lung subsegmental atelectasis. - Increased infiltrations in both lungs. - Blunting right CP angle. - Tortuous atherosclerotic aorta. - Scoliosis, DJD and osteoporosis of spine. - Compression fracture of L1.']\n",
      "\n"
     ]
    },
    {
     "name": "stderr",
     "output_type": "stream",
     "text": [
      "Evaluting Epoch: 10:  30%|███       | 3/10 [00:01<00:03,  2.05it/s]"
     ]
    },
    {
     "name": "stdout",
     "output_type": "stream",
     "text": [
      "Names      : ['NLP_CHEST_011']\n",
      "Predictions: ['Chest plain film shows : Impression : - Increased both lung markings.']\n",
      "Labels     : [\"Chest AP view showed : 1. s / p sternotomy and CABG. Enlarged heart size with tortuous aorta. 2. R't middle and lower lung faint patches. L't lower lung consolidation. L't pleural effusion. 3. No mediastinum widening. 4. s / p endotracheal tube and NG intubation.\"]\n",
      "\n"
     ]
    },
    {
     "name": "stderr",
     "output_type": "stream",
     "text": [
      "Evaluting Epoch: 10:  40%|████      | 4/10 [00:01<00:02,  2.04it/s]"
     ]
    },
    {
     "name": "stdout",
     "output_type": "stream",
     "text": [
      "Names      : ['NLP_CHEST_015']\n",
      "Predictions: ['Chest plain film shows : Impression : - Increased infiltrates']\n",
      "Labels     : ['Chest X ray : - No obvious lung mass nor consolidation patch. - Normal heart size. - No pleural effusion.']\n",
      "\n"
     ]
    },
    {
     "name": "stderr",
     "output_type": "stream",
     "text": [
      "Evaluting Epoch: 10:  50%|█████     | 5/10 [00:02<00:02,  2.06it/s]"
     ]
    },
    {
     "name": "stdout",
     "output_type": "stream",
     "text": [
      "Names      : ['NLP_CHEST_027']\n",
      "Predictions: ['Chest plain film shows : Impression : - Increased both lung markings.']\n",
      "Labels     : ['Chest PA View : Impression : > Cardiomegaly with bilateral pulmonary congestion. > Postinflammatory fibrosis in both upper lungs. > Atherosclerosis of aorta. > Old fractures of left 5th and 6th ribs. > R / O osteoporosis. > Spondylosis of thoracolumbar spine. > S / P abdominal operation in RUQ.']\n",
      "\n"
     ]
    },
    {
     "name": "stderr",
     "output_type": "stream",
     "text": [
      "Evaluting Epoch: 10:  60%|██████    | 6/10 [00:02<00:01,  2.08it/s]"
     ]
    },
    {
     "name": "stdout",
     "output_type": "stream",
     "text": [
      "Names      : ['NLP_CHEST_031']\n",
      "Predictions: ['Chest plain film view showed : Impression : - Suspicious pulmonary ed']\n",
      "Labels     : ['Chest PA view : Impression : - Increased both lung markings. - Compatible with right lung nodules. - Fibrotic lesion in left upper lung. - Normal heart size. Atherosclerotic aorta. - Suspect right pleural effusion. - Spondylosis. R / O osteoporosis. - Compatible with multiple bony metastases. - S / P NG and endotracheal tube. - S / P Lt subclavian Port - A - cath.']\n",
      "\n"
     ]
    },
    {
     "name": "stderr",
     "output_type": "stream",
     "text": [
      "Evaluting Epoch: 10:  70%|███████   | 7/10 [00:03<00:01,  2.05it/s]"
     ]
    },
    {
     "name": "stdout",
     "output_type": "stream",
     "text": [
      "Names      : ['NLP_CHEST_057']\n",
      "Predictions: ['Chest plain film shows : Impression : - Increased both lung markings.']\n",
      "Labels     : ['Chest plain film shows : Impression : - Increased infiltrations in both lungs. - Tortuous atherosclerotic dilated aorta. - Normal heart size. - DJD of spine. Old fracture of right ribs. - Increased both lung markings. S / P Lt jugular CVC insertion. S / P NG and endotracheal tube. - Susp. Lt pneumothorax. Suspect pneumomediastinum. Subcutaneous emphysema in bilateral neck. - S / P bilateral chest tube insertion.']\n",
      "\n"
     ]
    },
    {
     "name": "stderr",
     "output_type": "stream",
     "text": [
      "Evaluting Epoch: 10:  80%|████████  | 8/10 [00:03<00:00,  2.08it/s]"
     ]
    },
    {
     "name": "stdout",
     "output_type": "stream",
     "text": [
      "Names      : ['NLP_CHEST_059']\n",
      "Predictions: ['Chest plain film shows : Impression : - Increased infiltrates']\n",
      "Labels     : ['Supine chest AP view shows : Pigtail catheter at right lower chest. Decreased amount of right pleural effusion. Air in the right lower pleural space. Poor lung expansion. Mild subcutaneous emphysema at right chest wall. Right pleural thickening. Ill - defined masses at right perihilar region. Normal heart size.']\n",
      "\n"
     ]
    },
    {
     "name": "stderr",
     "output_type": "stream",
     "text": [
      "Evaluting Epoch: 10:  90%|█████████ | 9/10 [00:04<00:00,  2.07it/s]"
     ]
    },
    {
     "name": "stdout",
     "output_type": "stream",
     "text": [
      "Names      : ['NLP_CHEST_071']\n",
      "Predictions: ['Chest plain film shows : Impression : - Increased both lung markings.']\n",
      "Labels     : ['Chest film shows : Impression : - Bilateral lung infiltrations. - Suspect right lower lung patch. Blunting right CP angle. - Tortuous atherosclerotic aorta. - Scoliosis, DJD and osteoporosis of spine. Compression fracture of T12. Old fracture of left ribs. - S / P fixation in L - spine. - S / P tracheostomy and NG tube.']\n",
      "\n"
     ]
    },
    {
     "name": "stderr",
     "output_type": "stream",
     "text": [
      "Evaluting Epoch: 10: 100%|██████████| 10/10 [00:04<00:00,  2.07it/s]\n"
     ]
    },
    {
     "name": "stdout",
     "output_type": "stream",
     "text": [
      "Names      : ['NLP_CHEST_085']\n",
      "Predictions: ['Chest plain film shows : Impression : - Increased both lung markings.']\n",
      "Labels     : ['Chest X ray : - Right pneumothorax with pleural effusion, status post drainge tube placement. - Extensive subcutaneous emphysema from neck to right side thoracic cage. - Increased right hilar opacity. - Atherosclerosis and tortuous aorta. - Obscured bilateral costophrenic angles. - Spondylosis and mild scoliosis of thoracolumbar spine. - OA of right glenohumeral joint. - Generalized osteopenia.']\n",
      "\n",
      "Rouge-2 score on epoch 9: {'Rouge-L-P': 0.378131646131646, 'Rouge-L-R': 0.09036239535880057, 'Rouge-L-F': 0.09036239535880057, 'Rouge-2-P': 0.2112615064673889, 'Rouge-2-R': 0.04210243344301284, 'Rouge-2-F': 0.04210243344301284}\n"
     ]
    },
    {
     "name": "stderr",
     "output_type": "stream",
     "text": [
      "Training Epoch [11 / 30]: 100%|██████████| 89/89 [00:18<00:00,  4.80it/s, loss=0.293]\n",
      "Evaluting Epoch: 11:  10%|█         | 1/10 [00:00<00:04,  2.04it/s]"
     ]
    },
    {
     "name": "stdout",
     "output_type": "stream",
     "text": [
      "Names      : ['NLP_CHEST_002']\n",
      "Predictions: ['Chest plain film shows : Impression : - Suspicious pulmonary edema']\n",
      "Labels     : ['Chest PA view shows : Partial atelectasis at left lower lung field. Left pleural effusion. Borderline heart size. Atherosclerotic change of aortic knob. S / P port - A implantation via left subclavian vein. Intraperitoneal port catheter. Surgical clips at RUQ of abdomen.']\n",
      "\n"
     ]
    },
    {
     "name": "stderr",
     "output_type": "stream",
     "text": [
      "Evaluting Epoch: 11:  20%|██        | 2/10 [00:00<00:03,  2.11it/s]"
     ]
    },
    {
     "name": "stdout",
     "output_type": "stream",
     "text": [
      "Names      : ['NLP_CHEST_004']\n",
      "Predictions: ['Chest plain film shows : Impression : - Suspicious pulmonary edema']\n",
      "Labels     : ['Chest PA view show : Impression : - S / P RLL wedge resection. - Bilateral lungs metastasis. - Left lower lung subsegmental atelectasis. - Increased infiltrations in both lungs. - Blunting right CP angle. - Tortuous atherosclerotic aorta. - Scoliosis, DJD and osteoporosis of spine. - Compression fracture of L1.']\n",
      "\n"
     ]
    },
    {
     "name": "stderr",
     "output_type": "stream",
     "text": [
      "Evaluting Epoch: 11:  30%|███       | 3/10 [00:01<00:03,  2.08it/s]"
     ]
    },
    {
     "name": "stdout",
     "output_type": "stream",
     "text": [
      "Names      : ['NLP_CHEST_011']\n",
      "Predictions: ['Chest AP view showed : 1. Enlarged heart size with tortuous']\n",
      "Labels     : [\"Chest AP view showed : 1. s / p sternotomy and CABG. Enlarged heart size with tortuous aorta. 2. R't middle and lower lung faint patches. L't lower lung consolidation. L't pleural effusion. 3. No mediastinum widening. 4. s / p endotracheal tube and NG intubation.\"]\n",
      "\n"
     ]
    },
    {
     "name": "stderr",
     "output_type": "stream",
     "text": [
      "Evaluting Epoch: 11:  40%|████      | 4/10 [00:01<00:02,  2.07it/s]"
     ]
    },
    {
     "name": "stdout",
     "output_type": "stream",
     "text": [
      "Names      : ['NLP_CHEST_015']\n",
      "Predictions: ['Chest plain film shows : Impression : - Suspicious pulmonary edema']\n",
      "Labels     : ['Chest X ray : - No obvious lung mass nor consolidation patch. - Normal heart size. - No pleural effusion.']\n",
      "\n"
     ]
    },
    {
     "name": "stderr",
     "output_type": "stream",
     "text": [
      "Evaluting Epoch: 11:  50%|█████     | 5/10 [00:02<00:02,  2.10it/s]"
     ]
    },
    {
     "name": "stdout",
     "output_type": "stream",
     "text": [
      "Names      : ['NLP_CHEST_027']\n",
      "Predictions: ['Chest plain film shows : Impression : - Suspicious pulmonary edema']\n",
      "Labels     : ['Chest PA View : Impression : > Cardiomegaly with bilateral pulmonary congestion. > Postinflammatory fibrosis in both upper lungs. > Atherosclerosis of aorta. > Old fractures of left 5th and 6th ribs. > R / O osteoporosis. > Spondylosis of thoracolumbar spine. > S / P abdominal operation in RUQ.']\n",
      "\n"
     ]
    },
    {
     "name": "stderr",
     "output_type": "stream",
     "text": [
      "Evaluting Epoch: 11:  60%|██████    | 6/10 [00:02<00:01,  2.06it/s]"
     ]
    },
    {
     "name": "stdout",
     "output_type": "stream",
     "text": [
      "Names      : ['NLP_CHEST_031']\n",
      "Predictions: ['Chest plain film view showed : Impression : - Suspicious pulmonary ed']\n",
      "Labels     : ['Chest PA view : Impression : - Increased both lung markings. - Compatible with right lung nodules. - Fibrotic lesion in left upper lung. - Normal heart size. Atherosclerotic aorta. - Suspect right pleural effusion. - Spondylosis. R / O osteoporosis. - Compatible with multiple bony metastases. - S / P NG and endotracheal tube. - S / P Lt subclavian Port - A - cath.']\n",
      "\n"
     ]
    },
    {
     "name": "stderr",
     "output_type": "stream",
     "text": [
      "Evaluting Epoch: 11:  70%|███████   | 7/10 [00:03<00:01,  2.08it/s]"
     ]
    },
    {
     "name": "stdout",
     "output_type": "stream",
     "text": [
      "Names      : ['NLP_CHEST_057']\n",
      "Predictions: ['Chest plain film shows : Impression : - Suspicious pulmonary edema']\n",
      "Labels     : ['Chest plain film shows : Impression : - Increased infiltrations in both lungs. - Tortuous atherosclerotic dilated aorta. - Normal heart size. - DJD of spine. Old fracture of right ribs. - Increased both lung markings. S / P Lt jugular CVC insertion. S / P NG and endotracheal tube. - Susp. Lt pneumothorax. Suspect pneumomediastinum. Subcutaneous emphysema in bilateral neck. - S / P bilateral chest tube insertion.']\n",
      "\n"
     ]
    },
    {
     "name": "stderr",
     "output_type": "stream",
     "text": [
      "Evaluting Epoch: 11:  80%|████████  | 8/10 [00:03<00:00,  2.09it/s]"
     ]
    },
    {
     "name": "stdout",
     "output_type": "stream",
     "text": [
      "Names      : ['NLP_CHEST_059']\n",
      "Predictions: ['Chest plain film shows : Impression : - Suspicious pulmonary edema']\n",
      "Labels     : ['Supine chest AP view shows : Pigtail catheter at right lower chest. Decreased amount of right pleural effusion. Air in the right lower pleural space. Poor lung expansion. Mild subcutaneous emphysema at right chest wall. Right pleural thickening. Ill - defined masses at right perihilar region. Normal heart size.']\n",
      "\n"
     ]
    },
    {
     "name": "stderr",
     "output_type": "stream",
     "text": [
      "Evaluting Epoch: 11:  90%|█████████ | 9/10 [00:04<00:00,  2.11it/s]"
     ]
    },
    {
     "name": "stdout",
     "output_type": "stream",
     "text": [
      "Names      : ['NLP_CHEST_071']\n",
      "Predictions: ['Chest plain film shows : Impression : - Suspicious pulmonary edema']\n",
      "Labels     : ['Chest film shows : Impression : - Bilateral lung infiltrations. - Suspect right lower lung patch. Blunting right CP angle. - Tortuous atherosclerotic aorta. - Scoliosis, DJD and osteoporosis of spine. Compression fracture of T12. Old fracture of left ribs. - S / P fixation in L - spine. - S / P tracheostomy and NG tube.']\n",
      "\n"
     ]
    },
    {
     "name": "stderr",
     "output_type": "stream",
     "text": [
      "Evaluting Epoch: 11: 100%|██████████| 10/10 [00:04<00:00,  2.11it/s]\n"
     ]
    },
    {
     "name": "stdout",
     "output_type": "stream",
     "text": [
      "Names      : ['NLP_CHEST_085']\n",
      "Predictions: ['Chest plain film shows : Impression : - Suspicious pulmonary edema']\n",
      "Labels     : ['Chest X ray : - Right pneumothorax with pleural effusion, status post drainge tube placement. - Extensive subcutaneous emphysema from neck to right side thoracic cage. - Increased right hilar opacity. - Atherosclerosis and tortuous aorta. - Obscured bilateral costophrenic angles. - Spondylosis and mild scoliosis of thoracolumbar spine. - OA of right glenohumeral joint. - Generalized osteopenia.']\n",
      "\n",
      "Rouge-2 score on epoch 10: {'Rouge-L-P': 0.3887973642519096, 'Rouge-L-R': 0.09235490188480278, 'Rouge-L-F': 0.09235490188480278, 'Rouge-2-P': 0.22180798108605607, 'Rouge-2-R': 0.04422053366801265, 'Rouge-2-F': 0.04422053366801265}\n"
     ]
    },
    {
     "name": "stderr",
     "output_type": "stream",
     "text": [
      "Training Epoch [12 / 30]: 100%|██████████| 89/89 [00:18<00:00,  4.82it/s, loss=0.261]\n",
      "Evaluting Epoch: 12:  10%|█         | 1/10 [00:00<00:04,  2.15it/s]"
     ]
    },
    {
     "name": "stdout",
     "output_type": "stream",
     "text": [
      "Names      : ['NLP_CHEST_002']\n",
      "Predictions: ['Chest PA view shows : Impression : - Suspicious pulmonary edema']\n",
      "Labels     : ['Chest PA view shows : Partial atelectasis at left lower lung field. Left pleural effusion. Borderline heart size. Atherosclerotic change of aortic knob. S / P port - A implantation via left subclavian vein. Intraperitoneal port catheter. Surgical clips at RUQ of abdomen.']\n",
      "\n"
     ]
    },
    {
     "name": "stderr",
     "output_type": "stream",
     "text": [
      "Evaluting Epoch: 12:  20%|██        | 2/10 [00:00<00:03,  2.12it/s]"
     ]
    },
    {
     "name": "stdout",
     "output_type": "stream",
     "text": [
      "Names      : ['NLP_CHEST_004']\n",
      "Predictions: ['Chest AP view showed : 1. Enlarged heart size with tortuous']\n",
      "Labels     : ['Chest PA view show : Impression : - S / P RLL wedge resection. - Bilateral lungs metastasis. - Left lower lung subsegmental atelectasis. - Increased infiltrations in both lungs. - Blunting right CP angle. - Tortuous atherosclerotic aorta. - Scoliosis, DJD and osteoporosis of spine. - Compression fracture of L1.']\n",
      "\n"
     ]
    },
    {
     "name": "stderr",
     "output_type": "stream",
     "text": [
      "Evaluting Epoch: 12:  30%|███       | 3/10 [00:01<00:03,  2.17it/s]"
     ]
    },
    {
     "name": "stdout",
     "output_type": "stream",
     "text": [
      "Names      : ['NLP_CHEST_011']\n",
      "Predictions: ['Chest AP view showed : 1. Enlarged heart size with tortuous']\n",
      "Labels     : [\"Chest AP view showed : 1. s / p sternotomy and CABG. Enlarged heart size with tortuous aorta. 2. R't middle and lower lung faint patches. L't lower lung consolidation. L't pleural effusion. 3. No mediastinum widening. 4. s / p endotracheal tube and NG intubation.\"]\n",
      "\n"
     ]
    },
    {
     "name": "stderr",
     "output_type": "stream",
     "text": [
      "Evaluting Epoch: 12:  40%|████      | 4/10 [00:01<00:02,  2.20it/s]"
     ]
    },
    {
     "name": "stdout",
     "output_type": "stream",
     "text": [
      "Names      : ['NLP_CHEST_015']\n",
      "Predictions: ['Chest PA view shows : Impression : - Suspicious pulmonary edema']\n",
      "Labels     : ['Chest X ray : - No obvious lung mass nor consolidation patch. - Normal heart size. - No pleural effusion.']\n",
      "\n"
     ]
    },
    {
     "name": "stderr",
     "output_type": "stream",
     "text": [
      "Evaluting Epoch: 12:  50%|█████     | 5/10 [00:02<00:02,  2.12it/s]"
     ]
    },
    {
     "name": "stdout",
     "output_type": "stream",
     "text": [
      "Names      : ['NLP_CHEST_027']\n",
      "Predictions: ['Chest AP view showed : 1. Enlarged heart size with tortuous']\n",
      "Labels     : ['Chest PA View : Impression : > Cardiomegaly with bilateral pulmonary congestion. > Postinflammatory fibrosis in both upper lungs. > Atherosclerosis of aorta. > Old fractures of left 5th and 6th ribs. > R / O osteoporosis. > Spondylosis of thoracolumbar spine. > S / P abdominal operation in RUQ.']\n",
      "\n"
     ]
    },
    {
     "name": "stderr",
     "output_type": "stream",
     "text": [
      "Evaluting Epoch: 12:  60%|██████    | 6/10 [00:02<00:01,  2.09it/s]"
     ]
    },
    {
     "name": "stdout",
     "output_type": "stream",
     "text": [
      "Names      : ['NLP_CHEST_031']\n",
      "Predictions: ['Chest AP view showed : 1. Enlarged heart size with tortuous']\n",
      "Labels     : ['Chest PA view : Impression : - Increased both lung markings. - Compatible with right lung nodules. - Fibrotic lesion in left upper lung. - Normal heart size. Atherosclerotic aorta. - Suspect right pleural effusion. - Spondylosis. R / O osteoporosis. - Compatible with multiple bony metastases. - S / P NG and endotracheal tube. - S / P Lt subclavian Port - A - cath.']\n",
      "\n"
     ]
    },
    {
     "name": "stderr",
     "output_type": "stream",
     "text": [
      "Evaluting Epoch: 12:  70%|███████   | 7/10 [00:03<00:01,  2.02it/s]"
     ]
    },
    {
     "name": "stdout",
     "output_type": "stream",
     "text": [
      "Names      : ['NLP_CHEST_057']\n",
      "Predictions: ['Chest PA view shows : Impression : - Suspicious pulmonary edema']\n",
      "Labels     : ['Chest plain film shows : Impression : - Increased infiltrations in both lungs. - Tortuous atherosclerotic dilated aorta. - Normal heart size. - DJD of spine. Old fracture of right ribs. - Increased both lung markings. S / P Lt jugular CVC insertion. S / P NG and endotracheal tube. - Susp. Lt pneumothorax. Suspect pneumomediastinum. Subcutaneous emphysema in bilateral neck. - S / P bilateral chest tube insertion.']\n",
      "\n"
     ]
    },
    {
     "name": "stderr",
     "output_type": "stream",
     "text": [
      "Evaluting Epoch: 12:  80%|████████  | 8/10 [00:03<00:00,  2.04it/s]"
     ]
    },
    {
     "name": "stdout",
     "output_type": "stream",
     "text": [
      "Names      : ['NLP_CHEST_059']\n",
      "Predictions: ['Chest PA shows : Impression : - Suspicious pulmonary edema.']\n",
      "Labels     : ['Supine chest AP view shows : Pigtail catheter at right lower chest. Decreased amount of right pleural effusion. Air in the right lower pleural space. Poor lung expansion. Mild subcutaneous emphysema at right chest wall. Right pleural thickening. Ill - defined masses at right perihilar region. Normal heart size.']\n",
      "\n"
     ]
    },
    {
     "name": "stderr",
     "output_type": "stream",
     "text": [
      "Evaluting Epoch: 12:  90%|█████████ | 9/10 [00:04<00:00,  2.08it/s]"
     ]
    },
    {
     "name": "stdout",
     "output_type": "stream",
     "text": [
      "Names      : ['NLP_CHEST_071']\n",
      "Predictions: ['Chest plain film shows : Impression : - Increased infiltrations']\n",
      "Labels     : ['Chest film shows : Impression : - Bilateral lung infiltrations. - Suspect right lower lung patch. Blunting right CP angle. - Tortuous atherosclerotic aorta. - Scoliosis, DJD and osteoporosis of spine. Compression fracture of T12. Old fracture of left ribs. - S / P fixation in L - spine. - S / P tracheostomy and NG tube.']\n",
      "\n"
     ]
    },
    {
     "name": "stderr",
     "output_type": "stream",
     "text": [
      "Evaluting Epoch: 12: 100%|██████████| 10/10 [00:04<00:00,  2.09it/s]\n"
     ]
    },
    {
     "name": "stdout",
     "output_type": "stream",
     "text": [
      "Names      : ['NLP_CHEST_085']\n",
      "Predictions: ['Chest PA view shows : Impression : - Suspicious pulmonary edema']\n",
      "Labels     : ['Chest X ray : - Right pneumothorax with pleural effusion, status post drainge tube placement. - Extensive subcutaneous emphysema from neck to right side thoracic cage. - Increased right hilar opacity. - Atherosclerosis and tortuous aorta. - Obscured bilateral costophrenic angles. - Spondylosis and mild scoliosis of thoracolumbar spine. - OA of right glenohumeral joint. - Generalized osteopenia.']\n",
      "\n",
      "Rouge-2 score on epoch 11: {'Rouge-L-P': 0.39503394753394744, 'Rouge-L-R': 0.09337498165009275, 'Rouge-L-F': 0.09337498165009275, 'Rouge-2-P': 0.22471287155110695, 'Rouge-2-R': 0.04498845678622324, 'Rouge-2-F': 0.04498845678622324}\n"
     ]
    },
    {
     "name": "stderr",
     "output_type": "stream",
     "text": [
      "Training Epoch [13 / 30]: 100%|██████████| 89/89 [00:19<00:00,  4.60it/s, loss=0.233]\n",
      "Evaluting Epoch: 13:  10%|█         | 1/10 [00:00<00:04,  1.90it/s]"
     ]
    },
    {
     "name": "stdout",
     "output_type": "stream",
     "text": [
      "Names      : ['NLP_CHEST_002']\n",
      "Predictions: ['Chest PA view shows : Impression : - Suspicious pulmonary edema']\n",
      "Labels     : ['Chest PA view shows : Partial atelectasis at left lower lung field. Left pleural effusion. Borderline heart size. Atherosclerotic change of aortic knob. S / P port - A implantation via left subclavian vein. Intraperitoneal port catheter. Surgical clips at RUQ of abdomen.']\n",
      "\n"
     ]
    },
    {
     "name": "stderr",
     "output_type": "stream",
     "text": [
      "Evaluting Epoch: 13:  20%|██        | 2/10 [00:00<00:03,  2.07it/s]"
     ]
    },
    {
     "name": "stdout",
     "output_type": "stream",
     "text": [
      "Names      : ['NLP_CHEST_004']\n",
      "Predictions: ['Chest plain film shows : Impression : - Suspicious pulmonary edema']\n",
      "Labels     : ['Chest PA view show : Impression : - S / P RLL wedge resection. - Bilateral lungs metastasis. - Left lower lung subsegmental atelectasis. - Increased infiltrations in both lungs. - Blunting right CP angle. - Tortuous atherosclerotic aorta. - Scoliosis, DJD and osteoporosis of spine. - Compression fracture of L1.']\n",
      "\n"
     ]
    },
    {
     "name": "stderr",
     "output_type": "stream",
     "text": [
      "Evaluting Epoch: 13:  30%|███       | 3/10 [00:01<00:03,  2.07it/s]"
     ]
    },
    {
     "name": "stdout",
     "output_type": "stream",
     "text": [
      "Names      : ['NLP_CHEST_011']\n",
      "Predictions: ['Chest plain film shows : Impression : - Suspicious pulmonary edema']\n",
      "Labels     : [\"Chest AP view showed : 1. s / p sternotomy and CABG. Enlarged heart size with tortuous aorta. 2. R't middle and lower lung faint patches. L't lower lung consolidation. L't pleural effusion. 3. No mediastinum widening. 4. s / p endotracheal tube and NG intubation.\"]\n",
      "\n"
     ]
    },
    {
     "name": "stderr",
     "output_type": "stream",
     "text": [
      "Evaluting Epoch: 13:  40%|████      | 4/10 [00:01<00:02,  2.11it/s]"
     ]
    },
    {
     "name": "stdout",
     "output_type": "stream",
     "text": [
      "Names      : ['NLP_CHEST_015']\n",
      "Predictions: ['Chest PA view shows : Impression : - Suspicious pulmonary edema']\n",
      "Labels     : ['Chest X ray : - No obvious lung mass nor consolidation patch. - Normal heart size. - No pleural effusion.']\n",
      "\n"
     ]
    },
    {
     "name": "stderr",
     "output_type": "stream",
     "text": [
      "Evaluting Epoch: 13:  50%|█████     | 5/10 [00:02<00:02,  2.01it/s]"
     ]
    },
    {
     "name": "stdout",
     "output_type": "stream",
     "text": [
      "Names      : ['NLP_CHEST_027']\n",
      "Predictions: ['Chest plain film shows : Impression : - Suspicious pulmonary edema']\n",
      "Labels     : ['Chest PA View : Impression : > Cardiomegaly with bilateral pulmonary congestion. > Postinflammatory fibrosis in both upper lungs. > Atherosclerosis of aorta. > Old fractures of left 5th and 6th ribs. > R / O osteoporosis. > Spondylosis of thoracolumbar spine. > S / P abdominal operation in RUQ.']\n",
      "\n"
     ]
    },
    {
     "name": "stderr",
     "output_type": "stream",
     "text": [
      "Evaluting Epoch: 13:  60%|██████    | 6/10 [00:02<00:01,  2.03it/s]"
     ]
    },
    {
     "name": "stdout",
     "output_type": "stream",
     "text": [
      "Names      : ['NLP_CHEST_031']\n",
      "Predictions: ['Chest PA view : Impression : - Suspicious pulmonary edema.']\n",
      "Labels     : ['Chest PA view : Impression : - Increased both lung markings. - Compatible with right lung nodules. - Fibrotic lesion in left upper lung. - Normal heart size. Atherosclerotic aorta. - Suspect right pleural effusion. - Spondylosis. R / O osteoporosis. - Compatible with multiple bony metastases. - S / P NG and endotracheal tube. - S / P Lt subclavian Port - A - cath.']\n",
      "\n"
     ]
    },
    {
     "name": "stderr",
     "output_type": "stream",
     "text": [
      "Evaluting Epoch: 13:  70%|███████   | 7/10 [00:03<00:01,  2.03it/s]"
     ]
    },
    {
     "name": "stdout",
     "output_type": "stream",
     "text": [
      "Names      : ['NLP_CHEST_057']\n",
      "Predictions: ['Chest plain film shows : Impression : - Suspicious pulmonary edema']\n",
      "Labels     : ['Chest plain film shows : Impression : - Increased infiltrations in both lungs. - Tortuous atherosclerotic dilated aorta. - Normal heart size. - DJD of spine. Old fracture of right ribs. - Increased both lung markings. S / P Lt jugular CVC insertion. S / P NG and endotracheal tube. - Susp. Lt pneumothorax. Suspect pneumomediastinum. Subcutaneous emphysema in bilateral neck. - S / P bilateral chest tube insertion.']\n",
      "\n"
     ]
    },
    {
     "name": "stderr",
     "output_type": "stream",
     "text": [
      "Evaluting Epoch: 13:  80%|████████  | 8/10 [00:03<00:00,  2.10it/s]"
     ]
    },
    {
     "name": "stdout",
     "output_type": "stream",
     "text": [
      "Names      : ['NLP_CHEST_059']\n",
      "Predictions: ['Chest plain film shows : Impression : - Suspicious pulmonary edema']\n",
      "Labels     : ['Supine chest AP view shows : Pigtail catheter at right lower chest. Decreased amount of right pleural effusion. Air in the right lower pleural space. Poor lung expansion. Mild subcutaneous emphysema at right chest wall. Right pleural thickening. Ill - defined masses at right perihilar region. Normal heart size.']\n",
      "\n"
     ]
    },
    {
     "name": "stderr",
     "output_type": "stream",
     "text": [
      "Evaluting Epoch: 13:  90%|█████████ | 9/10 [00:04<00:00,  2.07it/s]"
     ]
    },
    {
     "name": "stdout",
     "output_type": "stream",
     "text": [
      "Names      : ['NLP_CHEST_071']\n",
      "Predictions: ['Chest plain film shows : Impression : - Suspicious pulmonary edema']\n",
      "Labels     : ['Chest film shows : Impression : - Bilateral lung infiltrations. - Suspect right lower lung patch. Blunting right CP angle. - Tortuous atherosclerotic aorta. - Scoliosis, DJD and osteoporosis of spine. Compression fracture of T12. Old fracture of left ribs. - S / P fixation in L - spine. - S / P tracheostomy and NG tube.']\n",
      "\n"
     ]
    },
    {
     "name": "stderr",
     "output_type": "stream",
     "text": [
      "Evaluting Epoch: 13: 100%|██████████| 10/10 [00:04<00:00,  2.06it/s]\n"
     ]
    },
    {
     "name": "stdout",
     "output_type": "stream",
     "text": [
      "Names      : ['NLP_CHEST_085']\n",
      "Predictions: ['Chest PA view shows : Impression : - Suspicious pulmonary edema']\n",
      "Labels     : ['Chest X ray : - Right pneumothorax with pleural effusion, status post drainge tube placement. - Extensive subcutaneous emphysema from neck to right side thoracic cage. - Increased right hilar opacity. - Atherosclerosis and tortuous aorta. - Obscured bilateral costophrenic angles. - Spondylosis and mild scoliosis of thoracolumbar spine. - OA of right glenohumeral joint. - Generalized osteopenia.']\n",
      "\n",
      "Rouge-2 score on epoch 12: {'Rouge-L-P': 0.39940196555581164, 'Rouge-L-R': 0.09379852645080634, 'Rouge-L-F': 0.09379852645080634, 'Rouge-2-P': 0.23101700963691926, 'Rouge-2-R': 0.04592471223930241, 'Rouge-2-F': 0.04592471223930241}\n"
     ]
    },
    {
     "name": "stderr",
     "output_type": "stream",
     "text": [
      "Training Epoch [14 / 30]: 100%|██████████| 89/89 [00:18<00:00,  4.85it/s, loss=0.2]  \n",
      "Evaluting Epoch: 14:  10%|█         | 1/10 [00:00<00:03,  2.32it/s]"
     ]
    },
    {
     "name": "stdout",
     "output_type": "stream",
     "text": [
      "Names      : ['NLP_CHEST_002']\n",
      "Predictions: ['Chest PA view shows : Impression : - Increased infiltrations']\n",
      "Labels     : ['Chest PA view shows : Partial atelectasis at left lower lung field. Left pleural effusion. Borderline heart size. Atherosclerotic change of aortic knob. S / P port - A implantation via left subclavian vein. Intraperitoneal port catheter. Surgical clips at RUQ of abdomen.']\n",
      "\n"
     ]
    },
    {
     "name": "stderr",
     "output_type": "stream",
     "text": [
      "Evaluting Epoch: 14:  20%|██        | 2/10 [00:00<00:03,  2.19it/s]"
     ]
    },
    {
     "name": "stdout",
     "output_type": "stream",
     "text": [
      "Names      : ['NLP_CHEST_004']\n",
      "Predictions: ['Chest plain film shows : Impression : - Increased infiltrations']\n",
      "Labels     : ['Chest PA view show : Impression : - S / P RLL wedge resection. - Bilateral lungs metastasis. - Left lower lung subsegmental atelectasis. - Increased infiltrations in both lungs. - Blunting right CP angle. - Tortuous atherosclerotic aorta. - Scoliosis, DJD and osteoporosis of spine. - Compression fracture of L1.']\n",
      "\n"
     ]
    },
    {
     "name": "stderr",
     "output_type": "stream",
     "text": [
      "Evaluting Epoch: 14:  30%|███       | 3/10 [00:01<00:03,  2.05it/s]"
     ]
    },
    {
     "name": "stdout",
     "output_type": "stream",
     "text": [
      "Names      : ['NLP_CHEST_011']\n",
      "Predictions: ['Chest plain film shows : Impression : - Suspicious right upper lung']\n",
      "Labels     : [\"Chest AP view showed : 1. s / p sternotomy and CABG. Enlarged heart size with tortuous aorta. 2. R't middle and lower lung faint patches. L't lower lung consolidation. L't pleural effusion. 3. No mediastinum widening. 4. s / p endotracheal tube and NG intubation.\"]\n",
      "\n"
     ]
    },
    {
     "name": "stderr",
     "output_type": "stream",
     "text": [
      "Evaluting Epoch: 14:  40%|████      | 4/10 [00:01<00:02,  2.04it/s]"
     ]
    },
    {
     "name": "stdout",
     "output_type": "stream",
     "text": [
      "Names      : ['NLP_CHEST_015']\n",
      "Predictions: ['Chest plain film shows : Impression : - Suspicious right upper lung']\n",
      "Labels     : ['Chest X ray : - No obvious lung mass nor consolidation patch. - Normal heart size. - No pleural effusion.']\n",
      "\n"
     ]
    },
    {
     "name": "stderr",
     "output_type": "stream",
     "text": [
      "Evaluting Epoch: 14:  50%|█████     | 5/10 [00:02<00:02,  2.03it/s]"
     ]
    },
    {
     "name": "stdout",
     "output_type": "stream",
     "text": [
      "Names      : ['NLP_CHEST_027']\n",
      "Predictions: ['Chest plain film shows : Impression : - Increased infiltrations']\n",
      "Labels     : ['Chest PA View : Impression : > Cardiomegaly with bilateral pulmonary congestion. > Postinflammatory fibrosis in both upper lungs. > Atherosclerosis of aorta. > Old fractures of left 5th and 6th ribs. > R / O osteoporosis. > Spondylosis of thoracolumbar spine. > S / P abdominal operation in RUQ.']\n",
      "\n"
     ]
    },
    {
     "name": "stderr",
     "output_type": "stream",
     "text": [
      "Evaluting Epoch: 14:  60%|██████    | 6/10 [00:02<00:01,  2.10it/s]"
     ]
    },
    {
     "name": "stdout",
     "output_type": "stream",
     "text": [
      "Names      : ['NLP_CHEST_031']\n",
      "Predictions: ['Chest plain film shows : Impression : - Suspicious right upper lung']\n",
      "Labels     : ['Chest PA view : Impression : - Increased both lung markings. - Compatible with right lung nodules. - Fibrotic lesion in left upper lung. - Normal heart size. Atherosclerotic aorta. - Suspect right pleural effusion. - Spondylosis. R / O osteoporosis. - Compatible with multiple bony metastases. - S / P NG and endotracheal tube. - S / P Lt subclavian Port - A - cath.']\n",
      "\n"
     ]
    },
    {
     "name": "stderr",
     "output_type": "stream",
     "text": [
      "Evaluting Epoch: 14:  70%|███████   | 7/10 [00:03<00:01,  2.08it/s]"
     ]
    },
    {
     "name": "stdout",
     "output_type": "stream",
     "text": [
      "Names      : ['NLP_CHEST_057']\n",
      "Predictions: ['Chest plain film shows : Impression : - Increased infiltrations']\n",
      "Labels     : ['Chest plain film shows : Impression : - Increased infiltrations in both lungs. - Tortuous atherosclerotic dilated aorta. - Normal heart size. - DJD of spine. Old fracture of right ribs. - Increased both lung markings. S / P Lt jugular CVC insertion. S / P NG and endotracheal tube. - Susp. Lt pneumothorax. Suspect pneumomediastinum. Subcutaneous emphysema in bilateral neck. - S / P bilateral chest tube insertion.']\n",
      "\n"
     ]
    },
    {
     "name": "stderr",
     "output_type": "stream",
     "text": [
      "Evaluting Epoch: 14:  80%|████████  | 8/10 [00:03<00:00,  2.08it/s]"
     ]
    },
    {
     "name": "stdout",
     "output_type": "stream",
     "text": [
      "Names      : ['NLP_CHEST_059']\n",
      "Predictions: ['Chest plain film shows : Impression : - Increased infiltrations']\n",
      "Labels     : ['Supine chest AP view shows : Pigtail catheter at right lower chest. Decreased amount of right pleural effusion. Air in the right lower pleural space. Poor lung expansion. Mild subcutaneous emphysema at right chest wall. Right pleural thickening. Ill - defined masses at right perihilar region. Normal heart size.']\n",
      "\n"
     ]
    },
    {
     "name": "stderr",
     "output_type": "stream",
     "text": [
      "Evaluting Epoch: 14:  90%|█████████ | 9/10 [00:04<00:00,  2.06it/s]"
     ]
    },
    {
     "name": "stdout",
     "output_type": "stream",
     "text": [
      "Names      : ['NLP_CHEST_071']\n",
      "Predictions: ['Chest plain film shows : Impression : - Increased infiltrations']\n",
      "Labels     : ['Chest film shows : Impression : - Bilateral lung infiltrations. - Suspect right lower lung patch. Blunting right CP angle. - Tortuous atherosclerotic aorta. - Scoliosis, DJD and osteoporosis of spine. Compression fracture of T12. Old fracture of left ribs. - S / P fixation in L - spine. - S / P tracheostomy and NG tube.']\n",
      "\n"
     ]
    },
    {
     "name": "stderr",
     "output_type": "stream",
     "text": [
      "Evaluting Epoch: 14: 100%|██████████| 10/10 [00:04<00:00,  2.08it/s]\n"
     ]
    },
    {
     "name": "stdout",
     "output_type": "stream",
     "text": [
      "Names      : ['NLP_CHEST_085']\n",
      "Predictions: ['Chest plain film shows : Impression : - Suspicious right upper lung']\n",
      "Labels     : ['Chest X ray : - Right pneumothorax with pleural effusion, status post drainge tube placement. - Extensive subcutaneous emphysema from neck to right side thoracic cage. - Increased right hilar opacity. - Atherosclerosis and tortuous aorta. - Obscured bilateral costophrenic angles. - Spondylosis and mild scoliosis of thoracolumbar spine. - OA of right glenohumeral joint. - Generalized osteopenia.']\n",
      "\n",
      "Rouge-2 score on epoch 13: {'Rouge-L-P': 0.40801611087325373, 'Rouge-L-R': 0.09514143416046095, 'Rouge-L-F': 0.09514143416046095, 'Rouge-2-P': 0.2383974685445275, 'Rouge-2-R': 0.04689334490302768, 'Rouge-2-F': 0.04689334490302768}\n"
     ]
    },
    {
     "name": "stderr",
     "output_type": "stream",
     "text": [
      "Training Epoch [15 / 30]: 100%|██████████| 89/89 [00:19<00:00,  4.66it/s, loss=0.183]\n",
      "Evaluting Epoch: 15:  10%|█         | 1/10 [00:00<00:04,  2.19it/s]"
     ]
    },
    {
     "name": "stdout",
     "output_type": "stream",
     "text": [
      "Names      : ['NLP_CHEST_002']\n",
      "Predictions: ['Chest PA view shows : Impression : - Suspect right upper lung mass']\n",
      "Labels     : ['Chest PA view shows : Partial atelectasis at left lower lung field. Left pleural effusion. Borderline heart size. Atherosclerotic change of aortic knob. S / P port - A implantation via left subclavian vein. Intraperitoneal port catheter. Surgical clips at RUQ of abdomen.']\n",
      "\n"
     ]
    },
    {
     "name": "stderr",
     "output_type": "stream",
     "text": [
      "Evaluting Epoch: 15:  20%|██        | 2/10 [00:00<00:03,  2.23it/s]"
     ]
    },
    {
     "name": "stdout",
     "output_type": "stream",
     "text": [
      "Names      : ['NLP_CHEST_004']\n",
      "Predictions: ['Chest plain film shows : Impression : - Increased both lung markings.']\n",
      "Labels     : ['Chest PA view show : Impression : - S / P RLL wedge resection. - Bilateral lungs metastasis. - Left lower lung subsegmental atelectasis. - Increased infiltrations in both lungs. - Blunting right CP angle. - Tortuous atherosclerotic aorta. - Scoliosis, DJD and osteoporosis of spine. - Compression fracture of L1.']\n",
      "\n"
     ]
    },
    {
     "name": "stderr",
     "output_type": "stream",
     "text": [
      "Evaluting Epoch: 15:  30%|███       | 3/10 [00:01<00:03,  2.17it/s]"
     ]
    },
    {
     "name": "stdout",
     "output_type": "stream",
     "text": [
      "Names      : ['NLP_CHEST_011']\n",
      "Predictions: ['Chest AP view showed : 1. Normal heart size with tortuous aort']\n",
      "Labels     : [\"Chest AP view showed : 1. s / p sternotomy and CABG. Enlarged heart size with tortuous aorta. 2. R't middle and lower lung faint patches. L't lower lung consolidation. L't pleural effusion. 3. No mediastinum widening. 4. s / p endotracheal tube and NG intubation.\"]\n",
      "\n"
     ]
    },
    {
     "name": "stderr",
     "output_type": "stream",
     "text": [
      "Evaluting Epoch: 15:  40%|████      | 4/10 [00:01<00:02,  2.12it/s]"
     ]
    },
    {
     "name": "stdout",
     "output_type": "stream",
     "text": [
      "Names      : ['NLP_CHEST_015']\n",
      "Predictions: ['Chest PA view shows : Impression : - Suspect right upper lung mass']\n",
      "Labels     : ['Chest X ray : - No obvious lung mass nor consolidation patch. - Normal heart size. - No pleural effusion.']\n",
      "\n"
     ]
    },
    {
     "name": "stderr",
     "output_type": "stream",
     "text": [
      "Evaluting Epoch: 15:  50%|█████     | 5/10 [00:02<00:02,  2.09it/s]"
     ]
    },
    {
     "name": "stdout",
     "output_type": "stream",
     "text": [
      "Names      : ['NLP_CHEST_027']\n",
      "Predictions: ['Chest plain film view showed : Impression : - Increased both lung markings']\n",
      "Labels     : ['Chest PA View : Impression : > Cardiomegaly with bilateral pulmonary congestion. > Postinflammatory fibrosis in both upper lungs. > Atherosclerosis of aorta. > Old fractures of left 5th and 6th ribs. > R / O osteoporosis. > Spondylosis of thoracolumbar spine. > S / P abdominal operation in RUQ.']\n",
      "\n"
     ]
    },
    {
     "name": "stderr",
     "output_type": "stream",
     "text": [
      "Evaluting Epoch: 15:  60%|██████    | 6/10 [00:02<00:01,  2.11it/s]"
     ]
    },
    {
     "name": "stdout",
     "output_type": "stream",
     "text": [
      "Names      : ['NLP_CHEST_031']\n",
      "Predictions: ['Chest PA view : Impression : - Increased both lung markings. -']\n",
      "Labels     : ['Chest PA view : Impression : - Increased both lung markings. - Compatible with right lung nodules. - Fibrotic lesion in left upper lung. - Normal heart size. Atherosclerotic aorta. - Suspect right pleural effusion. - Spondylosis. R / O osteoporosis. - Compatible with multiple bony metastases. - S / P NG and endotracheal tube. - S / P Lt subclavian Port - A - cath.']\n",
      "\n"
     ]
    },
    {
     "name": "stderr",
     "output_type": "stream",
     "text": [
      "Evaluting Epoch: 15:  70%|███████   | 7/10 [00:03<00:01,  2.04it/s]"
     ]
    },
    {
     "name": "stdout",
     "output_type": "stream",
     "text": [
      "Names      : ['NLP_CHEST_057']\n",
      "Predictions: ['Chest plain film shows : Impression : - Suspicious pulmonary edema']\n",
      "Labels     : ['Chest plain film shows : Impression : - Increased infiltrations in both lungs. - Tortuous atherosclerotic dilated aorta. - Normal heart size. - DJD of spine. Old fracture of right ribs. - Increased both lung markings. S / P Lt jugular CVC insertion. S / P NG and endotracheal tube. - Susp. Lt pneumothorax. Suspect pneumomediastinum. Subcutaneous emphysema in bilateral neck. - S / P bilateral chest tube insertion.']\n",
      "\n"
     ]
    },
    {
     "name": "stderr",
     "output_type": "stream",
     "text": [
      "Evaluting Epoch: 15:  80%|████████  | 8/10 [00:03<00:00,  2.11it/s]"
     ]
    },
    {
     "name": "stdout",
     "output_type": "stream",
     "text": [
      "Names      : ['NLP_CHEST_059']\n",
      "Predictions: ['Chest PA view shows : Impression : - Increased infiltrations']\n",
      "Labels     : ['Supine chest AP view shows : Pigtail catheter at right lower chest. Decreased amount of right pleural effusion. Air in the right lower pleural space. Poor lung expansion. Mild subcutaneous emphysema at right chest wall. Right pleural thickening. Ill - defined masses at right perihilar region. Normal heart size.']\n",
      "\n"
     ]
    },
    {
     "name": "stderr",
     "output_type": "stream",
     "text": [
      "Evaluting Epoch: 15:  90%|█████████ | 9/10 [00:04<00:00,  2.05it/s]"
     ]
    },
    {
     "name": "stdout",
     "output_type": "stream",
     "text": [
      "Names      : ['NLP_CHEST_071']\n",
      "Predictions: ['Chest plain film shows : Impression : - Suspect right upper lung mass']\n",
      "Labels     : ['Chest film shows : Impression : - Bilateral lung infiltrations. - Suspect right lower lung patch. Blunting right CP angle. - Tortuous atherosclerotic aorta. - Scoliosis, DJD and osteoporosis of spine. Compression fracture of T12. Old fracture of left ribs. - S / P fixation in L - spine. - S / P tracheostomy and NG tube.']\n",
      "\n"
     ]
    },
    {
     "name": "stderr",
     "output_type": "stream",
     "text": [
      "Evaluting Epoch: 15: 100%|██████████| 10/10 [00:04<00:00,  2.08it/s]\n"
     ]
    },
    {
     "name": "stdout",
     "output_type": "stream",
     "text": [
      "Names      : ['NLP_CHEST_085']\n",
      "Predictions: ['Chest PA view showed : Impression : - Suspicious pulmonary edema']\n",
      "Labels     : ['Chest X ray : - Right pneumothorax with pleural effusion, status post drainge tube placement. - Extensive subcutaneous emphysema from neck to right side thoracic cage. - Increased right hilar opacity. - Atherosclerosis and tortuous aorta. - Obscured bilateral costophrenic angles. - Spondylosis and mild scoliosis of thoracolumbar spine. - OA of right glenohumeral joint. - Generalized osteopenia.']\n",
      "\n",
      "Rouge-2 score on epoch 14: {'Rouge-L-P': 0.4195928145928146, 'Rouge-L-R': 0.09847024980520831, 'Rouge-L-F': 0.09847024980520831, 'Rouge-2-P': 0.25159184606243445, 'Rouge-2-R': 0.050136974105881624, 'Rouge-2-F': 0.050136974105881624}\n"
     ]
    },
    {
     "name": "stderr",
     "output_type": "stream",
     "text": [
      "Training Epoch [16 / 30]: 100%|██████████| 89/89 [00:18<00:00,  4.78it/s, loss=0.163]\n",
      "Evaluting Epoch: 16:  10%|█         | 1/10 [00:00<00:03,  2.26it/s]"
     ]
    },
    {
     "name": "stdout",
     "output_type": "stream",
     "text": [
      "Names      : ['NLP_CHEST_002']\n",
      "Predictions: ['Chest PA view shows : Impression : > Increased bilateral lung markings.']\n",
      "Labels     : ['Chest PA view shows : Partial atelectasis at left lower lung field. Left pleural effusion. Borderline heart size. Atherosclerotic change of aortic knob. S / P port - A implantation via left subclavian vein. Intraperitoneal port catheter. Surgical clips at RUQ of abdomen.']\n",
      "\n"
     ]
    },
    {
     "name": "stderr",
     "output_type": "stream",
     "text": [
      "Evaluting Epoch: 16:  20%|██        | 2/10 [00:00<00:03,  2.05it/s]"
     ]
    },
    {
     "name": "stdout",
     "output_type": "stream",
     "text": [
      "Names      : ['NLP_CHEST_004']\n",
      "Predictions: ['Chest PA view shows : Impression : - Increased both lung markings.']\n",
      "Labels     : ['Chest PA view show : Impression : - S / P RLL wedge resection. - Bilateral lungs metastasis. - Left lower lung subsegmental atelectasis. - Increased infiltrations in both lungs. - Blunting right CP angle. - Tortuous atherosclerotic aorta. - Scoliosis, DJD and osteoporosis of spine. - Compression fracture of L1.']\n",
      "\n"
     ]
    },
    {
     "name": "stderr",
     "output_type": "stream",
     "text": [
      "Evaluting Epoch: 16:  30%|███       | 3/10 [00:01<00:03,  2.06it/s]"
     ]
    },
    {
     "name": "stdout",
     "output_type": "stream",
     "text": [
      "Names      : ['NLP_CHEST_011']\n",
      "Predictions: ['Chest plain film shows : Impression : - Suspicious pulmonary edema']\n",
      "Labels     : [\"Chest AP view showed : 1. s / p sternotomy and CABG. Enlarged heart size with tortuous aorta. 2. R't middle and lower lung faint patches. L't lower lung consolidation. L't pleural effusion. 3. No mediastinum widening. 4. s / p endotracheal tube and NG intubation.\"]\n",
      "\n"
     ]
    },
    {
     "name": "stderr",
     "output_type": "stream",
     "text": [
      "Evaluting Epoch: 16:  40%|████      | 4/10 [00:01<00:02,  2.07it/s]"
     ]
    },
    {
     "name": "stdout",
     "output_type": "stream",
     "text": [
      "Names      : ['NLP_CHEST_015']\n",
      "Predictions: ['Chest PA view shows : > No obvious lung mass nor consolidation patch. > Normal']\n",
      "Labels     : ['Chest X ray : - No obvious lung mass nor consolidation patch. - Normal heart size. - No pleural effusion.']\n",
      "\n"
     ]
    },
    {
     "name": "stderr",
     "output_type": "stream",
     "text": [
      "Evaluting Epoch: 16:  50%|█████     | 5/10 [00:02<00:02,  2.08it/s]"
     ]
    },
    {
     "name": "stdout",
     "output_type": "stream",
     "text": [
      "Names      : ['NLP_CHEST_027']\n",
      "Predictions: ['Chest plain film shows : Impression : - Increased both lung markings.']\n",
      "Labels     : ['Chest PA View : Impression : > Cardiomegaly with bilateral pulmonary congestion. > Postinflammatory fibrosis in both upper lungs. > Atherosclerosis of aorta. > Old fractures of left 5th and 6th ribs. > R / O osteoporosis. > Spondylosis of thoracolumbar spine. > S / P abdominal operation in RUQ.']\n",
      "\n"
     ]
    },
    {
     "name": "stderr",
     "output_type": "stream",
     "text": [
      "Evaluting Epoch: 16:  60%|██████    | 6/10 [00:02<00:01,  2.05it/s]"
     ]
    },
    {
     "name": "stdout",
     "output_type": "stream",
     "text": [
      "Names      : ['NLP_CHEST_031']\n",
      "Predictions: ['Chest PA view shows : Impression : - Increased both lung markings.']\n",
      "Labels     : ['Chest PA view : Impression : - Increased both lung markings. - Compatible with right lung nodules. - Fibrotic lesion in left upper lung. - Normal heart size. Atherosclerotic aorta. - Suspect right pleural effusion. - Spondylosis. R / O osteoporosis. - Compatible with multiple bony metastases. - S / P NG and endotracheal tube. - S / P Lt subclavian Port - A - cath.']\n",
      "\n"
     ]
    },
    {
     "name": "stderr",
     "output_type": "stream",
     "text": [
      "Evaluting Epoch: 16:  70%|███████   | 7/10 [00:03<00:01,  2.03it/s]"
     ]
    },
    {
     "name": "stdout",
     "output_type": "stream",
     "text": [
      "Names      : ['NLP_CHEST_057']\n",
      "Predictions: ['Chest PA view shows : Impression : - Increased both lung markings.']\n",
      "Labels     : ['Chest plain film shows : Impression : - Increased infiltrations in both lungs. - Tortuous atherosclerotic dilated aorta. - Normal heart size. - DJD of spine. Old fracture of right ribs. - Increased both lung markings. S / P Lt jugular CVC insertion. S / P NG and endotracheal tube. - Susp. Lt pneumothorax. Suspect pneumomediastinum. Subcutaneous emphysema in bilateral neck. - S / P bilateral chest tube insertion.']\n",
      "\n"
     ]
    },
    {
     "name": "stderr",
     "output_type": "stream",
     "text": [
      "Evaluting Epoch: 16:  80%|████████  | 8/10 [00:03<00:01,  1.94it/s]"
     ]
    },
    {
     "name": "stdout",
     "output_type": "stream",
     "text": [
      "Names      : ['NLP_CHEST_059']\n",
      "Predictions: ['Chest PA view shows : Impression : > Increased bilateral lung markings.']\n",
      "Labels     : ['Supine chest AP view shows : Pigtail catheter at right lower chest. Decreased amount of right pleural effusion. Air in the right lower pleural space. Poor lung expansion. Mild subcutaneous emphysema at right chest wall. Right pleural thickening. Ill - defined masses at right perihilar region. Normal heart size.']\n",
      "\n"
     ]
    },
    {
     "name": "stderr",
     "output_type": "stream",
     "text": [
      "Evaluting Epoch: 16:  90%|█████████ | 9/10 [00:04<00:00,  1.91it/s]"
     ]
    },
    {
     "name": "stdout",
     "output_type": "stream",
     "text": [
      "Names      : ['NLP_CHEST_071']\n",
      "Predictions: ['Chest PA view shows : Impression : - Increased both lung markings.']\n",
      "Labels     : ['Chest film shows : Impression : - Bilateral lung infiltrations. - Suspect right lower lung patch. Blunting right CP angle. - Tortuous atherosclerotic aorta. - Scoliosis, DJD and osteoporosis of spine. Compression fracture of T12. Old fracture of left ribs. - S / P fixation in L - spine. - S / P tracheostomy and NG tube.']\n",
      "\n"
     ]
    },
    {
     "name": "stderr",
     "output_type": "stream",
     "text": [
      "Evaluting Epoch: 16: 100%|██████████| 10/10 [00:05<00:00,  1.95it/s]\n"
     ]
    },
    {
     "name": "stdout",
     "output_type": "stream",
     "text": [
      "Names      : ['NLP_CHEST_085']\n",
      "Predictions: ['Chest PA view shows : Impression : - Increased both lung markings.']\n",
      "Labels     : ['Chest X ray : - Right pneumothorax with pleural effusion, status post drainge tube placement. - Extensive subcutaneous emphysema from neck to right side thoracic cage. - Increased right hilar opacity. - Atherosclerosis and tortuous aorta. - Obscured bilateral costophrenic angles. - Spondylosis and mild scoliosis of thoracolumbar spine. - OA of right glenohumeral joint. - Generalized osteopenia.']\n",
      "\n",
      "Rouge-2 score on epoch 15: {'Rouge-L-P': 0.42783796065046065, 'Rouge-L-R': 0.10196887871470031, 'Rouge-L-F': 0.10196887871470031, 'Rouge-2-P': 0.25956865438483107, 'Rouge-2-R': 0.053104259787585685, 'Rouge-2-F': 0.053104259787585685}\n"
     ]
    },
    {
     "name": "stderr",
     "output_type": "stream",
     "text": [
      "Training Epoch [17 / 30]: 100%|██████████| 89/89 [00:19<00:00,  4.68it/s, loss=0.151]\n",
      "Evaluting Epoch: 17:  10%|█         | 1/10 [00:00<00:04,  2.12it/s]"
     ]
    },
    {
     "name": "stdout",
     "output_type": "stream",
     "text": [
      "Names      : ['NLP_CHEST_002']\n",
      "Predictions: ['Chest PA view shows : Impression : - Suspicious right upper lung']\n",
      "Labels     : ['Chest PA view shows : Partial atelectasis at left lower lung field. Left pleural effusion. Borderline heart size. Atherosclerotic change of aortic knob. S / P port - A implantation via left subclavian vein. Intraperitoneal port catheter. Surgical clips at RUQ of abdomen.']\n",
      "\n"
     ]
    },
    {
     "name": "stderr",
     "output_type": "stream",
     "text": [
      "Evaluting Epoch: 17:  20%|██        | 2/10 [00:00<00:03,  2.07it/s]"
     ]
    },
    {
     "name": "stdout",
     "output_type": "stream",
     "text": [
      "Names      : ['NLP_CHEST_004']\n",
      "Predictions: ['Chest plain film shows : Impression : - Suspicious right upper lung']\n",
      "Labels     : ['Chest PA view show : Impression : - S / P RLL wedge resection. - Bilateral lungs metastasis. - Left lower lung subsegmental atelectasis. - Increased infiltrations in both lungs. - Blunting right CP angle. - Tortuous atherosclerotic aorta. - Scoliosis, DJD and osteoporosis of spine. - Compression fracture of L1.']\n",
      "\n"
     ]
    },
    {
     "name": "stderr",
     "output_type": "stream",
     "text": [
      "Evaluting Epoch: 17:  30%|███       | 3/10 [00:01<00:03,  2.02it/s]"
     ]
    },
    {
     "name": "stdout",
     "output_type": "stream",
     "text": [
      "Names      : ['NLP_CHEST_011']\n",
      "Predictions: ['Chest plain film shows : Impression : - Suspicious pulmonary edema']\n",
      "Labels     : [\"Chest AP view showed : 1. s / p sternotomy and CABG. Enlarged heart size with tortuous aorta. 2. R't middle and lower lung faint patches. L't lower lung consolidation. L't pleural effusion. 3. No mediastinum widening. 4. s / p endotracheal tube and NG intubation.\"]\n",
      "\n"
     ]
    },
    {
     "name": "stderr",
     "output_type": "stream",
     "text": [
      "Evaluting Epoch: 17:  40%|████      | 4/10 [00:01<00:02,  2.03it/s]"
     ]
    },
    {
     "name": "stdout",
     "output_type": "stream",
     "text": [
      "Names      : ['NLP_CHEST_015']\n",
      "Predictions: ['Chest plain film view showed : Impression : - Suspicious right upper']\n",
      "Labels     : ['Chest X ray : - No obvious lung mass nor consolidation patch. - Normal heart size. - No pleural effusion.']\n",
      "\n"
     ]
    },
    {
     "name": "stderr",
     "output_type": "stream",
     "text": [
      "Evaluting Epoch: 17:  50%|█████     | 5/10 [00:02<00:02,  2.11it/s]"
     ]
    },
    {
     "name": "stdout",
     "output_type": "stream",
     "text": [
      "Names      : ['NLP_CHEST_027']\n",
      "Predictions: ['Chest plain film view showed : Impression : - Suspicious right upper']\n",
      "Labels     : ['Chest PA View : Impression : > Cardiomegaly with bilateral pulmonary congestion. > Postinflammatory fibrosis in both upper lungs. > Atherosclerosis of aorta. > Old fractures of left 5th and 6th ribs. > R / O osteoporosis. > Spondylosis of thoracolumbar spine. > S / P abdominal operation in RUQ.']\n",
      "\n"
     ]
    },
    {
     "name": "stderr",
     "output_type": "stream",
     "text": [
      "Evaluting Epoch: 17:  60%|██████    | 6/10 [00:02<00:01,  2.11it/s]"
     ]
    },
    {
     "name": "stdout",
     "output_type": "stream",
     "text": [
      "Names      : ['NLP_CHEST_031']\n",
      "Predictions: ['Chest plain film view showed : Impression : - Suspicious right upper']\n",
      "Labels     : ['Chest PA view : Impression : - Increased both lung markings. - Compatible with right lung nodules. - Fibrotic lesion in left upper lung. - Normal heart size. Atherosclerotic aorta. - Suspect right pleural effusion. - Spondylosis. R / O osteoporosis. - Compatible with multiple bony metastases. - S / P NG and endotracheal tube. - S / P Lt subclavian Port - A - cath.']\n",
      "\n"
     ]
    },
    {
     "name": "stderr",
     "output_type": "stream",
     "text": [
      "Evaluting Epoch: 17:  70%|███████   | 7/10 [00:03<00:01,  2.08it/s]"
     ]
    },
    {
     "name": "stdout",
     "output_type": "stream",
     "text": [
      "Names      : ['NLP_CHEST_057']\n",
      "Predictions: ['Chest plain film shows : Impression : - Suspicious right upper lung']\n",
      "Labels     : ['Chest plain film shows : Impression : - Increased infiltrations in both lungs. - Tortuous atherosclerotic dilated aorta. - Normal heart size. - DJD of spine. Old fracture of right ribs. - Increased both lung markings. S / P Lt jugular CVC insertion. S / P NG and endotracheal tube. - Susp. Lt pneumothorax. Suspect pneumomediastinum. Subcutaneous emphysema in bilateral neck. - S / P bilateral chest tube insertion.']\n",
      "\n"
     ]
    },
    {
     "name": "stderr",
     "output_type": "stream",
     "text": [
      "Evaluting Epoch: 17:  80%|████████  | 8/10 [00:03<00:00,  2.07it/s]"
     ]
    },
    {
     "name": "stdout",
     "output_type": "stream",
     "text": [
      "Names      : ['NLP_CHEST_059']\n",
      "Predictions: ['Chest plain film shows : Impression : - Suspicious right upper lung']\n",
      "Labels     : ['Supine chest AP view shows : Pigtail catheter at right lower chest. Decreased amount of right pleural effusion. Air in the right lower pleural space. Poor lung expansion. Mild subcutaneous emphysema at right chest wall. Right pleural thickening. Ill - defined masses at right perihilar region. Normal heart size.']\n",
      "\n"
     ]
    },
    {
     "name": "stderr",
     "output_type": "stream",
     "text": [
      "Evaluting Epoch: 17:  90%|█████████ | 9/10 [00:04<00:00,  2.11it/s]"
     ]
    },
    {
     "name": "stdout",
     "output_type": "stream",
     "text": [
      "Names      : ['NLP_CHEST_071']\n",
      "Predictions: ['Chest plain film shows : Impression : - Suspicious right upper lung']\n",
      "Labels     : ['Chest film shows : Impression : - Bilateral lung infiltrations. - Suspect right lower lung patch. Blunting right CP angle. - Tortuous atherosclerotic aorta. - Scoliosis, DJD and osteoporosis of spine. Compression fracture of T12. Old fracture of left ribs. - S / P fixation in L - spine. - S / P tracheostomy and NG tube.']\n",
      "\n"
     ]
    },
    {
     "name": "stderr",
     "output_type": "stream",
     "text": [
      "Evaluting Epoch: 17: 100%|██████████| 10/10 [00:04<00:00,  2.08it/s]\n"
     ]
    },
    {
     "name": "stdout",
     "output_type": "stream",
     "text": [
      "Names      : ['NLP_CHEST_085']\n",
      "Predictions: ['Chest plain film view showed : Impression : - Suspicious right upper']\n",
      "Labels     : ['Chest X ray : - Right pneumothorax with pleural effusion, status post drainge tube placement. - Extensive subcutaneous emphysema from neck to right side thoracic cage. - Increased right hilar opacity. - Atherosclerosis and tortuous aorta. - Obscured bilateral costophrenic angles. - Spondylosis and mild scoliosis of thoracolumbar spine. - OA of right glenohumeral joint. - Generalized osteopenia.']\n",
      "\n",
      "Rouge-2 score on epoch 16: {'Rouge-L-P': 0.4307013248189719, 'Rouge-L-R': 0.10259007860208699, 'Rouge-L-F': 0.10259007860208699, 'Rouge-2-P': 0.2587384126830496, 'Rouge-2-R': 0.05307132645071994, 'Rouge-2-F': 0.05307132645071994}\n"
     ]
    },
    {
     "name": "stderr",
     "output_type": "stream",
     "text": [
      "Training Epoch [18 / 30]: 100%|██████████| 89/89 [00:19<00:00,  4.67it/s, loss=0.135]\n",
      "Evaluting Epoch: 18:  10%|█         | 1/10 [00:00<00:04,  1.84it/s]"
     ]
    },
    {
     "name": "stdout",
     "output_type": "stream",
     "text": [
      "Names      : ['NLP_CHEST_002']\n",
      "Predictions: ['Chest PA view shows : Impression : > Bilateral lung markings increased']\n",
      "Labels     : ['Chest PA view shows : Partial atelectasis at left lower lung field. Left pleural effusion. Borderline heart size. Atherosclerotic change of aortic knob. S / P port - A implantation via left subclavian vein. Intraperitoneal port catheter. Surgical clips at RUQ of abdomen.']\n",
      "\n"
     ]
    },
    {
     "name": "stderr",
     "output_type": "stream",
     "text": [
      "Evaluting Epoch: 18:  20%|██        | 2/10 [00:01<00:04,  1.97it/s]"
     ]
    },
    {
     "name": "stdout",
     "output_type": "stream",
     "text": [
      "Names      : ['NLP_CHEST_004']\n",
      "Predictions: ['Chest plain film shows : Impression : - Suspicious pulmonary edema']\n",
      "Labels     : ['Chest PA view show : Impression : - S / P RLL wedge resection. - Bilateral lungs metastasis. - Left lower lung subsegmental atelectasis. - Increased infiltrations in both lungs. - Blunting right CP angle. - Tortuous atherosclerotic aorta. - Scoliosis, DJD and osteoporosis of spine. - Compression fracture of L1.']\n",
      "\n"
     ]
    },
    {
     "name": "stderr",
     "output_type": "stream",
     "text": [
      "Evaluting Epoch: 18:  30%|███       | 3/10 [00:01<00:03,  2.02it/s]"
     ]
    },
    {
     "name": "stdout",
     "output_type": "stream",
     "text": [
      "Names      : ['NLP_CHEST_011']\n",
      "Predictions: ['Chest plain film shows : Impression : - Suspicious pulmonary edema']\n",
      "Labels     : [\"Chest AP view showed : 1. s / p sternotomy and CABG. Enlarged heart size with tortuous aorta. 2. R't middle and lower lung faint patches. L't lower lung consolidation. L't pleural effusion. 3. No mediastinum widening. 4. s / p endotracheal tube and NG intubation.\"]\n",
      "\n"
     ]
    },
    {
     "name": "stderr",
     "output_type": "stream",
     "text": [
      "Evaluting Epoch: 18:  40%|████      | 4/10 [00:01<00:02,  2.04it/s]"
     ]
    },
    {
     "name": "stdout",
     "output_type": "stream",
     "text": [
      "Names      : ['NLP_CHEST_015']\n",
      "Predictions: ['Chest PA view shows : > No obvious lung mass nor consolidation patch. > Normal']\n",
      "Labels     : ['Chest X ray : - No obvious lung mass nor consolidation patch. - Normal heart size. - No pleural effusion.']\n",
      "\n"
     ]
    },
    {
     "name": "stderr",
     "output_type": "stream",
     "text": [
      "Evaluting Epoch: 18:  50%|█████     | 5/10 [00:02<00:02,  2.05it/s]"
     ]
    },
    {
     "name": "stdout",
     "output_type": "stream",
     "text": [
      "Names      : ['NLP_CHEST_027']\n",
      "Predictions: ['Chest plain film view showed : Impression : - Suspicious pulmonary ed']\n",
      "Labels     : ['Chest PA View : Impression : > Cardiomegaly with bilateral pulmonary congestion. > Postinflammatory fibrosis in both upper lungs. > Atherosclerosis of aorta. > Old fractures of left 5th and 6th ribs. > R / O osteoporosis. > Spondylosis of thoracolumbar spine. > S / P abdominal operation in RUQ.']\n",
      "\n"
     ]
    },
    {
     "name": "stderr",
     "output_type": "stream",
     "text": [
      "Evaluting Epoch: 18:  60%|██████    | 6/10 [00:02<00:01,  2.02it/s]"
     ]
    },
    {
     "name": "stdout",
     "output_type": "stream",
     "text": [
      "Names      : ['NLP_CHEST_031']\n",
      "Predictions: ['Chest plain film view showed : Impression : - Suspicious right upper']\n",
      "Labels     : ['Chest PA view : Impression : - Increased both lung markings. - Compatible with right lung nodules. - Fibrotic lesion in left upper lung. - Normal heart size. Atherosclerotic aorta. - Suspect right pleural effusion. - Spondylosis. R / O osteoporosis. - Compatible with multiple bony metastases. - S / P NG and endotracheal tube. - S / P Lt subclavian Port - A - cath.']\n",
      "\n"
     ]
    },
    {
     "name": "stderr",
     "output_type": "stream",
     "text": [
      "Evaluting Epoch: 18:  70%|███████   | 7/10 [00:03<00:01,  2.06it/s]"
     ]
    },
    {
     "name": "stdout",
     "output_type": "stream",
     "text": [
      "Names      : ['NLP_CHEST_057']\n",
      "Predictions: ['Chest plain film shows : Impression : - Suspicious pulmonary edema']\n",
      "Labels     : ['Chest plain film shows : Impression : - Increased infiltrations in both lungs. - Tortuous atherosclerotic dilated aorta. - Normal heart size. - DJD of spine. Old fracture of right ribs. - Increased both lung markings. S / P Lt jugular CVC insertion. S / P NG and endotracheal tube. - Susp. Lt pneumothorax. Suspect pneumomediastinum. Subcutaneous emphysema in bilateral neck. - S / P bilateral chest tube insertion.']\n",
      "\n"
     ]
    },
    {
     "name": "stderr",
     "output_type": "stream",
     "text": [
      "Evaluting Epoch: 18:  80%|████████  | 8/10 [00:03<00:00,  2.12it/s]"
     ]
    },
    {
     "name": "stdout",
     "output_type": "stream",
     "text": [
      "Names      : ['NLP_CHEST_059']\n",
      "Predictions: ['Chest plain film shows : Impression : - Suspicious right upper lung']\n",
      "Labels     : ['Supine chest AP view shows : Pigtail catheter at right lower chest. Decreased amount of right pleural effusion. Air in the right lower pleural space. Poor lung expansion. Mild subcutaneous emphysema at right chest wall. Right pleural thickening. Ill - defined masses at right perihilar region. Normal heart size.']\n",
      "\n"
     ]
    },
    {
     "name": "stderr",
     "output_type": "stream",
     "text": [
      "Evaluting Epoch: 18:  90%|█████████ | 9/10 [00:04<00:00,  2.10it/s]"
     ]
    },
    {
     "name": "stdout",
     "output_type": "stream",
     "text": [
      "Names      : ['NLP_CHEST_071']\n",
      "Predictions: ['Chest plain film shows : Impression : - Suspicious pulmonary edema']\n",
      "Labels     : ['Chest film shows : Impression : - Bilateral lung infiltrations. - Suspect right lower lung patch. Blunting right CP angle. - Tortuous atherosclerotic aorta. - Scoliosis, DJD and osteoporosis of spine. Compression fracture of T12. Old fracture of left ribs. - S / P fixation in L - spine. - S / P tracheostomy and NG tube.']\n",
      "\n"
     ]
    },
    {
     "name": "stderr",
     "output_type": "stream",
     "text": [
      "Evaluting Epoch: 18: 100%|██████████| 10/10 [00:04<00:00,  2.06it/s]\n"
     ]
    },
    {
     "name": "stdout",
     "output_type": "stream",
     "text": [
      "Names      : ['NLP_CHEST_085']\n",
      "Predictions: ['Chest plain film view showed : Impression : - Suspicious pulmonary ed']\n",
      "Labels     : ['Chest X ray : - Right pneumothorax with pleural effusion, status post drainge tube placement. - Extensive subcutaneous emphysema from neck to right side thoracic cage. - Increased right hilar opacity. - Atherosclerosis and tortuous aorta. - Obscured bilateral costophrenic angles. - Spondylosis and mild scoliosis of thoracolumbar spine. - OA of right glenohumeral joint. - Generalized osteopenia.']\n",
      "\n",
      "Rouge-2 score on epoch 17: {'Rouge-L-P': 0.4336253252919921, 'Rouge-L-R': 0.1045260204520295, 'Rouge-L-F': 0.1045260204520295, 'Rouge-2-P': 0.2606338976927215, 'Rouge-2-R': 0.05450404067759952, 'Rouge-2-F': 0.05450404067759952}\n"
     ]
    },
    {
     "name": "stderr",
     "output_type": "stream",
     "text": [
      "Training Epoch [19 / 30]: 100%|██████████| 89/89 [00:18<00:00,  4.75it/s, loss=0.119] \n",
      "Evaluting Epoch: 19:  10%|█         | 1/10 [00:00<00:04,  2.05it/s]"
     ]
    },
    {
     "name": "stdout",
     "output_type": "stream",
     "text": [
      "Names      : ['NLP_CHEST_002']\n",
      "Predictions: ['Chest PA view shows : Impression : > No obvious lung mass nor consolidation']\n",
      "Labels     : ['Chest PA view shows : Partial atelectasis at left lower lung field. Left pleural effusion. Borderline heart size. Atherosclerotic change of aortic knob. S / P port - A implantation via left subclavian vein. Intraperitoneal port catheter. Surgical clips at RUQ of abdomen.']\n",
      "\n"
     ]
    },
    {
     "name": "stderr",
     "output_type": "stream",
     "text": [
      "Evaluting Epoch: 19:  20%|██        | 2/10 [00:00<00:03,  2.09it/s]"
     ]
    },
    {
     "name": "stdout",
     "output_type": "stream",
     "text": [
      "Names      : ['NLP_CHEST_004']\n",
      "Predictions: ['Chest PA shows : Impression : - Suspicious pulmonary edema.']\n",
      "Labels     : ['Chest PA view show : Impression : - S / P RLL wedge resection. - Bilateral lungs metastasis. - Left lower lung subsegmental atelectasis. - Increased infiltrations in both lungs. - Blunting right CP angle. - Tortuous atherosclerotic aorta. - Scoliosis, DJD and osteoporosis of spine. - Compression fracture of L1.']\n",
      "\n"
     ]
    },
    {
     "name": "stderr",
     "output_type": "stream",
     "text": [
      "Evaluting Epoch: 19:  30%|███       | 3/10 [00:01<00:03,  2.02it/s]"
     ]
    },
    {
     "name": "stdout",
     "output_type": "stream",
     "text": [
      "Names      : ['NLP_CHEST_011']\n",
      "Predictions: ['Chest AP view showed : 1. Normal heart size with tortuous aort']\n",
      "Labels     : [\"Chest AP view showed : 1. s / p sternotomy and CABG. Enlarged heart size with tortuous aorta. 2. R't middle and lower lung faint patches. L't lower lung consolidation. L't pleural effusion. 3. No mediastinum widening. 4. s / p endotracheal tube and NG intubation.\"]\n",
      "\n"
     ]
    },
    {
     "name": "stderr",
     "output_type": "stream",
     "text": [
      "Evaluting Epoch: 19:  40%|████      | 4/10 [00:01<00:02,  2.04it/s]"
     ]
    },
    {
     "name": "stdout",
     "output_type": "stream",
     "text": [
      "Names      : ['NLP_CHEST_015']\n",
      "Predictions: ['Chest PA view shows : Impression : - Suspicious pulmonary edema']\n",
      "Labels     : ['Chest X ray : - No obvious lung mass nor consolidation patch. - Normal heart size. - No pleural effusion.']\n",
      "\n"
     ]
    },
    {
     "name": "stderr",
     "output_type": "stream",
     "text": [
      "Evaluting Epoch: 19:  50%|█████     | 5/10 [00:02<00:02,  2.05it/s]"
     ]
    },
    {
     "name": "stdout",
     "output_type": "stream",
     "text": [
      "Names      : ['NLP_CHEST_027']\n",
      "Predictions: ['Chest plain film shows : Impression : - Suspicious pulmonary edema']\n",
      "Labels     : ['Chest PA View : Impression : > Cardiomegaly with bilateral pulmonary congestion. > Postinflammatory fibrosis in both upper lungs. > Atherosclerosis of aorta. > Old fractures of left 5th and 6th ribs. > R / O osteoporosis. > Spondylosis of thoracolumbar spine. > S / P abdominal operation in RUQ.']\n",
      "\n"
     ]
    },
    {
     "name": "stderr",
     "output_type": "stream",
     "text": [
      "Evaluting Epoch: 19:  60%|██████    | 6/10 [00:02<00:01,  2.07it/s]"
     ]
    },
    {
     "name": "stdout",
     "output_type": "stream",
     "text": [
      "Names      : ['NLP_CHEST_031']\n",
      "Predictions: ['Chest PA view : Impression : - Increased both lung markings. -']\n",
      "Labels     : ['Chest PA view : Impression : - Increased both lung markings. - Compatible with right lung nodules. - Fibrotic lesion in left upper lung. - Normal heart size. Atherosclerotic aorta. - Suspect right pleural effusion. - Spondylosis. R / O osteoporosis. - Compatible with multiple bony metastases. - S / P NG and endotracheal tube. - S / P Lt subclavian Port - A - cath.']\n",
      "\n"
     ]
    },
    {
     "name": "stderr",
     "output_type": "stream",
     "text": [
      "Evaluting Epoch: 19:  70%|███████   | 7/10 [00:03<00:01,  2.05it/s]"
     ]
    },
    {
     "name": "stdout",
     "output_type": "stream",
     "text": [
      "Names      : ['NLP_CHEST_057']\n",
      "Predictions: ['Chest PA shows : Impression : - Suspicious pulmonary edema.']\n",
      "Labels     : ['Chest plain film shows : Impression : - Increased infiltrations in both lungs. - Tortuous atherosclerotic dilated aorta. - Normal heart size. - DJD of spine. Old fracture of right ribs. - Increased both lung markings. S / P Lt jugular CVC insertion. S / P NG and endotracheal tube. - Susp. Lt pneumothorax. Suspect pneumomediastinum. Subcutaneous emphysema in bilateral neck. - S / P bilateral chest tube insertion.']\n",
      "\n"
     ]
    },
    {
     "name": "stderr",
     "output_type": "stream",
     "text": [
      "Evaluting Epoch: 19:  80%|████████  | 8/10 [00:03<00:00,  2.04it/s]"
     ]
    },
    {
     "name": "stdout",
     "output_type": "stream",
     "text": [
      "Names      : ['NLP_CHEST_059']\n",
      "Predictions: ['Chest PA shows : Impression : - Suspicious pulmonary edema.']\n",
      "Labels     : ['Supine chest AP view shows : Pigtail catheter at right lower chest. Decreased amount of right pleural effusion. Air in the right lower pleural space. Poor lung expansion. Mild subcutaneous emphysema at right chest wall. Right pleural thickening. Ill - defined masses at right perihilar region. Normal heart size.']\n",
      "\n"
     ]
    },
    {
     "name": "stderr",
     "output_type": "stream",
     "text": [
      "Evaluting Epoch: 19:  90%|█████████ | 9/10 [00:04<00:00,  2.10it/s]"
     ]
    },
    {
     "name": "stdout",
     "output_type": "stream",
     "text": [
      "Names      : ['NLP_CHEST_071']\n",
      "Predictions: ['Chest PA shows : Impression : - Suspect pulmonary edema. Super']\n",
      "Labels     : ['Chest film shows : Impression : - Bilateral lung infiltrations. - Suspect right lower lung patch. Blunting right CP angle. - Tortuous atherosclerotic aorta. - Scoliosis, DJD and osteoporosis of spine. Compression fracture of T12. Old fracture of left ribs. - S / P fixation in L - spine. - S / P tracheostomy and NG tube.']\n",
      "\n"
     ]
    },
    {
     "name": "stderr",
     "output_type": "stream",
     "text": [
      "Evaluting Epoch: 19: 100%|██████████| 10/10 [00:04<00:00,  2.07it/s]\n"
     ]
    },
    {
     "name": "stdout",
     "output_type": "stream",
     "text": [
      "Names      : ['NLP_CHEST_085']\n",
      "Predictions: ['Chest PA view shows : Impression : - Suspicious pulmonary edema']\n",
      "Labels     : ['Chest X ray : - Right pneumothorax with pleural effusion, status post drainge tube placement. - Extensive subcutaneous emphysema from neck to right side thoracic cage. - Increased right hilar opacity. - Atherosclerosis and tortuous aorta. - Obscured bilateral costophrenic angles. - Spondylosis and mild scoliosis of thoracolumbar spine. - OA of right glenohumeral joint. - Generalized osteopenia.']\n",
      "\n",
      "Rouge-2 score on epoch 18: {'Rouge-L-P': 0.4392148786885629, 'Rouge-L-R': 0.10549361724781958, 'Rouge-L-F': 0.10549361724781958, 'Rouge-2-P': 0.2676266664192363, 'Rouge-2-R': 0.05585741213880247, 'Rouge-2-F': 0.05585741213880247}\n"
     ]
    },
    {
     "name": "stderr",
     "output_type": "stream",
     "text": [
      "Training Epoch [20 / 30]: 100%|██████████| 89/89 [00:18<00:00,  4.80it/s, loss=0.108] \n",
      "Evaluting Epoch: 20:  10%|█         | 1/10 [00:00<00:04,  1.99it/s]"
     ]
    },
    {
     "name": "stdout",
     "output_type": "stream",
     "text": [
      "Names      : ['NLP_CHEST_002']\n",
      "Predictions: ['Chest PA view shows : Impression : - Increased both lung markings.']\n",
      "Labels     : ['Chest PA view shows : Partial atelectasis at left lower lung field. Left pleural effusion. Borderline heart size. Atherosclerotic change of aortic knob. S / P port - A implantation via left subclavian vein. Intraperitoneal port catheter. Surgical clips at RUQ of abdomen.']\n",
      "\n"
     ]
    },
    {
     "name": "stderr",
     "output_type": "stream",
     "text": [
      "Evaluting Epoch: 20:  20%|██        | 2/10 [00:00<00:03,  2.07it/s]"
     ]
    },
    {
     "name": "stdout",
     "output_type": "stream",
     "text": [
      "Names      : ['NLP_CHEST_004']\n",
      "Predictions: ['Chest plain film view showed : Impression : - Suspicious pulmonary ed']\n",
      "Labels     : ['Chest PA view show : Impression : - S / P RLL wedge resection. - Bilateral lungs metastasis. - Left lower lung subsegmental atelectasis. - Increased infiltrations in both lungs. - Blunting right CP angle. - Tortuous atherosclerotic aorta. - Scoliosis, DJD and osteoporosis of spine. - Compression fracture of L1.']\n",
      "\n"
     ]
    },
    {
     "name": "stderr",
     "output_type": "stream",
     "text": [
      "Evaluting Epoch: 20:  30%|███       | 3/10 [00:01<00:03,  2.01it/s]"
     ]
    },
    {
     "name": "stdout",
     "output_type": "stream",
     "text": [
      "Names      : ['NLP_CHEST_011']\n",
      "Predictions: ['Chest AP view showed : 1. Normal heart size with tortuous aort']\n",
      "Labels     : [\"Chest AP view showed : 1. s / p sternotomy and CABG. Enlarged heart size with tortuous aorta. 2. R't middle and lower lung faint patches. L't lower lung consolidation. L't pleural effusion. 3. No mediastinum widening. 4. s / p endotracheal tube and NG intubation.\"]\n",
      "\n"
     ]
    },
    {
     "name": "stderr",
     "output_type": "stream",
     "text": [
      "Evaluting Epoch: 20:  40%|████      | 4/10 [00:01<00:02,  2.08it/s]"
     ]
    },
    {
     "name": "stdout",
     "output_type": "stream",
     "text": [
      "Names      : ['NLP_CHEST_015']\n",
      "Predictions: ['Chest plain film view showed : Impression : - Sutures in right upper']\n",
      "Labels     : ['Chest X ray : - No obvious lung mass nor consolidation patch. - Normal heart size. - No pleural effusion.']\n",
      "\n"
     ]
    },
    {
     "name": "stderr",
     "output_type": "stream",
     "text": [
      "Evaluting Epoch: 20:  50%|█████     | 5/10 [00:02<00:02,  2.08it/s]"
     ]
    },
    {
     "name": "stdout",
     "output_type": "stream",
     "text": [
      "Names      : ['NLP_CHEST_027']\n",
      "Predictions: ['Chest plain film view showed : Impression : - Increased both lung markings']\n",
      "Labels     : ['Chest PA View : Impression : > Cardiomegaly with bilateral pulmonary congestion. > Postinflammatory fibrosis in both upper lungs. > Atherosclerosis of aorta. > Old fractures of left 5th and 6th ribs. > R / O osteoporosis. > Spondylosis of thoracolumbar spine. > S / P abdominal operation in RUQ.']\n",
      "\n"
     ]
    },
    {
     "name": "stderr",
     "output_type": "stream",
     "text": [
      "Evaluting Epoch: 20:  60%|██████    | 6/10 [00:02<00:01,  2.11it/s]"
     ]
    },
    {
     "name": "stdout",
     "output_type": "stream",
     "text": [
      "Names      : ['NLP_CHEST_031']\n",
      "Predictions: ['Chest AP view showed : 1. Normal heart size with tortuous aort']\n",
      "Labels     : ['Chest PA view : Impression : - Increased both lung markings. - Compatible with right lung nodules. - Fibrotic lesion in left upper lung. - Normal heart size. Atherosclerotic aorta. - Suspect right pleural effusion. - Spondylosis. R / O osteoporosis. - Compatible with multiple bony metastases. - S / P NG and endotracheal tube. - S / P Lt subclavian Port - A - cath.']\n",
      "\n"
     ]
    },
    {
     "name": "stderr",
     "output_type": "stream",
     "text": [
      "Evaluting Epoch: 20:  70%|███████   | 7/10 [00:03<00:01,  2.05it/s]"
     ]
    },
    {
     "name": "stdout",
     "output_type": "stream",
     "text": [
      "Names      : ['NLP_CHEST_057']\n",
      "Predictions: ['Chest plain film shows : Impression : - Suspicious pulmonary edema']\n",
      "Labels     : ['Chest plain film shows : Impression : - Increased infiltrations in both lungs. - Tortuous atherosclerotic dilated aorta. - Normal heart size. - DJD of spine. Old fracture of right ribs. - Increased both lung markings. S / P Lt jugular CVC insertion. S / P NG and endotracheal tube. - Susp. Lt pneumothorax. Suspect pneumomediastinum. Subcutaneous emphysema in bilateral neck. - S / P bilateral chest tube insertion.']\n",
      "\n"
     ]
    },
    {
     "name": "stderr",
     "output_type": "stream",
     "text": [
      "Evaluting Epoch: 20:  80%|████████  | 8/10 [00:03<00:00,  2.06it/s]"
     ]
    },
    {
     "name": "stdout",
     "output_type": "stream",
     "text": [
      "Names      : ['NLP_CHEST_059']\n",
      "Predictions: ['Chest plain film shows : Impression : - Increased infiltrations']\n",
      "Labels     : ['Supine chest AP view shows : Pigtail catheter at right lower chest. Decreased amount of right pleural effusion. Air in the right lower pleural space. Poor lung expansion. Mild subcutaneous emphysema at right chest wall. Right pleural thickening. Ill - defined masses at right perihilar region. Normal heart size.']\n",
      "\n"
     ]
    },
    {
     "name": "stderr",
     "output_type": "stream",
     "text": [
      "Evaluting Epoch: 20:  90%|█████████ | 9/10 [00:04<00:00,  2.05it/s]"
     ]
    },
    {
     "name": "stdout",
     "output_type": "stream",
     "text": [
      "Names      : ['NLP_CHEST_071']\n",
      "Predictions: ['Chest plain film shows : Impression : - Increased infiltrations']\n",
      "Labels     : ['Chest film shows : Impression : - Bilateral lung infiltrations. - Suspect right lower lung patch. Blunting right CP angle. - Tortuous atherosclerotic aorta. - Scoliosis, DJD and osteoporosis of spine. Compression fracture of T12. Old fracture of left ribs. - S / P fixation in L - spine. - S / P tracheostomy and NG tube.']\n",
      "\n"
     ]
    },
    {
     "name": "stderr",
     "output_type": "stream",
     "text": [
      "Evaluting Epoch: 20: 100%|██████████| 10/10 [00:04<00:00,  2.06it/s]\n"
     ]
    },
    {
     "name": "stdout",
     "output_type": "stream",
     "text": [
      "Names      : ['NLP_CHEST_085']\n",
      "Predictions: ['Chest plain film view showed : Impression : - Suspicious pulmonary ed']\n",
      "Labels     : ['Chest X ray : - Right pneumothorax with pleural effusion, status post drainge tube placement. - Extensive subcutaneous emphysema from neck to right side thoracic cage. - Increased right hilar opacity. - Atherosclerosis and tortuous aorta. - Obscured bilateral costophrenic angles. - Spondylosis and mild scoliosis of thoracolumbar spine. - OA of right glenohumeral joint. - Generalized osteopenia.']\n",
      "\n",
      "Rouge-2 score on epoch 19: {'Rouge-L-P': 0.44188408813408814, 'Rouge-L-R': 0.10605483644571707, 'Rouge-L-F': 0.10605483644571707, 'Rouge-2-P': 0.27005593915888065, 'Rouge-2-R': 0.05642680391994848, 'Rouge-2-F': 0.05642680391994848}\n"
     ]
    },
    {
     "name": "stderr",
     "output_type": "stream",
     "text": [
      "Training Epoch [21 / 30]: 100%|██████████| 89/89 [00:19<00:00,  4.54it/s, loss=0.095] \n",
      "Evaluting Epoch: 21:  10%|█         | 1/10 [00:00<00:04,  2.17it/s]"
     ]
    },
    {
     "name": "stdout",
     "output_type": "stream",
     "text": [
      "Names      : ['NLP_CHEST_002']\n",
      "Predictions: ['Chest PA view shows : Impression : > No obvious lung mass nor consolidation']\n",
      "Labels     : ['Chest PA view shows : Partial atelectasis at left lower lung field. Left pleural effusion. Borderline heart size. Atherosclerotic change of aortic knob. S / P port - A implantation via left subclavian vein. Intraperitoneal port catheter. Surgical clips at RUQ of abdomen.']\n",
      "\n"
     ]
    },
    {
     "name": "stderr",
     "output_type": "stream",
     "text": [
      "Evaluting Epoch: 21:  20%|██        | 2/10 [00:00<00:03,  2.02it/s]"
     ]
    },
    {
     "name": "stdout",
     "output_type": "stream",
     "text": [
      "Names      : ['NLP_CHEST_004']\n",
      "Predictions: ['Chest PA view : Impression : - Increased both lung markings. -']\n",
      "Labels     : ['Chest PA view show : Impression : - S / P RLL wedge resection. - Bilateral lungs metastasis. - Left lower lung subsegmental atelectasis. - Increased infiltrations in both lungs. - Blunting right CP angle. - Tortuous atherosclerotic aorta. - Scoliosis, DJD and osteoporosis of spine. - Compression fracture of L1.']\n",
      "\n"
     ]
    },
    {
     "name": "stderr",
     "output_type": "stream",
     "text": [
      "Evaluting Epoch: 21:  30%|███       | 3/10 [00:01<00:03,  2.03it/s]"
     ]
    },
    {
     "name": "stdout",
     "output_type": "stream",
     "text": [
      "Names      : ['NLP_CHEST_011']\n",
      "Predictions: ['Chest AP view showed : 1. Normal heart size with tortuous aort']\n",
      "Labels     : [\"Chest AP view showed : 1. s / p sternotomy and CABG. Enlarged heart size with tortuous aorta. 2. R't middle and lower lung faint patches. L't lower lung consolidation. L't pleural effusion. 3. No mediastinum widening. 4. s / p endotracheal tube and NG intubation.\"]\n",
      "\n"
     ]
    },
    {
     "name": "stderr",
     "output_type": "stream",
     "text": [
      "Evaluting Epoch: 21:  40%|████      | 4/10 [00:01<00:02,  2.08it/s]"
     ]
    },
    {
     "name": "stdout",
     "output_type": "stream",
     "text": [
      "Names      : ['NLP_CHEST_015']\n",
      "Predictions: ['Chest PA view shows : Impression : - Suspicious right upper lung']\n",
      "Labels     : ['Chest X ray : - No obvious lung mass nor consolidation patch. - Normal heart size. - No pleural effusion.']\n",
      "\n"
     ]
    },
    {
     "name": "stderr",
     "output_type": "stream",
     "text": [
      "Evaluting Epoch: 21:  50%|█████     | 5/10 [00:02<00:02,  2.11it/s]"
     ]
    },
    {
     "name": "stdout",
     "output_type": "stream",
     "text": [
      "Names      : ['NLP_CHEST_027']\n",
      "Predictions: ['Chest plain film view showed : Impression : - Bilateral apical']\n",
      "Labels     : ['Chest PA View : Impression : > Cardiomegaly with bilateral pulmonary congestion. > Postinflammatory fibrosis in both upper lungs. > Atherosclerosis of aorta. > Old fractures of left 5th and 6th ribs. > R / O osteoporosis. > Spondylosis of thoracolumbar spine. > S / P abdominal operation in RUQ.']\n",
      "\n"
     ]
    },
    {
     "name": "stderr",
     "output_type": "stream",
     "text": [
      "Evaluting Epoch: 21:  60%|██████    | 6/10 [00:02<00:01,  2.06it/s]"
     ]
    },
    {
     "name": "stdout",
     "output_type": "stream",
     "text": [
      "Names      : ['NLP_CHEST_031']\n",
      "Predictions: ['Chest PA view : Impression : - Increased both lung markings. -']\n",
      "Labels     : ['Chest PA view : Impression : - Increased both lung markings. - Compatible with right lung nodules. - Fibrotic lesion in left upper lung. - Normal heart size. Atherosclerotic aorta. - Suspect right pleural effusion. - Spondylosis. R / O osteoporosis. - Compatible with multiple bony metastases. - S / P NG and endotracheal tube. - S / P Lt subclavian Port - A - cath.']\n",
      "\n"
     ]
    },
    {
     "name": "stderr",
     "output_type": "stream",
     "text": [
      "Evaluting Epoch: 21:  70%|███████   | 7/10 [00:03<00:01,  2.05it/s]"
     ]
    },
    {
     "name": "stdout",
     "output_type": "stream",
     "text": [
      "Names      : ['NLP_CHEST_057']\n",
      "Predictions: ['Chest PA view showed : Impression : - Suspicious pulmonary edema']\n",
      "Labels     : ['Chest plain film shows : Impression : - Increased infiltrations in both lungs. - Tortuous atherosclerotic dilated aorta. - Normal heart size. - DJD of spine. Old fracture of right ribs. - Increased both lung markings. S / P Lt jugular CVC insertion. S / P NG and endotracheal tube. - Susp. Lt pneumothorax. Suspect pneumomediastinum. Subcutaneous emphysema in bilateral neck. - S / P bilateral chest tube insertion.']\n",
      "\n"
     ]
    },
    {
     "name": "stderr",
     "output_type": "stream",
     "text": [
      "Evaluting Epoch: 21:  80%|████████  | 8/10 [00:03<00:00,  2.07it/s]"
     ]
    },
    {
     "name": "stdout",
     "output_type": "stream",
     "text": [
      "Names      : ['NLP_CHEST_059']\n",
      "Predictions: ['Chest PA view shows : Impression : - Increased infiltrations']\n",
      "Labels     : ['Supine chest AP view shows : Pigtail catheter at right lower chest. Decreased amount of right pleural effusion. Air in the right lower pleural space. Poor lung expansion. Mild subcutaneous emphysema at right chest wall. Right pleural thickening. Ill - defined masses at right perihilar region. Normal heart size.']\n",
      "\n"
     ]
    },
    {
     "name": "stderr",
     "output_type": "stream",
     "text": [
      "Evaluting Epoch: 21:  90%|█████████ | 9/10 [00:04<00:00,  2.08it/s]"
     ]
    },
    {
     "name": "stdout",
     "output_type": "stream",
     "text": [
      "Names      : ['NLP_CHEST_071']\n",
      "Predictions: ['Chest plain film shows : Impression : - Suspicious pulmonary edema']\n",
      "Labels     : ['Chest film shows : Impression : - Bilateral lung infiltrations. - Suspect right lower lung patch. Blunting right CP angle. - Tortuous atherosclerotic aorta. - Scoliosis, DJD and osteoporosis of spine. Compression fracture of T12. Old fracture of left ribs. - S / P fixation in L - spine. - S / P tracheostomy and NG tube.']\n",
      "\n"
     ]
    },
    {
     "name": "stderr",
     "output_type": "stream",
     "text": [
      "Evaluting Epoch: 21: 100%|██████████| 10/10 [00:04<00:00,  2.09it/s]\n"
     ]
    },
    {
     "name": "stdout",
     "output_type": "stream",
     "text": [
      "Names      : ['NLP_CHEST_085']\n",
      "Predictions: ['Chest PA view showed : Impression : - Suspicious pulmonary edema']\n",
      "Labels     : ['Chest X ray : - Right pneumothorax with pleural effusion, status post drainge tube placement. - Extensive subcutaneous emphysema from neck to right side thoracic cage. - Increased right hilar opacity. - Atherosclerosis and tortuous aorta. - Obscured bilateral costophrenic angles. - Spondylosis and mild scoliosis of thoracolumbar spine. - OA of right glenohumeral joint. - Generalized osteopenia.']\n",
      "\n",
      "Rouge-2 score on epoch 20: {'Rouge-L-P': 0.4472983894412465, 'Rouge-L-R': 0.1074019888907379, 'Rouge-L-F': 0.1074019888907379, 'Rouge-2-P': 0.2762130415491763, 'Rouge-2-R': 0.057779377235117356, 'Rouge-2-F': 0.057779377235117356}\n"
     ]
    },
    {
     "name": "stderr",
     "output_type": "stream",
     "text": [
      "Training Epoch [22 / 30]: 100%|██████████| 89/89 [00:18<00:00,  4.70it/s, loss=0.0874]\n",
      "Evaluting Epoch: 22:  10%|█         | 1/10 [00:00<00:04,  2.11it/s]"
     ]
    },
    {
     "name": "stdout",
     "output_type": "stream",
     "text": [
      "Names      : ['NLP_CHEST_002']\n",
      "Predictions: ['Chest PA view shows : Impression : - Suspicious pulmonary edema']\n",
      "Labels     : ['Chest PA view shows : Partial atelectasis at left lower lung field. Left pleural effusion. Borderline heart size. Atherosclerotic change of aortic knob. S / P port - A implantation via left subclavian vein. Intraperitoneal port catheter. Surgical clips at RUQ of abdomen.']\n",
      "\n"
     ]
    },
    {
     "name": "stderr",
     "output_type": "stream",
     "text": [
      "Evaluting Epoch: 22:  20%|██        | 2/10 [00:00<00:03,  2.15it/s]"
     ]
    },
    {
     "name": "stdout",
     "output_type": "stream",
     "text": [
      "Names      : ['NLP_CHEST_004']\n",
      "Predictions: ['Chest PA view : Impression : - Suspicious pulmonary edema.']\n",
      "Labels     : ['Chest PA view show : Impression : - S / P RLL wedge resection. - Bilateral lungs metastasis. - Left lower lung subsegmental atelectasis. - Increased infiltrations in both lungs. - Blunting right CP angle. - Tortuous atherosclerotic aorta. - Scoliosis, DJD and osteoporosis of spine. - Compression fracture of L1.']\n",
      "\n"
     ]
    },
    {
     "name": "stderr",
     "output_type": "stream",
     "text": [
      "Evaluting Epoch: 22:  30%|███       | 3/10 [00:01<00:03,  2.09it/s]"
     ]
    },
    {
     "name": "stdout",
     "output_type": "stream",
     "text": [
      "Names      : ['NLP_CHEST_011']\n",
      "Predictions: ['Chest AP view showed : 1. Enlarged heart size with tortuous']\n",
      "Labels     : [\"Chest AP view showed : 1. s / p sternotomy and CABG. Enlarged heart size with tortuous aorta. 2. R't middle and lower lung faint patches. L't lower lung consolidation. L't pleural effusion. 3. No mediastinum widening. 4. s / p endotracheal tube and NG intubation.\"]\n",
      "\n"
     ]
    },
    {
     "name": "stderr",
     "output_type": "stream",
     "text": [
      "Evaluting Epoch: 22:  40%|████      | 4/10 [00:01<00:02,  2.07it/s]"
     ]
    },
    {
     "name": "stdout",
     "output_type": "stream",
     "text": [
      "Names      : ['NLP_CHEST_015']\n",
      "Predictions: ['Chest PA view shows : > No obvious lung mass nor consolidation patch. > Normal']\n",
      "Labels     : ['Chest X ray : - No obvious lung mass nor consolidation patch. - Normal heart size. - No pleural effusion.']\n",
      "\n"
     ]
    },
    {
     "name": "stderr",
     "output_type": "stream",
     "text": [
      "Evaluting Epoch: 22:  50%|█████     | 5/10 [00:02<00:02,  1.98it/s]"
     ]
    },
    {
     "name": "stdout",
     "output_type": "stream",
     "text": [
      "Names      : ['NLP_CHEST_027']\n",
      "Predictions: ['Chest plain film view showed : Impression : - Suspicious pulmonary ed']\n",
      "Labels     : ['Chest PA View : Impression : > Cardiomegaly with bilateral pulmonary congestion. > Postinflammatory fibrosis in both upper lungs. > Atherosclerosis of aorta. > Old fractures of left 5th and 6th ribs. > R / O osteoporosis. > Spondylosis of thoracolumbar spine. > S / P abdominal operation in RUQ.']\n",
      "\n"
     ]
    },
    {
     "name": "stderr",
     "output_type": "stream",
     "text": [
      "Evaluting Epoch: 22:  60%|██████    | 6/10 [00:02<00:02,  1.97it/s]"
     ]
    },
    {
     "name": "stdout",
     "output_type": "stream",
     "text": [
      "Names      : ['NLP_CHEST_031']\n",
      "Predictions: ['Chest PA view : Impression : - Increased both lung markings. -']\n",
      "Labels     : ['Chest PA view : Impression : - Increased both lung markings. - Compatible with right lung nodules. - Fibrotic lesion in left upper lung. - Normal heart size. Atherosclerotic aorta. - Suspect right pleural effusion. - Spondylosis. R / O osteoporosis. - Compatible with multiple bony metastases. - S / P NG and endotracheal tube. - S / P Lt subclavian Port - A - cath.']\n",
      "\n"
     ]
    },
    {
     "name": "stderr",
     "output_type": "stream",
     "text": [
      "Evaluting Epoch: 22:  70%|███████   | 7/10 [00:03<00:01,  1.98it/s]"
     ]
    },
    {
     "name": "stdout",
     "output_type": "stream",
     "text": [
      "Names      : ['NLP_CHEST_057']\n",
      "Predictions: ['Chest AP view showed : 1. Normal heart size with tortuous aort']\n",
      "Labels     : ['Chest plain film shows : Impression : - Increased infiltrations in both lungs. - Tortuous atherosclerotic dilated aorta. - Normal heart size. - DJD of spine. Old fracture of right ribs. - Increased both lung markings. S / P Lt jugular CVC insertion. S / P NG and endotracheal tube. - Susp. Lt pneumothorax. Suspect pneumomediastinum. Subcutaneous emphysema in bilateral neck. - S / P bilateral chest tube insertion.']\n",
      "\n"
     ]
    },
    {
     "name": "stderr",
     "output_type": "stream",
     "text": [
      "Evaluting Epoch: 22:  80%|████████  | 8/10 [00:03<00:01,  1.97it/s]"
     ]
    },
    {
     "name": "stdout",
     "output_type": "stream",
     "text": [
      "Names      : ['NLP_CHEST_059']\n",
      "Predictions: ['Chest PA view shows : Impression : - Suspicious pulmonary edema']\n",
      "Labels     : ['Supine chest AP view shows : Pigtail catheter at right lower chest. Decreased amount of right pleural effusion. Air in the right lower pleural space. Poor lung expansion. Mild subcutaneous emphysema at right chest wall. Right pleural thickening. Ill - defined masses at right perihilar region. Normal heart size.']\n",
      "\n"
     ]
    },
    {
     "name": "stderr",
     "output_type": "stream",
     "text": [
      "Evaluting Epoch: 22:  90%|█████████ | 9/10 [00:04<00:00,  1.91it/s]"
     ]
    },
    {
     "name": "stdout",
     "output_type": "stream",
     "text": [
      "Names      : ['NLP_CHEST_071']\n",
      "Predictions: ['Chest plain film shows : Impression : - Suspicious pulmonary edema']\n",
      "Labels     : ['Chest film shows : Impression : - Bilateral lung infiltrations. - Suspect right lower lung patch. Blunting right CP angle. - Tortuous atherosclerotic aorta. - Scoliosis, DJD and osteoporosis of spine. Compression fracture of T12. Old fracture of left ribs. - S / P fixation in L - spine. - S / P tracheostomy and NG tube.']\n",
      "\n"
     ]
    },
    {
     "name": "stderr",
     "output_type": "stream",
     "text": [
      "Evaluting Epoch: 22: 100%|██████████| 10/10 [00:05<00:00,  1.99it/s]\n"
     ]
    },
    {
     "name": "stdout",
     "output_type": "stream",
     "text": [
      "Names      : ['NLP_CHEST_085']\n",
      "Predictions: ['Chest PA view shows : Impression : - Suspicious pulmonary edema']\n",
      "Labels     : ['Chest X ray : - Right pneumothorax with pleural effusion, status post drainge tube placement. - Extensive subcutaneous emphysema from neck to right side thoracic cage. - Increased right hilar opacity. - Atherosclerosis and tortuous aorta. - Obscured bilateral costophrenic angles. - Spondylosis and mild scoliosis of thoracolumbar spine. - OA of right glenohumeral joint. - Generalized osteopenia.']\n",
      "\n",
      "Rouge-2 score on epoch 21: {'Rouge-L-P': 0.45394322848868296, 'Rouge-L-R': 0.10984677678348337, 'Rouge-L-F': 0.10984677678348337, 'Rouge-2-P': 0.28346178628264224, 'Rouge-2-R': 0.06008157275914897, 'Rouge-2-F': 0.06008157275914897}\n"
     ]
    },
    {
     "name": "stderr",
     "output_type": "stream",
     "text": [
      "Training Epoch [23 / 30]: 100%|██████████| 89/89 [00:19<00:00,  4.60it/s, loss=0.0781]\n",
      "Evaluting Epoch: 23:  10%|█         | 1/10 [00:00<00:03,  2.30it/s]"
     ]
    },
    {
     "name": "stdout",
     "output_type": "stream",
     "text": [
      "Names      : ['NLP_CHEST_002']\n",
      "Predictions: ['Chest PA view shows : Impression : - Left upper lung mass with enlarged']\n",
      "Labels     : ['Chest PA view shows : Partial atelectasis at left lower lung field. Left pleural effusion. Borderline heart size. Atherosclerotic change of aortic knob. S / P port - A implantation via left subclavian vein. Intraperitoneal port catheter. Surgical clips at RUQ of abdomen.']\n",
      "\n"
     ]
    },
    {
     "name": "stderr",
     "output_type": "stream",
     "text": [
      "Evaluting Epoch: 23:  20%|██        | 2/10 [00:00<00:03,  2.19it/s]"
     ]
    },
    {
     "name": "stdout",
     "output_type": "stream",
     "text": [
      "Names      : ['NLP_CHEST_004']\n",
      "Predictions: ['Chest plain film shows : Impression : - Suspicious pulmonary edema']\n",
      "Labels     : ['Chest PA view show : Impression : - S / P RLL wedge resection. - Bilateral lungs metastasis. - Left lower lung subsegmental atelectasis. - Increased infiltrations in both lungs. - Blunting right CP angle. - Tortuous atherosclerotic aorta. - Scoliosis, DJD and osteoporosis of spine. - Compression fracture of L1.']\n",
      "\n"
     ]
    },
    {
     "name": "stderr",
     "output_type": "stream",
     "text": [
      "Evaluting Epoch: 23:  30%|███       | 3/10 [00:01<00:03,  2.14it/s]"
     ]
    },
    {
     "name": "stdout",
     "output_type": "stream",
     "text": [
      "Names      : ['NLP_CHEST_011']\n",
      "Predictions: ['Chest plain film shows : Impression : - Suspicious pulmonary edema']\n",
      "Labels     : [\"Chest AP view showed : 1. s / p sternotomy and CABG. Enlarged heart size with tortuous aorta. 2. R't middle and lower lung faint patches. L't lower lung consolidation. L't pleural effusion. 3. No mediastinum widening. 4. s / p endotracheal tube and NG intubation.\"]\n",
      "\n"
     ]
    },
    {
     "name": "stderr",
     "output_type": "stream",
     "text": [
      "Evaluting Epoch: 23:  40%|████      | 4/10 [00:01<00:02,  2.14it/s]"
     ]
    },
    {
     "name": "stdout",
     "output_type": "stream",
     "text": [
      "Names      : ['NLP_CHEST_015']\n",
      "Predictions: ['Chest PA view shows : Large mass occupying right upper chest. Normal heart size.']\n",
      "Labels     : ['Chest X ray : - No obvious lung mass nor consolidation patch. - Normal heart size. - No pleural effusion.']\n",
      "\n"
     ]
    },
    {
     "name": "stderr",
     "output_type": "stream",
     "text": [
      "Evaluting Epoch: 23:  50%|█████     | 5/10 [00:02<00:02,  2.12it/s]"
     ]
    },
    {
     "name": "stdout",
     "output_type": "stream",
     "text": [
      "Names      : ['NLP_CHEST_027']\n",
      "Predictions: ['Chest plain film shows : Impression : - Increased infiltrations']\n",
      "Labels     : ['Chest PA View : Impression : > Cardiomegaly with bilateral pulmonary congestion. > Postinflammatory fibrosis in both upper lungs. > Atherosclerosis of aorta. > Old fractures of left 5th and 6th ribs. > R / O osteoporosis. > Spondylosis of thoracolumbar spine. > S / P abdominal operation in RUQ.']\n",
      "\n"
     ]
    },
    {
     "name": "stderr",
     "output_type": "stream",
     "text": [
      "Evaluting Epoch: 23:  60%|██████    | 6/10 [00:02<00:01,  2.08it/s]"
     ]
    },
    {
     "name": "stdout",
     "output_type": "stream",
     "text": [
      "Names      : ['NLP_CHEST_031']\n",
      "Predictions: ['Chest PA view : Impression : - Increased both lung markings. -']\n",
      "Labels     : ['Chest PA view : Impression : - Increased both lung markings. - Compatible with right lung nodules. - Fibrotic lesion in left upper lung. - Normal heart size. Atherosclerotic aorta. - Suspect right pleural effusion. - Spondylosis. R / O osteoporosis. - Compatible with multiple bony metastases. - S / P NG and endotracheal tube. - S / P Lt subclavian Port - A - cath.']\n",
      "\n"
     ]
    },
    {
     "name": "stderr",
     "output_type": "stream",
     "text": [
      "Evaluting Epoch: 23:  70%|███████   | 7/10 [00:03<00:01,  2.06it/s]"
     ]
    },
    {
     "name": "stdout",
     "output_type": "stream",
     "text": [
      "Names      : ['NLP_CHEST_057']\n",
      "Predictions: ['Chest plain film shows : Impression : - Suspicious pulmonary edema']\n",
      "Labels     : ['Chest plain film shows : Impression : - Increased infiltrations in both lungs. - Tortuous atherosclerotic dilated aorta. - Normal heart size. - DJD of spine. Old fracture of right ribs. - Increased both lung markings. S / P Lt jugular CVC insertion. S / P NG and endotracheal tube. - Susp. Lt pneumothorax. Suspect pneumomediastinum. Subcutaneous emphysema in bilateral neck. - S / P bilateral chest tube insertion.']\n",
      "\n"
     ]
    },
    {
     "name": "stderr",
     "output_type": "stream",
     "text": [
      "Evaluting Epoch: 23:  80%|████████  | 8/10 [00:03<00:00,  2.06it/s]"
     ]
    },
    {
     "name": "stdout",
     "output_type": "stream",
     "text": [
      "Names      : ['NLP_CHEST_059']\n",
      "Predictions: ['Chest PA shows : Impression : - Increased infiltrations in']\n",
      "Labels     : ['Supine chest AP view shows : Pigtail catheter at right lower chest. Decreased amount of right pleural effusion. Air in the right lower pleural space. Poor lung expansion. Mild subcutaneous emphysema at right chest wall. Right pleural thickening. Ill - defined masses at right perihilar region. Normal heart size.']\n",
      "\n"
     ]
    },
    {
     "name": "stderr",
     "output_type": "stream",
     "text": [
      "Evaluting Epoch: 23:  90%|█████████ | 9/10 [00:04<00:00,  2.07it/s]"
     ]
    },
    {
     "name": "stdout",
     "output_type": "stream",
     "text": [
      "Names      : ['NLP_CHEST_071']\n",
      "Predictions: ['Chest plain film shows : Impression : - Suspicious pulmonary edema']\n",
      "Labels     : ['Chest film shows : Impression : - Bilateral lung infiltrations. - Suspect right lower lung patch. Blunting right CP angle. - Tortuous atherosclerotic aorta. - Scoliosis, DJD and osteoporosis of spine. Compression fracture of T12. Old fracture of left ribs. - S / P fixation in L - spine. - S / P tracheostomy and NG tube.']\n",
      "\n"
     ]
    },
    {
     "name": "stderr",
     "output_type": "stream",
     "text": [
      "Evaluting Epoch: 23: 100%|██████████| 10/10 [00:04<00:00,  2.12it/s]\n"
     ]
    },
    {
     "name": "stdout",
     "output_type": "stream",
     "text": [
      "Names      : ['NLP_CHEST_085']\n",
      "Predictions: ['Chest PA view shows : Impression : - Left upper lung mass. Blu']\n",
      "Labels     : ['Chest X ray : - Right pneumothorax with pleural effusion, status post drainge tube placement. - Extensive subcutaneous emphysema from neck to right side thoracic cage. - Increased right hilar opacity. - Atherosclerosis and tortuous aorta. - Obscured bilateral costophrenic angles. - Spondylosis and mild scoliosis of thoracolumbar spine. - OA of right glenohumeral joint. - Generalized osteopenia.']\n",
      "\n",
      "Rouge-2 score on epoch 22: {'Rouge-L-P': 0.4550235754583581, 'Rouge-L-R': 0.11026460482051137, 'Rouge-L-F': 0.11026460482051137, 'Rouge-2-P': 0.2858252091755931, 'Rouge-2-R': 0.06051781930280759, 'Rouge-2-F': 0.06051781930280759}\n"
     ]
    },
    {
     "name": "stderr",
     "output_type": "stream",
     "text": [
      "Training Epoch [24 / 30]: 100%|██████████| 89/89 [00:18<00:00,  4.79it/s, loss=0.0735]\n",
      "Evaluting Epoch: 24:  10%|█         | 1/10 [00:00<00:04,  2.12it/s]"
     ]
    },
    {
     "name": "stdout",
     "output_type": "stream",
     "text": [
      "Names      : ['NLP_CHEST_002']\n",
      "Predictions: ['Chest PA view shows : Impression : - Increased both lung markings.']\n",
      "Labels     : ['Chest PA view shows : Partial atelectasis at left lower lung field. Left pleural effusion. Borderline heart size. Atherosclerotic change of aortic knob. S / P port - A implantation via left subclavian vein. Intraperitoneal port catheter. Surgical clips at RUQ of abdomen.']\n",
      "\n"
     ]
    },
    {
     "name": "stderr",
     "output_type": "stream",
     "text": [
      "Evaluting Epoch: 24:  20%|██        | 2/10 [00:00<00:03,  2.07it/s]"
     ]
    },
    {
     "name": "stdout",
     "output_type": "stream",
     "text": [
      "Names      : ['NLP_CHEST_004']\n",
      "Predictions: ['Chest plain film shows : Impression : - Suspicious pulmonary edema']\n",
      "Labels     : ['Chest PA view show : Impression : - S / P RLL wedge resection. - Bilateral lungs metastasis. - Left lower lung subsegmental atelectasis. - Increased infiltrations in both lungs. - Blunting right CP angle. - Tortuous atherosclerotic aorta. - Scoliosis, DJD and osteoporosis of spine. - Compression fracture of L1.']\n",
      "\n"
     ]
    },
    {
     "name": "stderr",
     "output_type": "stream",
     "text": [
      "Evaluting Epoch: 24:  30%|███       | 3/10 [00:01<00:03,  1.97it/s]"
     ]
    },
    {
     "name": "stdout",
     "output_type": "stream",
     "text": [
      "Names      : ['NLP_CHEST_011']\n",
      "Predictions: ['Chest AP view showed : 1. Normal heart size with tortuous aort']\n",
      "Labels     : [\"Chest AP view showed : 1. s / p sternotomy and CABG. Enlarged heart size with tortuous aorta. 2. R't middle and lower lung faint patches. L't lower lung consolidation. L't pleural effusion. 3. No mediastinum widening. 4. s / p endotracheal tube and NG intubation.\"]\n",
      "\n"
     ]
    },
    {
     "name": "stderr",
     "output_type": "stream",
     "text": [
      "Evaluting Epoch: 24:  40%|████      | 4/10 [00:02<00:03,  1.98it/s]"
     ]
    },
    {
     "name": "stdout",
     "output_type": "stream",
     "text": [
      "Names      : ['NLP_CHEST_015']\n",
      "Predictions: ['Chest PA view shows : > No obvious lung mass nor consolidation patch. > Normal']\n",
      "Labels     : ['Chest X ray : - No obvious lung mass nor consolidation patch. - Normal heart size. - No pleural effusion.']\n",
      "\n"
     ]
    },
    {
     "name": "stderr",
     "output_type": "stream",
     "text": [
      "Evaluting Epoch: 24:  50%|█████     | 5/10 [00:02<00:02,  2.02it/s]"
     ]
    },
    {
     "name": "stdout",
     "output_type": "stream",
     "text": [
      "Names      : ['NLP_CHEST_027']\n",
      "Predictions: ['Chest plain film shows : Impression : - Suspicious pulmonary edema']\n",
      "Labels     : ['Chest PA View : Impression : > Cardiomegaly with bilateral pulmonary congestion. > Postinflammatory fibrosis in both upper lungs. > Atherosclerosis of aorta. > Old fractures of left 5th and 6th ribs. > R / O osteoporosis. > Spondylosis of thoracolumbar spine. > S / P abdominal operation in RUQ.']\n",
      "\n"
     ]
    },
    {
     "name": "stderr",
     "output_type": "stream",
     "text": [
      "Evaluting Epoch: 24:  60%|██████    | 6/10 [00:02<00:01,  2.01it/s]"
     ]
    },
    {
     "name": "stdout",
     "output_type": "stream",
     "text": [
      "Names      : ['NLP_CHEST_031']\n",
      "Predictions: ['Chest PA view : Impression : - Increased both lung markings. -']\n",
      "Labels     : ['Chest PA view : Impression : - Increased both lung markings. - Compatible with right lung nodules. - Fibrotic lesion in left upper lung. - Normal heart size. Atherosclerotic aorta. - Suspect right pleural effusion. - Spondylosis. R / O osteoporosis. - Compatible with multiple bony metastases. - S / P NG and endotracheal tube. - S / P Lt subclavian Port - A - cath.']\n",
      "\n"
     ]
    },
    {
     "name": "stderr",
     "output_type": "stream",
     "text": [
      "Evaluting Epoch: 24:  70%|███████   | 7/10 [00:03<00:01,  2.06it/s]"
     ]
    },
    {
     "name": "stdout",
     "output_type": "stream",
     "text": [
      "Names      : ['NLP_CHEST_057']\n",
      "Predictions: ['Chest plain film shows : Impression : - Suspicious pulmonary edema']\n",
      "Labels     : ['Chest plain film shows : Impression : - Increased infiltrations in both lungs. - Tortuous atherosclerotic dilated aorta. - Normal heart size. - DJD of spine. Old fracture of right ribs. - Increased both lung markings. S / P Lt jugular CVC insertion. S / P NG and endotracheal tube. - Susp. Lt pneumothorax. Suspect pneumomediastinum. Subcutaneous emphysema in bilateral neck. - S / P bilateral chest tube insertion.']\n",
      "\n"
     ]
    },
    {
     "name": "stderr",
     "output_type": "stream",
     "text": [
      "Evaluting Epoch: 24:  80%|████████  | 8/10 [00:03<00:00,  2.10it/s]"
     ]
    },
    {
     "name": "stdout",
     "output_type": "stream",
     "text": [
      "Names      : ['NLP_CHEST_059']\n",
      "Predictions: ['Chest AP view showed : 1. Normal heart size with tortuous aort']\n",
      "Labels     : ['Supine chest AP view shows : Pigtail catheter at right lower chest. Decreased amount of right pleural effusion. Air in the right lower pleural space. Poor lung expansion. Mild subcutaneous emphysema at right chest wall. Right pleural thickening. Ill - defined masses at right perihilar region. Normal heart size.']\n",
      "\n"
     ]
    },
    {
     "name": "stderr",
     "output_type": "stream",
     "text": [
      "Evaluting Epoch: 24:  90%|█████████ | 9/10 [00:04<00:00,  2.07it/s]"
     ]
    },
    {
     "name": "stdout",
     "output_type": "stream",
     "text": [
      "Names      : ['NLP_CHEST_071']\n",
      "Predictions: ['Chest plain film shows : Impression : - Suspicious pulmonary edema']\n",
      "Labels     : ['Chest film shows : Impression : - Bilateral lung infiltrations. - Suspect right lower lung patch. Blunting right CP angle. - Tortuous atherosclerotic aorta. - Scoliosis, DJD and osteoporosis of spine. Compression fracture of T12. Old fracture of left ribs. - S / P fixation in L - spine. - S / P tracheostomy and NG tube.']\n",
      "\n"
     ]
    },
    {
     "name": "stderr",
     "output_type": "stream",
     "text": [
      "Evaluting Epoch: 24: 100%|██████████| 10/10 [00:04<00:00,  2.07it/s]\n"
     ]
    },
    {
     "name": "stdout",
     "output_type": "stream",
     "text": [
      "Names      : ['NLP_CHEST_085']\n",
      "Predictions: ['Chest PA view showed : Impression : - Suspicious pulmonary edema']\n",
      "Labels     : ['Chest X ray : - Right pneumothorax with pleural effusion, status post drainge tube placement. - Extensive subcutaneous emphysema from neck to right side thoracic cage. - Increased right hilar opacity. - Atherosclerosis and tortuous aorta. - Obscured bilateral costophrenic angles. - Spondylosis and mild scoliosis of thoracolumbar spine. - OA of right glenohumeral joint. - Generalized osteopenia.']\n",
      "\n",
      "Rouge-2 score on epoch 23: {'Rouge-L-P': 0.46090643153143157, 'Rouge-L-R': 0.11245898622949069, 'Rouge-L-F': 0.11245898622949069, 'Rouge-2-P': 0.29267123671535467, 'Rouge-2-R': 0.06262245124658042, 'Rouge-2-F': 0.06262245124658042}\n"
     ]
    },
    {
     "name": "stderr",
     "output_type": "stream",
     "text": [
      "Training Epoch [25 / 30]: 100%|██████████| 89/89 [00:19<00:00,  4.67it/s, loss=0.067] \n",
      "Evaluting Epoch: 25:  10%|█         | 1/10 [00:00<00:04,  2.12it/s]"
     ]
    },
    {
     "name": "stdout",
     "output_type": "stream",
     "text": [
      "Names      : ['NLP_CHEST_002']\n",
      "Predictions: ['Chest PA view shows : Impression : - Increased both lung markings.']\n",
      "Labels     : ['Chest PA view shows : Partial atelectasis at left lower lung field. Left pleural effusion. Borderline heart size. Atherosclerotic change of aortic knob. S / P port - A implantation via left subclavian vein. Intraperitoneal port catheter. Surgical clips at RUQ of abdomen.']\n",
      "\n"
     ]
    },
    {
     "name": "stderr",
     "output_type": "stream",
     "text": [
      "Evaluting Epoch: 25:  20%|██        | 2/10 [00:00<00:03,  2.22it/s]"
     ]
    },
    {
     "name": "stdout",
     "output_type": "stream",
     "text": [
      "Names      : ['NLP_CHEST_004']\n",
      "Predictions: ['Chest plain film view showed : Impression : - Suspicious pulmonary ed']\n",
      "Labels     : ['Chest PA view show : Impression : - S / P RLL wedge resection. - Bilateral lungs metastasis. - Left lower lung subsegmental atelectasis. - Increased infiltrations in both lungs. - Blunting right CP angle. - Tortuous atherosclerotic aorta. - Scoliosis, DJD and osteoporosis of spine. - Compression fracture of L1.']\n",
      "\n"
     ]
    },
    {
     "name": "stderr",
     "output_type": "stream",
     "text": [
      "Evaluting Epoch: 25:  30%|███       | 3/10 [00:01<00:03,  2.09it/s]"
     ]
    },
    {
     "name": "stdout",
     "output_type": "stream",
     "text": [
      "Names      : ['NLP_CHEST_011']\n",
      "Predictions: ['Chest AP view showed : 1. s / p sternotomy. Enlar']\n",
      "Labels     : [\"Chest AP view showed : 1. s / p sternotomy and CABG. Enlarged heart size with tortuous aorta. 2. R't middle and lower lung faint patches. L't lower lung consolidation. L't pleural effusion. 3. No mediastinum widening. 4. s / p endotracheal tube and NG intubation.\"]\n",
      "\n"
     ]
    },
    {
     "name": "stderr",
     "output_type": "stream",
     "text": [
      "Evaluting Epoch: 25:  40%|████      | 4/10 [00:01<00:02,  2.03it/s]"
     ]
    },
    {
     "name": "stdout",
     "output_type": "stream",
     "text": [
      "Names      : ['NLP_CHEST_015']\n",
      "Predictions: ['Chest PA view shows : Impression : - Increased both lung markings.']\n",
      "Labels     : ['Chest X ray : - No obvious lung mass nor consolidation patch. - Normal heart size. - No pleural effusion.']\n",
      "\n"
     ]
    },
    {
     "name": "stderr",
     "output_type": "stream",
     "text": [
      "Evaluting Epoch: 25:  50%|█████     | 5/10 [00:02<00:02,  2.08it/s]"
     ]
    },
    {
     "name": "stdout",
     "output_type": "stream",
     "text": [
      "Names      : ['NLP_CHEST_027']\n",
      "Predictions: ['Chest plain film view showed : Impression : - Bilateral apical']\n",
      "Labels     : ['Chest PA View : Impression : > Cardiomegaly with bilateral pulmonary congestion. > Postinflammatory fibrosis in both upper lungs. > Atherosclerosis of aorta. > Old fractures of left 5th and 6th ribs. > R / O osteoporosis. > Spondylosis of thoracolumbar spine. > S / P abdominal operation in RUQ.']\n",
      "\n"
     ]
    },
    {
     "name": "stderr",
     "output_type": "stream",
     "text": [
      "Evaluting Epoch: 25:  60%|██████    | 6/10 [00:02<00:01,  2.08it/s]"
     ]
    },
    {
     "name": "stdout",
     "output_type": "stream",
     "text": [
      "Names      : ['NLP_CHEST_031']\n",
      "Predictions: ['Chest PA view : Impression : - Increased both lung markings. -']\n",
      "Labels     : ['Chest PA view : Impression : - Increased both lung markings. - Compatible with right lung nodules. - Fibrotic lesion in left upper lung. - Normal heart size. Atherosclerotic aorta. - Suspect right pleural effusion. - Spondylosis. R / O osteoporosis. - Compatible with multiple bony metastases. - S / P NG and endotracheal tube. - S / P Lt subclavian Port - A - cath.']\n",
      "\n"
     ]
    },
    {
     "name": "stderr",
     "output_type": "stream",
     "text": [
      "Evaluting Epoch: 25:  70%|███████   | 7/10 [00:03<00:01,  2.05it/s]"
     ]
    },
    {
     "name": "stdout",
     "output_type": "stream",
     "text": [
      "Names      : ['NLP_CHEST_057']\n",
      "Predictions: ['Chest plain film shows : Impression : - Suspicious pulmonary edema']\n",
      "Labels     : ['Chest plain film shows : Impression : - Increased infiltrations in both lungs. - Tortuous atherosclerotic dilated aorta. - Normal heart size. - DJD of spine. Old fracture of right ribs. - Increased both lung markings. S / P Lt jugular CVC insertion. S / P NG and endotracheal tube. - Susp. Lt pneumothorax. Suspect pneumomediastinum. Subcutaneous emphysema in bilateral neck. - S / P bilateral chest tube insertion.']\n",
      "\n"
     ]
    },
    {
     "name": "stderr",
     "output_type": "stream",
     "text": [
      "Evaluting Epoch: 25:  80%|████████  | 8/10 [00:03<00:00,  2.06it/s]"
     ]
    },
    {
     "name": "stdout",
     "output_type": "stream",
     "text": [
      "Names      : ['NLP_CHEST_059']\n",
      "Predictions: ['Chest plain film shows : Impression : - Increased infiltrations']\n",
      "Labels     : ['Supine chest AP view shows : Pigtail catheter at right lower chest. Decreased amount of right pleural effusion. Air in the right lower pleural space. Poor lung expansion. Mild subcutaneous emphysema at right chest wall. Right pleural thickening. Ill - defined masses at right perihilar region. Normal heart size.']\n",
      "\n"
     ]
    },
    {
     "name": "stderr",
     "output_type": "stream",
     "text": [
      "Evaluting Epoch: 25:  90%|█████████ | 9/10 [00:04<00:00,  2.01it/s]"
     ]
    },
    {
     "name": "stdout",
     "output_type": "stream",
     "text": [
      "Names      : ['NLP_CHEST_071']\n",
      "Predictions: ['Chest plain film shows : Impression : - Increased infiltrations']\n",
      "Labels     : ['Chest film shows : Impression : - Bilateral lung infiltrations. - Suspect right lower lung patch. Blunting right CP angle. - Tortuous atherosclerotic aorta. - Scoliosis, DJD and osteoporosis of spine. Compression fracture of T12. Old fracture of left ribs. - S / P fixation in L - spine. - S / P tracheostomy and NG tube.']\n",
      "\n"
     ]
    },
    {
     "name": "stderr",
     "output_type": "stream",
     "text": [
      "Evaluting Epoch: 25: 100%|██████████| 10/10 [00:04<00:00,  2.06it/s]\n"
     ]
    },
    {
     "name": "stdout",
     "output_type": "stream",
     "text": [
      "Names      : ['NLP_CHEST_085']\n",
      "Predictions: ['Chest plain film view showed : Impression : - Suspicious pulmonary ed']\n",
      "Labels     : ['Chest X ray : - Right pneumothorax with pleural effusion, status post drainge tube placement. - Extensive subcutaneous emphysema from neck to right side thoracic cage. - Increased right hilar opacity. - Atherosclerosis and tortuous aorta. - Obscured bilateral costophrenic angles. - Spondylosis and mild scoliosis of thoracolumbar spine. - OA of right glenohumeral joint. - Generalized osteopenia.']\n",
      "\n",
      "Rouge-2 score on epoch 24: {'Rouge-L-P': 0.46443987123987124, 'Rouge-L-R': 0.11302602667043908, 'Rouge-L-F': 0.11302602667043908, 'Rouge-2-P': 0.29770378118613444, 'Rouge-2-R': 0.06342274772257073, 'Rouge-2-F': 0.06342274772257073}\n"
     ]
    },
    {
     "name": "stderr",
     "output_type": "stream",
     "text": [
      "Training Epoch [26 / 30]: 100%|██████████| 89/89 [00:19<00:00,  4.66it/s, loss=0.0594]\n",
      "Evaluting Epoch: 26:  10%|█         | 1/10 [00:00<00:04,  1.94it/s]"
     ]
    },
    {
     "name": "stdout",
     "output_type": "stream",
     "text": [
      "Names      : ['NLP_CHEST_002']\n",
      "Predictions: ['Chest PA view shows : Impression : > Bilateral lung markings increased']\n",
      "Labels     : ['Chest PA view shows : Partial atelectasis at left lower lung field. Left pleural effusion. Borderline heart size. Atherosclerotic change of aortic knob. S / P port - A implantation via left subclavian vein. Intraperitoneal port catheter. Surgical clips at RUQ of abdomen.']\n",
      "\n"
     ]
    },
    {
     "name": "stderr",
     "output_type": "stream",
     "text": [
      "Evaluting Epoch: 26:  20%|██        | 2/10 [00:00<00:03,  2.08it/s]"
     ]
    },
    {
     "name": "stdout",
     "output_type": "stream",
     "text": [
      "Names      : ['NLP_CHEST_004']\n",
      "Predictions: ['Chest plain film view showed : Impression : - Suspicious pulmonary ed']\n",
      "Labels     : ['Chest PA view show : Impression : - S / P RLL wedge resection. - Bilateral lungs metastasis. - Left lower lung subsegmental atelectasis. - Increased infiltrations in both lungs. - Blunting right CP angle. - Tortuous atherosclerotic aorta. - Scoliosis, DJD and osteoporosis of spine. - Compression fracture of L1.']\n",
      "\n"
     ]
    },
    {
     "name": "stderr",
     "output_type": "stream",
     "text": [
      "Evaluting Epoch: 26:  30%|███       | 3/10 [00:01<00:03,  2.04it/s]"
     ]
    },
    {
     "name": "stdout",
     "output_type": "stream",
     "text": [
      "Names      : ['NLP_CHEST_011']\n",
      "Predictions: ['Chest plain film view showed : Impression : - Suspicious pulmonary ed']\n",
      "Labels     : [\"Chest AP view showed : 1. s / p sternotomy and CABG. Enlarged heart size with tortuous aorta. 2. R't middle and lower lung faint patches. L't lower lung consolidation. L't pleural effusion. 3. No mediastinum widening. 4. s / p endotracheal tube and NG intubation.\"]\n",
      "\n"
     ]
    },
    {
     "name": "stderr",
     "output_type": "stream",
     "text": [
      "Evaluting Epoch: 26:  40%|████      | 4/10 [00:01<00:03,  1.99it/s]"
     ]
    },
    {
     "name": "stdout",
     "output_type": "stream",
     "text": [
      "Names      : ['NLP_CHEST_015']\n",
      "Predictions: ['Chest PA view shows : Impression : - Increased both lung markings.']\n",
      "Labels     : ['Chest X ray : - No obvious lung mass nor consolidation patch. - Normal heart size. - No pleural effusion.']\n",
      "\n"
     ]
    },
    {
     "name": "stderr",
     "output_type": "stream",
     "text": [
      "Evaluting Epoch: 26:  50%|█████     | 5/10 [00:02<00:02,  2.05it/s]"
     ]
    },
    {
     "name": "stdout",
     "output_type": "stream",
     "text": [
      "Names      : ['NLP_CHEST_027']\n",
      "Predictions: ['Chest plain film view showed : Impression : - Suspicious pulmonary ed']\n",
      "Labels     : ['Chest PA View : Impression : > Cardiomegaly with bilateral pulmonary congestion. > Postinflammatory fibrosis in both upper lungs. > Atherosclerosis of aorta. > Old fractures of left 5th and 6th ribs. > R / O osteoporosis. > Spondylosis of thoracolumbar spine. > S / P abdominal operation in RUQ.']\n",
      "\n"
     ]
    },
    {
     "name": "stderr",
     "output_type": "stream",
     "text": [
      "Evaluting Epoch: 26:  60%|██████    | 6/10 [00:02<00:02,  1.98it/s]"
     ]
    },
    {
     "name": "stdout",
     "output_type": "stream",
     "text": [
      "Names      : ['NLP_CHEST_031']\n",
      "Predictions: ['Chest PA view : Impression : - Increased both lung markings. -']\n",
      "Labels     : ['Chest PA view : Impression : - Increased both lung markings. - Compatible with right lung nodules. - Fibrotic lesion in left upper lung. - Normal heart size. Atherosclerotic aorta. - Suspect right pleural effusion. - Spondylosis. R / O osteoporosis. - Compatible with multiple bony metastases. - S / P NG and endotracheal tube. - S / P Lt subclavian Port - A - cath.']\n",
      "\n"
     ]
    },
    {
     "name": "stderr",
     "output_type": "stream",
     "text": [
      "Evaluting Epoch: 26:  70%|███████   | 7/10 [00:03<00:01,  2.02it/s]"
     ]
    },
    {
     "name": "stdout",
     "output_type": "stream",
     "text": [
      "Names      : ['NLP_CHEST_057']\n",
      "Predictions: ['Chest PA view shows : Impression : - Suspicious pulmonary edema']\n",
      "Labels     : ['Chest plain film shows : Impression : - Increased infiltrations in both lungs. - Tortuous atherosclerotic dilated aorta. - Normal heart size. - DJD of spine. Old fracture of right ribs. - Increased both lung markings. S / P Lt jugular CVC insertion. S / P NG and endotracheal tube. - Susp. Lt pneumothorax. Suspect pneumomediastinum. Subcutaneous emphysema in bilateral neck. - S / P bilateral chest tube insertion.']\n",
      "\n"
     ]
    },
    {
     "name": "stderr",
     "output_type": "stream",
     "text": [
      "Evaluting Epoch: 26:  80%|████████  | 8/10 [00:03<00:00,  2.08it/s]"
     ]
    },
    {
     "name": "stdout",
     "output_type": "stream",
     "text": [
      "Names      : ['NLP_CHEST_059']\n",
      "Predictions: ['Chest PA view shows : Impression : > Increased infiltrations']\n",
      "Labels     : ['Supine chest AP view shows : Pigtail catheter at right lower chest. Decreased amount of right pleural effusion. Air in the right lower pleural space. Poor lung expansion. Mild subcutaneous emphysema at right chest wall. Right pleural thickening. Ill - defined masses at right perihilar region. Normal heart size.']\n",
      "\n"
     ]
    },
    {
     "name": "stderr",
     "output_type": "stream",
     "text": [
      "Evaluting Epoch: 26:  90%|█████████ | 9/10 [00:04<00:00,  2.08it/s]"
     ]
    },
    {
     "name": "stdout",
     "output_type": "stream",
     "text": [
      "Names      : ['NLP_CHEST_071']\n",
      "Predictions: ['Chest plain film shows : Impression : - Suspicious pulmonary edema']\n",
      "Labels     : ['Chest film shows : Impression : - Bilateral lung infiltrations. - Suspect right lower lung patch. Blunting right CP angle. - Tortuous atherosclerotic aorta. - Scoliosis, DJD and osteoporosis of spine. Compression fracture of T12. Old fracture of left ribs. - S / P fixation in L - spine. - S / P tracheostomy and NG tube.']\n",
      "\n"
     ]
    },
    {
     "name": "stderr",
     "output_type": "stream",
     "text": [
      "Evaluting Epoch: 26: 100%|██████████| 10/10 [00:04<00:00,  2.06it/s]\n"
     ]
    },
    {
     "name": "stdout",
     "output_type": "stream",
     "text": [
      "Names      : ['NLP_CHEST_085']\n",
      "Predictions: ['Chest PA view shows : Impression : - Increased both lung markings.']\n",
      "Labels     : ['Chest X ray : - Right pneumothorax with pleural effusion, status post drainge tube placement. - Extensive subcutaneous emphysema from neck to right side thoracic cage. - Increased right hilar opacity. - Atherosclerosis and tortuous aorta. - Obscured bilateral costophrenic angles. - Spondylosis and mild scoliosis of thoracolumbar spine. - OA of right glenohumeral joint. - Generalized osteopenia.']\n",
      "\n",
      "Rouge-2 score on epoch 25: {'Rouge-L-P': 0.46541712560943327, 'Rouge-L-R': 0.1131631417693532, 'Rouge-L-F': 0.1131631417693532, 'Rouge-2-P': 0.29931113381339663, 'Rouge-2-R': 0.06362658374883218, 'Rouge-2-F': 0.06362658374883218}\n"
     ]
    },
    {
     "name": "stderr",
     "output_type": "stream",
     "text": [
      "Training Epoch [27 / 30]: 100%|██████████| 89/89 [00:19<00:00,  4.61it/s, loss=0.0535]\n",
      "Evaluting Epoch: 27:  10%|█         | 1/10 [00:00<00:04,  1.95it/s]"
     ]
    },
    {
     "name": "stdout",
     "output_type": "stream",
     "text": [
      "Names      : ['NLP_CHEST_002']\n",
      "Predictions: ['Chest PA view shows : Impression : > Bilateral lung markings increased']\n",
      "Labels     : ['Chest PA view shows : Partial atelectasis at left lower lung field. Left pleural effusion. Borderline heart size. Atherosclerotic change of aortic knob. S / P port - A implantation via left subclavian vein. Intraperitoneal port catheter. Surgical clips at RUQ of abdomen.']\n",
      "\n"
     ]
    },
    {
     "name": "stderr",
     "output_type": "stream",
     "text": [
      "Evaluting Epoch: 27:  20%|██        | 2/10 [00:01<00:04,  1.89it/s]"
     ]
    },
    {
     "name": "stdout",
     "output_type": "stream",
     "text": [
      "Names      : ['NLP_CHEST_004']\n",
      "Predictions: ['Chest plain film view showed : Impression : - Suspicious pulmonary ed']\n",
      "Labels     : ['Chest PA view show : Impression : - S / P RLL wedge resection. - Bilateral lungs metastasis. - Left lower lung subsegmental atelectasis. - Increased infiltrations in both lungs. - Blunting right CP angle. - Tortuous atherosclerotic aorta. - Scoliosis, DJD and osteoporosis of spine. - Compression fracture of L1.']\n",
      "\n"
     ]
    },
    {
     "name": "stderr",
     "output_type": "stream",
     "text": [
      "Evaluting Epoch: 27:  30%|███       | 3/10 [00:01<00:03,  1.98it/s]"
     ]
    },
    {
     "name": "stdout",
     "output_type": "stream",
     "text": [
      "Names      : ['NLP_CHEST_011']\n",
      "Predictions: ['Chest plain film view showed : Impression : - Suspicious pulmonary ed']\n",
      "Labels     : [\"Chest AP view showed : 1. s / p sternotomy and CABG. Enlarged heart size with tortuous aorta. 2. R't middle and lower lung faint patches. L't lower lung consolidation. L't pleural effusion. 3. No mediastinum widening. 4. s / p endotracheal tube and NG intubation.\"]\n",
      "\n"
     ]
    },
    {
     "name": "stderr",
     "output_type": "stream",
     "text": [
      "Evaluting Epoch: 27:  40%|████      | 4/10 [00:01<00:02,  2.04it/s]"
     ]
    },
    {
     "name": "stdout",
     "output_type": "stream",
     "text": [
      "Names      : ['NLP_CHEST_015']\n",
      "Predictions: ['Chest PA view shows : Large mass occupying right upper chest. Normal heart size.']\n",
      "Labels     : ['Chest X ray : - No obvious lung mass nor consolidation patch. - Normal heart size. - No pleural effusion.']\n",
      "\n"
     ]
    },
    {
     "name": "stderr",
     "output_type": "stream",
     "text": [
      "Evaluting Epoch: 27:  50%|█████     | 5/10 [00:02<00:02,  2.07it/s]"
     ]
    },
    {
     "name": "stdout",
     "output_type": "stream",
     "text": [
      "Names      : ['NLP_CHEST_027']\n",
      "Predictions: ['Chest plain film view showed : Impression : - Suspicious pulmonary ed']\n",
      "Labels     : ['Chest PA View : Impression : > Cardiomegaly with bilateral pulmonary congestion. > Postinflammatory fibrosis in both upper lungs. > Atherosclerosis of aorta. > Old fractures of left 5th and 6th ribs. > R / O osteoporosis. > Spondylosis of thoracolumbar spine. > S / P abdominal operation in RUQ.']\n",
      "\n"
     ]
    },
    {
     "name": "stderr",
     "output_type": "stream",
     "text": [
      "Evaluting Epoch: 27:  60%|██████    | 6/10 [00:02<00:01,  2.12it/s]"
     ]
    },
    {
     "name": "stdout",
     "output_type": "stream",
     "text": [
      "Names      : ['NLP_CHEST_031']\n",
      "Predictions: ['Chest PA view : Impression : - Increased both lung markings. -']\n",
      "Labels     : ['Chest PA view : Impression : - Increased both lung markings. - Compatible with right lung nodules. - Fibrotic lesion in left upper lung. - Normal heart size. Atherosclerotic aorta. - Suspect right pleural effusion. - Spondylosis. R / O osteoporosis. - Compatible with multiple bony metastases. - S / P NG and endotracheal tube. - S / P Lt subclavian Port - A - cath.']\n",
      "\n"
     ]
    },
    {
     "name": "stderr",
     "output_type": "stream",
     "text": [
      "Evaluting Epoch: 27:  70%|███████   | 7/10 [00:03<00:01,  2.09it/s]"
     ]
    },
    {
     "name": "stdout",
     "output_type": "stream",
     "text": [
      "Names      : ['NLP_CHEST_057']\n",
      "Predictions: ['Chest plain film shows : Impression : - Suspicious pulmonary edema']\n",
      "Labels     : ['Chest plain film shows : Impression : - Increased infiltrations in both lungs. - Tortuous atherosclerotic dilated aorta. - Normal heart size. - DJD of spine. Old fracture of right ribs. - Increased both lung markings. S / P Lt jugular CVC insertion. S / P NG and endotracheal tube. - Susp. Lt pneumothorax. Suspect pneumomediastinum. Subcutaneous emphysema in bilateral neck. - S / P bilateral chest tube insertion.']\n",
      "\n"
     ]
    },
    {
     "name": "stderr",
     "output_type": "stream",
     "text": [
      "Evaluting Epoch: 27:  80%|████████  | 8/10 [00:03<00:00,  2.13it/s]"
     ]
    },
    {
     "name": "stdout",
     "output_type": "stream",
     "text": [
      "Names      : ['NLP_CHEST_059']\n",
      "Predictions: ['Chest PA view shows : Impression : - Increased infiltrations']\n",
      "Labels     : ['Supine chest AP view shows : Pigtail catheter at right lower chest. Decreased amount of right pleural effusion. Air in the right lower pleural space. Poor lung expansion. Mild subcutaneous emphysema at right chest wall. Right pleural thickening. Ill - defined masses at right perihilar region. Normal heart size.']\n",
      "\n"
     ]
    },
    {
     "name": "stderr",
     "output_type": "stream",
     "text": [
      "Evaluting Epoch: 27:  90%|█████████ | 9/10 [00:04<00:00,  2.14it/s]"
     ]
    },
    {
     "name": "stdout",
     "output_type": "stream",
     "text": [
      "Names      : ['NLP_CHEST_071']\n",
      "Predictions: ['Chest plain film shows : Impression : - Increased infiltrations']\n",
      "Labels     : ['Chest film shows : Impression : - Bilateral lung infiltrations. - Suspect right lower lung patch. Blunting right CP angle. - Tortuous atherosclerotic aorta. - Scoliosis, DJD and osteoporosis of spine. Compression fracture of T12. Old fracture of left ribs. - S / P fixation in L - spine. - S / P tracheostomy and NG tube.']\n",
      "\n"
     ]
    },
    {
     "name": "stderr",
     "output_type": "stream",
     "text": [
      "Evaluting Epoch: 27: 100%|██████████| 10/10 [00:04<00:00,  2.09it/s]\n"
     ]
    },
    {
     "name": "stdout",
     "output_type": "stream",
     "text": [
      "Names      : ['NLP_CHEST_085']\n",
      "Predictions: ['Chest PA view showed : Impression : - Suspicious pulmonary edema']\n",
      "Labels     : ['Chest X ray : - Right pneumothorax with pleural effusion, status post drainge tube placement. - Extensive subcutaneous emphysema from neck to right side thoracic cage. - Increased right hilar opacity. - Atherosclerosis and tortuous aorta. - Obscured bilateral costophrenic angles. - Spondylosis and mild scoliosis of thoracolumbar spine. - OA of right glenohumeral joint. - Generalized osteopenia.']\n",
      "\n",
      "Rouge-2 score on epoch 26: {'Rouge-L-P': 0.46772971884083, 'Rouge-L-R': 0.113779553124649, 'Rouge-L-F': 0.113779553124649, 'Rouge-2-P': 0.3020463656411373, 'Rouge-2-R': 0.06410867401891525, 'Rouge-2-F': 0.06410867401891525}\n"
     ]
    },
    {
     "name": "stderr",
     "output_type": "stream",
     "text": [
      "Training Epoch [28 / 30]: 100%|██████████| 89/89 [00:18<00:00,  4.78it/s, loss=0.05]  \n",
      "Evaluting Epoch: 28:  10%|█         | 1/10 [00:00<00:04,  2.04it/s]"
     ]
    },
    {
     "name": "stdout",
     "output_type": "stream",
     "text": [
      "Names      : ['NLP_CHEST_002']\n",
      "Predictions: ['Chest PA view shows : Impression : - Left upper lung mass with ca']\n",
      "Labels     : ['Chest PA view shows : Partial atelectasis at left lower lung field. Left pleural effusion. Borderline heart size. Atherosclerotic change of aortic knob. S / P port - A implantation via left subclavian vein. Intraperitoneal port catheter. Surgical clips at RUQ of abdomen.']\n",
      "\n"
     ]
    },
    {
     "name": "stderr",
     "output_type": "stream",
     "text": [
      "Evaluting Epoch: 28:  20%|██        | 2/10 [00:00<00:03,  2.02it/s]"
     ]
    },
    {
     "name": "stdout",
     "output_type": "stream",
     "text": [
      "Names      : ['NLP_CHEST_004']\n",
      "Predictions: ['Chest PA View : Impression : - Suspicious pulmonary edema.']\n",
      "Labels     : ['Chest PA view show : Impression : - S / P RLL wedge resection. - Bilateral lungs metastasis. - Left lower lung subsegmental atelectasis. - Increased infiltrations in both lungs. - Blunting right CP angle. - Tortuous atherosclerotic aorta. - Scoliosis, DJD and osteoporosis of spine. - Compression fracture of L1.']\n",
      "\n"
     ]
    },
    {
     "name": "stderr",
     "output_type": "stream",
     "text": [
      "Evaluting Epoch: 28:  30%|███       | 3/10 [00:01<00:03,  2.05it/s]"
     ]
    },
    {
     "name": "stdout",
     "output_type": "stream",
     "text": [
      "Names      : ['NLP_CHEST_011']\n",
      "Predictions: ['Chest AP view showed : 1. Enlarged heart size with tortuous']\n",
      "Labels     : [\"Chest AP view showed : 1. s / p sternotomy and CABG. Enlarged heart size with tortuous aorta. 2. R't middle and lower lung faint patches. L't lower lung consolidation. L't pleural effusion. 3. No mediastinum widening. 4. s / p endotracheal tube and NG intubation.\"]\n",
      "\n"
     ]
    },
    {
     "name": "stderr",
     "output_type": "stream",
     "text": [
      "Evaluting Epoch: 28:  40%|████      | 4/10 [00:01<00:02,  2.04it/s]"
     ]
    },
    {
     "name": "stdout",
     "output_type": "stream",
     "text": [
      "Names      : ['NLP_CHEST_015']\n",
      "Predictions: ['Chest PA view shows : Impression : - Suspicious pulmonary edema']\n",
      "Labels     : ['Chest X ray : - No obvious lung mass nor consolidation patch. - Normal heart size. - No pleural effusion.']\n",
      "\n"
     ]
    },
    {
     "name": "stderr",
     "output_type": "stream",
     "text": [
      "Evaluting Epoch: 28:  50%|█████     | 5/10 [00:02<00:02,  2.13it/s]"
     ]
    },
    {
     "name": "stdout",
     "output_type": "stream",
     "text": [
      "Names      : ['NLP_CHEST_027']\n",
      "Predictions: ['Chest plain film view showed : Impression : - Suspicious pulmonary ed']\n",
      "Labels     : ['Chest PA View : Impression : > Cardiomegaly with bilateral pulmonary congestion. > Postinflammatory fibrosis in both upper lungs. > Atherosclerosis of aorta. > Old fractures of left 5th and 6th ribs. > R / O osteoporosis. > Spondylosis of thoracolumbar spine. > S / P abdominal operation in RUQ.']\n",
      "\n"
     ]
    },
    {
     "name": "stderr",
     "output_type": "stream",
     "text": [
      "Evaluting Epoch: 28:  60%|██████    | 6/10 [00:02<00:01,  2.14it/s]"
     ]
    },
    {
     "name": "stdout",
     "output_type": "stream",
     "text": [
      "Names      : ['NLP_CHEST_031']\n",
      "Predictions: ['Chest PA view : Impression : - Increased both lung markings. -']\n",
      "Labels     : ['Chest PA view : Impression : - Increased both lung markings. - Compatible with right lung nodules. - Fibrotic lesion in left upper lung. - Normal heart size. Atherosclerotic aorta. - Suspect right pleural effusion. - Spondylosis. R / O osteoporosis. - Compatible with multiple bony metastases. - S / P NG and endotracheal tube. - S / P Lt subclavian Port - A - cath.']\n",
      "\n"
     ]
    },
    {
     "name": "stderr",
     "output_type": "stream",
     "text": [
      "Evaluting Epoch: 28:  70%|███████   | 7/10 [00:03<00:01,  2.10it/s]"
     ]
    },
    {
     "name": "stdout",
     "output_type": "stream",
     "text": [
      "Names      : ['NLP_CHEST_057']\n",
      "Predictions: ['Chest PA view shows : Impression : - Suspicious pulmonary edema']\n",
      "Labels     : ['Chest plain film shows : Impression : - Increased infiltrations in both lungs. - Tortuous atherosclerotic dilated aorta. - Normal heart size. - DJD of spine. Old fracture of right ribs. - Increased both lung markings. S / P Lt jugular CVC insertion. S / P NG and endotracheal tube. - Susp. Lt pneumothorax. Suspect pneumomediastinum. Subcutaneous emphysema in bilateral neck. - S / P bilateral chest tube insertion.']\n",
      "\n"
     ]
    },
    {
     "name": "stderr",
     "output_type": "stream",
     "text": [
      "Evaluting Epoch: 28:  80%|████████  | 8/10 [00:03<00:00,  2.07it/s]"
     ]
    },
    {
     "name": "stdout",
     "output_type": "stream",
     "text": [
      "Names      : ['NLP_CHEST_059']\n",
      "Predictions: ['Chest PA view shows : Impression : - Increased infiltrations']\n",
      "Labels     : ['Supine chest AP view shows : Pigtail catheter at right lower chest. Decreased amount of right pleural effusion. Air in the right lower pleural space. Poor lung expansion. Mild subcutaneous emphysema at right chest wall. Right pleural thickening. Ill - defined masses at right perihilar region. Normal heart size.']\n",
      "\n"
     ]
    },
    {
     "name": "stderr",
     "output_type": "stream",
     "text": [
      "Evaluting Epoch: 28:  90%|█████████ | 9/10 [00:04<00:00,  2.12it/s]"
     ]
    },
    {
     "name": "stdout",
     "output_type": "stream",
     "text": [
      "Names      : ['NLP_CHEST_071']\n",
      "Predictions: ['Chest PA view shows : Impression : - Increased infiltrations']\n",
      "Labels     : ['Chest film shows : Impression : - Bilateral lung infiltrations. - Suspect right lower lung patch. Blunting right CP angle. - Tortuous atherosclerotic aorta. - Scoliosis, DJD and osteoporosis of spine. Compression fracture of T12. Old fracture of left ribs. - S / P fixation in L - spine. - S / P tracheostomy and NG tube.']\n",
      "\n"
     ]
    },
    {
     "name": "stderr",
     "output_type": "stream",
     "text": [
      "Evaluting Epoch: 28: 100%|██████████| 10/10 [00:04<00:00,  2.10it/s]\n"
     ]
    },
    {
     "name": "stdout",
     "output_type": "stream",
     "text": [
      "Names      : ['NLP_CHEST_085']\n",
      "Predictions: ['Chest PA view shows : Impression : - Suspicious pulmonary edema']\n",
      "Labels     : ['Chest X ray : - Right pneumothorax with pleural effusion, status post drainge tube placement. - Extensive subcutaneous emphysema from neck to right side thoracic cage. - Increased right hilar opacity. - Atherosclerosis and tortuous aorta. - Obscured bilateral costophrenic angles. - Spondylosis and mild scoliosis of thoracolumbar spine. - OA of right glenohumeral joint. - Generalized osteopenia.']\n",
      "\n",
      "Rouge-2 score on epoch 27: {'Rouge-L-P': 0.470797040261326, 'Rouge-L-R': 0.11419352276223789, 'Rouge-L-F': 0.11419352276223789, 'Rouge-2-P': 0.3059040725847453, 'Rouge-2-R': 0.06477400493646461, 'Rouge-2-F': 0.06477400493646461}\n"
     ]
    },
    {
     "name": "stderr",
     "output_type": "stream",
     "text": [
      "Training Epoch [29 / 30]: 100%|██████████| 89/89 [00:19<00:00,  4.50it/s, loss=0.049] \n",
      "Evaluting Epoch: 29:  10%|█         | 1/10 [00:00<00:04,  2.14it/s]"
     ]
    },
    {
     "name": "stdout",
     "output_type": "stream",
     "text": [
      "Names      : ['NLP_CHEST_002']\n",
      "Predictions: ['Chest PA view shows : Impression : > Bilateral lung markings increased']\n",
      "Labels     : ['Chest PA view shows : Partial atelectasis at left lower lung field. Left pleural effusion. Borderline heart size. Atherosclerotic change of aortic knob. S / P port - A implantation via left subclavian vein. Intraperitoneal port catheter. Surgical clips at RUQ of abdomen.']\n",
      "\n"
     ]
    },
    {
     "name": "stderr",
     "output_type": "stream",
     "text": [
      "Evaluting Epoch: 29:  20%|██        | 2/10 [00:00<00:03,  2.08it/s]"
     ]
    },
    {
     "name": "stdout",
     "output_type": "stream",
     "text": [
      "Names      : ['NLP_CHEST_004']\n",
      "Predictions: ['Chest plain film shows : Impression : - Suspicious pulmonary edema']\n",
      "Labels     : ['Chest PA view show : Impression : - S / P RLL wedge resection. - Bilateral lungs metastasis. - Left lower lung subsegmental atelectasis. - Increased infiltrations in both lungs. - Blunting right CP angle. - Tortuous atherosclerotic aorta. - Scoliosis, DJD and osteoporosis of spine. - Compression fracture of L1.']\n",
      "\n"
     ]
    },
    {
     "name": "stderr",
     "output_type": "stream",
     "text": [
      "Evaluting Epoch: 29:  30%|███       | 3/10 [00:01<00:03,  2.10it/s]"
     ]
    },
    {
     "name": "stdout",
     "output_type": "stream",
     "text": [
      "Names      : ['NLP_CHEST_011']\n",
      "Predictions: ['Chest AP view showed : 1. s / p sternotomy and cardiac valve']\n",
      "Labels     : [\"Chest AP view showed : 1. s / p sternotomy and CABG. Enlarged heart size with tortuous aorta. 2. R't middle and lower lung faint patches. L't lower lung consolidation. L't pleural effusion. 3. No mediastinum widening. 4. s / p endotracheal tube and NG intubation.\"]\n",
      "\n"
     ]
    },
    {
     "name": "stderr",
     "output_type": "stream",
     "text": [
      "Evaluting Epoch: 29:  40%|████      | 4/10 [00:01<00:02,  2.10it/s]"
     ]
    },
    {
     "name": "stdout",
     "output_type": "stream",
     "text": [
      "Names      : ['NLP_CHEST_015']\n",
      "Predictions: ['Chest PA view shows : Large mass occupying right upper chest. Normal heart size.']\n",
      "Labels     : ['Chest X ray : - No obvious lung mass nor consolidation patch. - Normal heart size. - No pleural effusion.']\n",
      "\n"
     ]
    },
    {
     "name": "stderr",
     "output_type": "stream",
     "text": [
      "Evaluting Epoch: 29:  50%|█████     | 5/10 [00:02<00:02,  2.00it/s]"
     ]
    },
    {
     "name": "stdout",
     "output_type": "stream",
     "text": [
      "Names      : ['NLP_CHEST_027']\n",
      "Predictions: ['Chest plain film view showed : Impression : - Suspicious pulmonary ed']\n",
      "Labels     : ['Chest PA View : Impression : > Cardiomegaly with bilateral pulmonary congestion. > Postinflammatory fibrosis in both upper lungs. > Atherosclerosis of aorta. > Old fractures of left 5th and 6th ribs. > R / O osteoporosis. > Spondylosis of thoracolumbar spine. > S / P abdominal operation in RUQ.']\n",
      "\n"
     ]
    },
    {
     "name": "stderr",
     "output_type": "stream",
     "text": [
      "Evaluting Epoch: 29:  60%|██████    | 6/10 [00:02<00:01,  2.02it/s]"
     ]
    },
    {
     "name": "stdout",
     "output_type": "stream",
     "text": [
      "Names      : ['NLP_CHEST_031']\n",
      "Predictions: ['Chest PA view : Impression : - Increased both lung markings. -']\n",
      "Labels     : ['Chest PA view : Impression : - Increased both lung markings. - Compatible with right lung nodules. - Fibrotic lesion in left upper lung. - Normal heart size. Atherosclerotic aorta. - Suspect right pleural effusion. - Spondylosis. R / O osteoporosis. - Compatible with multiple bony metastases. - S / P NG and endotracheal tube. - S / P Lt subclavian Port - A - cath.']\n",
      "\n"
     ]
    },
    {
     "name": "stderr",
     "output_type": "stream",
     "text": [
      "Evaluting Epoch: 29:  70%|███████   | 7/10 [00:03<00:01,  2.02it/s]"
     ]
    },
    {
     "name": "stdout",
     "output_type": "stream",
     "text": [
      "Names      : ['NLP_CHEST_057']\n",
      "Predictions: ['Chest AP view showed : 1. Normal heart size with tortuous aort']\n",
      "Labels     : ['Chest plain film shows : Impression : - Increased infiltrations in both lungs. - Tortuous atherosclerotic dilated aorta. - Normal heart size. - DJD of spine. Old fracture of right ribs. - Increased both lung markings. S / P Lt jugular CVC insertion. S / P NG and endotracheal tube. - Susp. Lt pneumothorax. Suspect pneumomediastinum. Subcutaneous emphysema in bilateral neck. - S / P bilateral chest tube insertion.']\n",
      "\n"
     ]
    },
    {
     "name": "stderr",
     "output_type": "stream",
     "text": [
      "Evaluting Epoch: 29:  80%|████████  | 8/10 [00:03<00:00,  2.09it/s]"
     ]
    },
    {
     "name": "stdout",
     "output_type": "stream",
     "text": [
      "Names      : ['NLP_CHEST_059']\n",
      "Predictions: ['Chest AP view shows : 1. Borderline cardiomegaly. >']\n",
      "Labels     : ['Supine chest AP view shows : Pigtail catheter at right lower chest. Decreased amount of right pleural effusion. Air in the right lower pleural space. Poor lung expansion. Mild subcutaneous emphysema at right chest wall. Right pleural thickening. Ill - defined masses at right perihilar region. Normal heart size.']\n",
      "\n"
     ]
    },
    {
     "name": "stderr",
     "output_type": "stream",
     "text": [
      "Evaluting Epoch: 29:  90%|█████████ | 9/10 [00:04<00:00,  2.08it/s]"
     ]
    },
    {
     "name": "stdout",
     "output_type": "stream",
     "text": [
      "Names      : ['NLP_CHEST_071']\n",
      "Predictions: ['Chest plain film shows : Impression : - Suspicious pulmonary edema']\n",
      "Labels     : ['Chest film shows : Impression : - Bilateral lung infiltrations. - Suspect right lower lung patch. Blunting right CP angle. - Tortuous atherosclerotic aorta. - Scoliosis, DJD and osteoporosis of spine. Compression fracture of T12. Old fracture of left ribs. - S / P fixation in L - spine. - S / P tracheostomy and NG tube.']\n",
      "\n"
     ]
    },
    {
     "name": "stderr",
     "output_type": "stream",
     "text": [
      "Evaluting Epoch: 29: 100%|██████████| 10/10 [00:04<00:00,  2.07it/s]\n"
     ]
    },
    {
     "name": "stdout",
     "output_type": "stream",
     "text": [
      "Names      : ['NLP_CHEST_085']\n",
      "Predictions: ['Chest plain film view showed : Impression : - Suspicious pulmonary ed']\n",
      "Labels     : ['Chest X ray : - Right pneumothorax with pleural effusion, status post drainge tube placement. - Extensive subcutaneous emphysema from neck to right side thoracic cage. - Increased right hilar opacity. - Atherosclerosis and tortuous aorta. - Obscured bilateral costophrenic angles. - Spondylosis and mild scoliosis of thoracolumbar spine. - OA of right glenohumeral joint. - Generalized osteopenia.']\n",
      "\n",
      "Rouge-2 score on epoch 28: {'Rouge-L-P': 0.47287327614913827, 'Rouge-L-R': 0.11498911693952923, 'Rouge-L-F': 0.11498911693952923, 'Rouge-2-P': 0.30876756047648585, 'Rouge-2-R': 0.06556388761935968, 'Rouge-2-F': 0.06556388761935968}\n"
     ]
    },
    {
     "name": "stderr",
     "output_type": "stream",
     "text": [
      "Training Epoch [30 / 30]: 100%|██████████| 89/89 [00:19<00:00,  4.53it/s, loss=0.0421]\n",
      "Evaluting Epoch: 30:  10%|█         | 1/10 [00:00<00:04,  1.95it/s]"
     ]
    },
    {
     "name": "stdout",
     "output_type": "stream",
     "text": [
      "Names      : ['NLP_CHEST_002']\n",
      "Predictions: ['Chest PA view shows : Impression : - Increased both lung markings.']\n",
      "Labels     : ['Chest PA view shows : Partial atelectasis at left lower lung field. Left pleural effusion. Borderline heart size. Atherosclerotic change of aortic knob. S / P port - A implantation via left subclavian vein. Intraperitoneal port catheter. Surgical clips at RUQ of abdomen.']\n",
      "\n"
     ]
    },
    {
     "name": "stderr",
     "output_type": "stream",
     "text": [
      "Evaluting Epoch: 30:  20%|██        | 2/10 [00:00<00:03,  2.09it/s]"
     ]
    },
    {
     "name": "stdout",
     "output_type": "stream",
     "text": [
      "Names      : ['NLP_CHEST_004']\n",
      "Predictions: ['Chest plain film shows : Impression : - Suspicious pulmonary edema']\n",
      "Labels     : ['Chest PA view show : Impression : - S / P RLL wedge resection. - Bilateral lungs metastasis. - Left lower lung subsegmental atelectasis. - Increased infiltrations in both lungs. - Blunting right CP angle. - Tortuous atherosclerotic aorta. - Scoliosis, DJD and osteoporosis of spine. - Compression fracture of L1.']\n",
      "\n"
     ]
    },
    {
     "name": "stderr",
     "output_type": "stream",
     "text": [
      "Evaluting Epoch: 30:  30%|███       | 3/10 [00:01<00:03,  2.09it/s]"
     ]
    },
    {
     "name": "stdout",
     "output_type": "stream",
     "text": [
      "Names      : ['NLP_CHEST_011']\n",
      "Predictions: ['Chest AP view showed : 1. Enlarged heart size with tortuous']\n",
      "Labels     : [\"Chest AP view showed : 1. s / p sternotomy and CABG. Enlarged heart size with tortuous aorta. 2. R't middle and lower lung faint patches. L't lower lung consolidation. L't pleural effusion. 3. No mediastinum widening. 4. s / p endotracheal tube and NG intubation.\"]\n",
      "\n"
     ]
    },
    {
     "name": "stderr",
     "output_type": "stream",
     "text": [
      "Evaluting Epoch: 30:  40%|████      | 4/10 [00:01<00:02,  2.04it/s]"
     ]
    },
    {
     "name": "stdout",
     "output_type": "stream",
     "text": [
      "Names      : ['NLP_CHEST_015']\n",
      "Predictions: ['Chest PA view shows : Large mass occupying right upper chest. Normal heart size.']\n",
      "Labels     : ['Chest X ray : - No obvious lung mass nor consolidation patch. - Normal heart size. - No pleural effusion.']\n",
      "\n"
     ]
    },
    {
     "name": "stderr",
     "output_type": "stream",
     "text": [
      "Evaluting Epoch: 30:  50%|█████     | 5/10 [00:02<00:02,  2.07it/s]"
     ]
    },
    {
     "name": "stdout",
     "output_type": "stream",
     "text": [
      "Names      : ['NLP_CHEST_027']\n",
      "Predictions: ['Chest plain film view showed : Impression : - Suspicious pulmonary ed']\n",
      "Labels     : ['Chest PA View : Impression : > Cardiomegaly with bilateral pulmonary congestion. > Postinflammatory fibrosis in both upper lungs. > Atherosclerosis of aorta. > Old fractures of left 5th and 6th ribs. > R / O osteoporosis. > Spondylosis of thoracolumbar spine. > S / P abdominal operation in RUQ.']\n",
      "\n"
     ]
    },
    {
     "name": "stderr",
     "output_type": "stream",
     "text": [
      "Evaluting Epoch: 30:  60%|██████    | 6/10 [00:02<00:02,  1.99it/s]"
     ]
    },
    {
     "name": "stdout",
     "output_type": "stream",
     "text": [
      "Names      : ['NLP_CHEST_031']\n",
      "Predictions: ['Chest PA view : Impression : - Increased both lung markings. -']\n",
      "Labels     : ['Chest PA view : Impression : - Increased both lung markings. - Compatible with right lung nodules. - Fibrotic lesion in left upper lung. - Normal heart size. Atherosclerotic aorta. - Suspect right pleural effusion. - Spondylosis. R / O osteoporosis. - Compatible with multiple bony metastases. - S / P NG and endotracheal tube. - S / P Lt subclavian Port - A - cath.']\n",
      "\n"
     ]
    },
    {
     "name": "stderr",
     "output_type": "stream",
     "text": [
      "Evaluting Epoch: 30:  70%|███████   | 7/10 [00:03<00:01,  2.01it/s]"
     ]
    },
    {
     "name": "stdout",
     "output_type": "stream",
     "text": [
      "Names      : ['NLP_CHEST_057']\n",
      "Predictions: ['Chest AP view showed : 1. Normal heart size with tortuous aort']\n",
      "Labels     : ['Chest plain film shows : Impression : - Increased infiltrations in both lungs. - Tortuous atherosclerotic dilated aorta. - Normal heart size. - DJD of spine. Old fracture of right ribs. - Increased both lung markings. S / P Lt jugular CVC insertion. S / P NG and endotracheal tube. - Susp. Lt pneumothorax. Suspect pneumomediastinum. Subcutaneous emphysema in bilateral neck. - S / P bilateral chest tube insertion.']\n",
      "\n"
     ]
    },
    {
     "name": "stderr",
     "output_type": "stream",
     "text": [
      "Evaluting Epoch: 30:  80%|████████  | 8/10 [00:03<00:00,  2.05it/s]"
     ]
    },
    {
     "name": "stdout",
     "output_type": "stream",
     "text": [
      "Names      : ['NLP_CHEST_059']\n",
      "Predictions: ['Chest AP view showed : 1. Enlarged heart size with tortuous']\n",
      "Labels     : ['Supine chest AP view shows : Pigtail catheter at right lower chest. Decreased amount of right pleural effusion. Air in the right lower pleural space. Poor lung expansion. Mild subcutaneous emphysema at right chest wall. Right pleural thickening. Ill - defined masses at right perihilar region. Normal heart size.']\n",
      "\n"
     ]
    },
    {
     "name": "stderr",
     "output_type": "stream",
     "text": [
      "Evaluting Epoch: 30:  90%|█████████ | 9/10 [00:04<00:00,  2.03it/s]"
     ]
    },
    {
     "name": "stdout",
     "output_type": "stream",
     "text": [
      "Names      : ['NLP_CHEST_071']\n",
      "Predictions: ['Chest plain film shows : Impression : - Suspicious pulmonary edema']\n",
      "Labels     : ['Chest film shows : Impression : - Bilateral lung infiltrations. - Suspect right lower lung patch. Blunting right CP angle. - Tortuous atherosclerotic aorta. - Scoliosis, DJD and osteoporosis of spine. Compression fracture of T12. Old fracture of left ribs. - S / P fixation in L - spine. - S / P tracheostomy and NG tube.']\n",
      "\n"
     ]
    },
    {
     "name": "stderr",
     "output_type": "stream",
     "text": [
      "Evaluting Epoch: 30: 100%|██████████| 10/10 [00:04<00:00,  2.05it/s]"
     ]
    },
    {
     "name": "stdout",
     "output_type": "stream",
     "text": [
      "Names      : ['NLP_CHEST_085']\n",
      "Predictions: ['Chest plain film view showed : Impression : - Suspicious pulmonary ed']\n",
      "Labels     : ['Chest X ray : - Right pneumothorax with pleural effusion, status post drainge tube placement. - Extensive subcutaneous emphysema from neck to right side thoracic cage. - Increased right hilar opacity. - Atherosclerosis and tortuous aorta. - Obscured bilateral costophrenic angles. - Spondylosis and mild scoliosis of thoracolumbar spine. - OA of right glenohumeral joint. - Generalized osteopenia.']\n",
      "\n",
      "Rouge-2 score on epoch 29: {'Rouge-L-P': 0.4750545565545566, 'Rouge-L-R': 0.11573167150500115, 'Rouge-L-F': 0.11573167150500115, 'Rouge-2-P': 0.3107457047309993, 'Rouge-2-R': 0.06608814849376543, 'Rouge-2-F': 0.06608814849376543}\n"
     ]
    },
    {
     "name": "stderr",
     "output_type": "stream",
     "text": [
      "\n"
     ]
    }
   ],
   "source": [
    "min_loss = float(\"inf\")\n",
    "rouge_result = []\n",
    "for epoch in range(epochs):\n",
    "    model.train()\n",
    "\n",
    "    pbar = tqdm(train_dataloader)\n",
    "    pbar.set_description(f\"Training Epoch [{epoch + 1} / {epochs}]\")\n",
    "\n",
    "    lost_list = []\n",
    "    average_loss = 0\n",
    "\n",
    "    for _, pixel_values, label_ids in pbar:\n",
    "        optimizer.zero_grad()\n",
    "\n",
    "        loss = model(\n",
    "            pixel_values=pixel_values,\n",
    "            labels=label_ids\n",
    "        ).loss\n",
    "\n",
    "        lost_list.append(loss.item())\n",
    "        average_loss = np.mean(np.array(lost_list))\n",
    "        loss.backward()\n",
    "        optimizer.step()\n",
    "\n",
    "        pbar.set_postfix(loss=average_loss)\n",
    "\n",
    "    if average_loss < min_loss:\n",
    "        min_loss = average_loss\n",
    "        torch.save(model.state_dict(), f\"outputs/best_checkpoint.pth\")\n",
    "    result = evaluate(model=model, epoch=epoch)\n",
    "    rouge_result.append(result)\n",
    "    print(f\"Rouge-2 score on epoch {epoch}:\", result)"
   ]
  },
  {
   "cell_type": "code",
   "execution_count": 21,
   "metadata": {},
   "outputs": [
    {
     "data": {
      "text/html": [
       "<div>\n",
       "<style scoped>\n",
       "    .dataframe tbody tr th:only-of-type {\n",
       "        vertical-align: middle;\n",
       "    }\n",
       "\n",
       "    .dataframe tbody tr th {\n",
       "        vertical-align: top;\n",
       "    }\n",
       "\n",
       "    .dataframe thead th {\n",
       "        text-align: right;\n",
       "    }\n",
       "</style>\n",
       "<table border=\"1\" class=\"dataframe\">\n",
       "  <thead>\n",
       "    <tr style=\"text-align: right;\">\n",
       "      <th></th>\n",
       "      <th>Rouge-L-P</th>\n",
       "      <th>Rouge-L-R</th>\n",
       "      <th>Rouge-L-F</th>\n",
       "      <th>Rouge-2-P</th>\n",
       "      <th>Rouge-2-R</th>\n",
       "      <th>Rouge-2-F</th>\n",
       "    </tr>\n",
       "  </thead>\n",
       "  <tbody>\n",
       "    <tr>\n",
       "      <th>0</th>\n",
       "      <td>0.000000</td>\n",
       "      <td>0.000000</td>\n",
       "      <td>0.000000</td>\n",
       "      <td>0.000000</td>\n",
       "      <td>0.000000</td>\n",
       "      <td>0.000000</td>\n",
       "    </tr>\n",
       "    <tr>\n",
       "      <th>1</th>\n",
       "      <td>0.027778</td>\n",
       "      <td>0.010676</td>\n",
       "      <td>0.010676</td>\n",
       "      <td>0.002941</td>\n",
       "      <td>0.000735</td>\n",
       "      <td>0.000735</td>\n",
       "    </tr>\n",
       "    <tr>\n",
       "      <th>2</th>\n",
       "      <td>0.146022</td>\n",
       "      <td>0.041770</td>\n",
       "      <td>0.041770</td>\n",
       "      <td>0.055788</td>\n",
       "      <td>0.012775</td>\n",
       "      <td>0.012775</td>\n",
       "    </tr>\n",
       "    <tr>\n",
       "      <th>3</th>\n",
       "      <td>0.232774</td>\n",
       "      <td>0.057831</td>\n",
       "      <td>0.057831</td>\n",
       "      <td>0.121260</td>\n",
       "      <td>0.023490</td>\n",
       "      <td>0.023490</td>\n",
       "    </tr>\n",
       "    <tr>\n",
       "      <th>4</th>\n",
       "      <td>0.279716</td>\n",
       "      <td>0.070337</td>\n",
       "      <td>0.070337</td>\n",
       "      <td>0.147523</td>\n",
       "      <td>0.030518</td>\n",
       "      <td>0.030518</td>\n",
       "    </tr>\n",
       "    <tr>\n",
       "      <th>5</th>\n",
       "      <td>0.311127</td>\n",
       "      <td>0.077427</td>\n",
       "      <td>0.077427</td>\n",
       "      <td>0.159299</td>\n",
       "      <td>0.032998</td>\n",
       "      <td>0.032998</td>\n",
       "    </tr>\n",
       "    <tr>\n",
       "      <th>6</th>\n",
       "      <td>0.337742</td>\n",
       "      <td>0.084072</td>\n",
       "      <td>0.084072</td>\n",
       "      <td>0.180374</td>\n",
       "      <td>0.037441</td>\n",
       "      <td>0.037441</td>\n",
       "    </tr>\n",
       "    <tr>\n",
       "      <th>7</th>\n",
       "      <td>0.351566</td>\n",
       "      <td>0.086682</td>\n",
       "      <td>0.086682</td>\n",
       "      <td>0.186943</td>\n",
       "      <td>0.038436</td>\n",
       "      <td>0.038436</td>\n",
       "    </tr>\n",
       "    <tr>\n",
       "      <th>8</th>\n",
       "      <td>0.368109</td>\n",
       "      <td>0.088393</td>\n",
       "      <td>0.088393</td>\n",
       "      <td>0.203983</td>\n",
       "      <td>0.040665</td>\n",
       "      <td>0.040665</td>\n",
       "    </tr>\n",
       "    <tr>\n",
       "      <th>9</th>\n",
       "      <td>0.378132</td>\n",
       "      <td>0.090362</td>\n",
       "      <td>0.090362</td>\n",
       "      <td>0.211262</td>\n",
       "      <td>0.042102</td>\n",
       "      <td>0.042102</td>\n",
       "    </tr>\n",
       "    <tr>\n",
       "      <th>10</th>\n",
       "      <td>0.388797</td>\n",
       "      <td>0.092355</td>\n",
       "      <td>0.092355</td>\n",
       "      <td>0.221808</td>\n",
       "      <td>0.044221</td>\n",
       "      <td>0.044221</td>\n",
       "    </tr>\n",
       "    <tr>\n",
       "      <th>11</th>\n",
       "      <td>0.395034</td>\n",
       "      <td>0.093375</td>\n",
       "      <td>0.093375</td>\n",
       "      <td>0.224713</td>\n",
       "      <td>0.044988</td>\n",
       "      <td>0.044988</td>\n",
       "    </tr>\n",
       "    <tr>\n",
       "      <th>12</th>\n",
       "      <td>0.399402</td>\n",
       "      <td>0.093799</td>\n",
       "      <td>0.093799</td>\n",
       "      <td>0.231017</td>\n",
       "      <td>0.045925</td>\n",
       "      <td>0.045925</td>\n",
       "    </tr>\n",
       "    <tr>\n",
       "      <th>13</th>\n",
       "      <td>0.408016</td>\n",
       "      <td>0.095141</td>\n",
       "      <td>0.095141</td>\n",
       "      <td>0.238397</td>\n",
       "      <td>0.046893</td>\n",
       "      <td>0.046893</td>\n",
       "    </tr>\n",
       "    <tr>\n",
       "      <th>14</th>\n",
       "      <td>0.419593</td>\n",
       "      <td>0.098470</td>\n",
       "      <td>0.098470</td>\n",
       "      <td>0.251592</td>\n",
       "      <td>0.050137</td>\n",
       "      <td>0.050137</td>\n",
       "    </tr>\n",
       "    <tr>\n",
       "      <th>15</th>\n",
       "      <td>0.427838</td>\n",
       "      <td>0.101969</td>\n",
       "      <td>0.101969</td>\n",
       "      <td>0.259569</td>\n",
       "      <td>0.053104</td>\n",
       "      <td>0.053104</td>\n",
       "    </tr>\n",
       "    <tr>\n",
       "      <th>16</th>\n",
       "      <td>0.430701</td>\n",
       "      <td>0.102590</td>\n",
       "      <td>0.102590</td>\n",
       "      <td>0.258738</td>\n",
       "      <td>0.053071</td>\n",
       "      <td>0.053071</td>\n",
       "    </tr>\n",
       "    <tr>\n",
       "      <th>17</th>\n",
       "      <td>0.433625</td>\n",
       "      <td>0.104526</td>\n",
       "      <td>0.104526</td>\n",
       "      <td>0.260634</td>\n",
       "      <td>0.054504</td>\n",
       "      <td>0.054504</td>\n",
       "    </tr>\n",
       "    <tr>\n",
       "      <th>18</th>\n",
       "      <td>0.439215</td>\n",
       "      <td>0.105494</td>\n",
       "      <td>0.105494</td>\n",
       "      <td>0.267627</td>\n",
       "      <td>0.055857</td>\n",
       "      <td>0.055857</td>\n",
       "    </tr>\n",
       "    <tr>\n",
       "      <th>19</th>\n",
       "      <td>0.441884</td>\n",
       "      <td>0.106055</td>\n",
       "      <td>0.106055</td>\n",
       "      <td>0.270056</td>\n",
       "      <td>0.056427</td>\n",
       "      <td>0.056427</td>\n",
       "    </tr>\n",
       "    <tr>\n",
       "      <th>20</th>\n",
       "      <td>0.447298</td>\n",
       "      <td>0.107402</td>\n",
       "      <td>0.107402</td>\n",
       "      <td>0.276213</td>\n",
       "      <td>0.057779</td>\n",
       "      <td>0.057779</td>\n",
       "    </tr>\n",
       "    <tr>\n",
       "      <th>21</th>\n",
       "      <td>0.453943</td>\n",
       "      <td>0.109847</td>\n",
       "      <td>0.109847</td>\n",
       "      <td>0.283462</td>\n",
       "      <td>0.060082</td>\n",
       "      <td>0.060082</td>\n",
       "    </tr>\n",
       "    <tr>\n",
       "      <th>22</th>\n",
       "      <td>0.455024</td>\n",
       "      <td>0.110265</td>\n",
       "      <td>0.110265</td>\n",
       "      <td>0.285825</td>\n",
       "      <td>0.060518</td>\n",
       "      <td>0.060518</td>\n",
       "    </tr>\n",
       "    <tr>\n",
       "      <th>23</th>\n",
       "      <td>0.460906</td>\n",
       "      <td>0.112459</td>\n",
       "      <td>0.112459</td>\n",
       "      <td>0.292671</td>\n",
       "      <td>0.062622</td>\n",
       "      <td>0.062622</td>\n",
       "    </tr>\n",
       "    <tr>\n",
       "      <th>24</th>\n",
       "      <td>0.464440</td>\n",
       "      <td>0.113026</td>\n",
       "      <td>0.113026</td>\n",
       "      <td>0.297704</td>\n",
       "      <td>0.063423</td>\n",
       "      <td>0.063423</td>\n",
       "    </tr>\n",
       "    <tr>\n",
       "      <th>25</th>\n",
       "      <td>0.465417</td>\n",
       "      <td>0.113163</td>\n",
       "      <td>0.113163</td>\n",
       "      <td>0.299311</td>\n",
       "      <td>0.063627</td>\n",
       "      <td>0.063627</td>\n",
       "    </tr>\n",
       "    <tr>\n",
       "      <th>26</th>\n",
       "      <td>0.467730</td>\n",
       "      <td>0.113780</td>\n",
       "      <td>0.113780</td>\n",
       "      <td>0.302046</td>\n",
       "      <td>0.064109</td>\n",
       "      <td>0.064109</td>\n",
       "    </tr>\n",
       "    <tr>\n",
       "      <th>27</th>\n",
       "      <td>0.470797</td>\n",
       "      <td>0.114194</td>\n",
       "      <td>0.114194</td>\n",
       "      <td>0.305904</td>\n",
       "      <td>0.064774</td>\n",
       "      <td>0.064774</td>\n",
       "    </tr>\n",
       "    <tr>\n",
       "      <th>28</th>\n",
       "      <td>0.472873</td>\n",
       "      <td>0.114989</td>\n",
       "      <td>0.114989</td>\n",
       "      <td>0.308768</td>\n",
       "      <td>0.065564</td>\n",
       "      <td>0.065564</td>\n",
       "    </tr>\n",
       "    <tr>\n",
       "      <th>29</th>\n",
       "      <td>0.475055</td>\n",
       "      <td>0.115732</td>\n",
       "      <td>0.115732</td>\n",
       "      <td>0.310746</td>\n",
       "      <td>0.066088</td>\n",
       "      <td>0.066088</td>\n",
       "    </tr>\n",
       "  </tbody>\n",
       "</table>\n",
       "</div>"
      ],
      "text/plain": [
       "    Rouge-L-P  Rouge-L-R  Rouge-L-F  Rouge-2-P  Rouge-2-R  Rouge-2-F\n",
       "0    0.000000   0.000000   0.000000   0.000000   0.000000   0.000000\n",
       "1    0.027778   0.010676   0.010676   0.002941   0.000735   0.000735\n",
       "2    0.146022   0.041770   0.041770   0.055788   0.012775   0.012775\n",
       "3    0.232774   0.057831   0.057831   0.121260   0.023490   0.023490\n",
       "4    0.279716   0.070337   0.070337   0.147523   0.030518   0.030518\n",
       "5    0.311127   0.077427   0.077427   0.159299   0.032998   0.032998\n",
       "6    0.337742   0.084072   0.084072   0.180374   0.037441   0.037441\n",
       "7    0.351566   0.086682   0.086682   0.186943   0.038436   0.038436\n",
       "8    0.368109   0.088393   0.088393   0.203983   0.040665   0.040665\n",
       "9    0.378132   0.090362   0.090362   0.211262   0.042102   0.042102\n",
       "10   0.388797   0.092355   0.092355   0.221808   0.044221   0.044221\n",
       "11   0.395034   0.093375   0.093375   0.224713   0.044988   0.044988\n",
       "12   0.399402   0.093799   0.093799   0.231017   0.045925   0.045925\n",
       "13   0.408016   0.095141   0.095141   0.238397   0.046893   0.046893\n",
       "14   0.419593   0.098470   0.098470   0.251592   0.050137   0.050137\n",
       "15   0.427838   0.101969   0.101969   0.259569   0.053104   0.053104\n",
       "16   0.430701   0.102590   0.102590   0.258738   0.053071   0.053071\n",
       "17   0.433625   0.104526   0.104526   0.260634   0.054504   0.054504\n",
       "18   0.439215   0.105494   0.105494   0.267627   0.055857   0.055857\n",
       "19   0.441884   0.106055   0.106055   0.270056   0.056427   0.056427\n",
       "20   0.447298   0.107402   0.107402   0.276213   0.057779   0.057779\n",
       "21   0.453943   0.109847   0.109847   0.283462   0.060082   0.060082\n",
       "22   0.455024   0.110265   0.110265   0.285825   0.060518   0.060518\n",
       "23   0.460906   0.112459   0.112459   0.292671   0.062622   0.062622\n",
       "24   0.464440   0.113026   0.113026   0.297704   0.063423   0.063423\n",
       "25   0.465417   0.113163   0.113163   0.299311   0.063627   0.063627\n",
       "26   0.467730   0.113780   0.113780   0.302046   0.064109   0.064109\n",
       "27   0.470797   0.114194   0.114194   0.305904   0.064774   0.064774\n",
       "28   0.472873   0.114989   0.114989   0.308768   0.065564   0.065564\n",
       "29   0.475055   0.115732   0.115732   0.310746   0.066088   0.066088"
      ]
     },
     "execution_count": 21,
     "metadata": {},
     "output_type": "execute_result"
    }
   ],
   "source": [
    "import pandas as pd\n",
    "results = pd.DataFrame(rouge_result)\n",
    "results"
   ]
  },
  {
   "cell_type": "code",
   "execution_count": 12,
   "metadata": {},
   "outputs": [],
   "source": [
    "#model = VisionEncoderDecoderModel.from_encoder_decoder_pretrained(\"nickmuchi/vit-finetuned-chest-xray-pneumonia\", \"bert-base-cased\").to(device)\n",
    "#model.load_state_dict(torch.load('outputs/best_checkpoint.pth'))"
   ]
  },
  {
   "cell_type": "code",
   "execution_count": 13,
   "metadata": {},
   "outputs": [
    {
     "name": "stderr",
     "output_type": "stream",
     "text": [
      "Evaluting Epoch: 30: 100%|██████████| 10/10 [00:04<00:00,  2.11it/s]\n"
     ]
    }
   ],
   "source": [
    "results = []\n",
    "model.eval()\n",
    "\n",
    "pbar = tqdm(valid_dataloader)\n",
    "pbar.set_description(f\"Evaluting Epoch: {epoch + 1}\")\n",
    "\n",
    "with torch.no_grad():\n",
    "    for names, pixel_values, label_ids in pbar:\n",
    "        predictions = model.generate(pixel_values)\n",
    "\n",
    "        _predictions = tokenizer.batch_decode(\n",
    "                predictions,\n",
    "                skip_special_tokens=True\n",
    "        )\n",
    "        results.append(_predictions)"
   ]
  },
  {
   "cell_type": "code",
   "execution_count": 14,
   "metadata": {},
   "outputs": [
    {
     "data": {
      "text/plain": [
       "[['Chest PA view shows : Impression : - Increased both lung markings.'],\n",
       " ['Chest plain film shows : Impression : - Suspicious pulmonary edema'],\n",
       " ['Chest AP view showed : 1. Enlarged heart size with tortuous'],\n",
       " ['Chest PA view shows : Large mass occupying right upper chest. Normal heart size.'],\n",
       " ['Chest plain film view showed : Impression : - Suspicious pulmonary ed'],\n",
       " ['Chest PA view : Impression : - Increased both lung markings. -'],\n",
       " ['Chest AP view showed : 1. Normal heart size with tortuous aort'],\n",
       " ['Chest AP view showed : 1. Enlarged heart size with tortuous'],\n",
       " ['Chest plain film shows : Impression : - Suspicious pulmonary edema'],\n",
       " ['Chest plain film view showed : Impression : - Suspicious pulmonary ed']]"
      ]
     },
     "execution_count": 14,
     "metadata": {},
     "output_type": "execute_result"
    }
   ],
   "source": [
    "results"
   ]
  },
  {
   "cell_type": "code",
   "execution_count": 15,
   "metadata": {},
   "outputs": [
    {
     "name": "stdout",
     "output_type": "stream",
     "text": [
      "Data has been written to output.csv\n"
     ]
    }
   ],
   "source": [
    "import csv\n",
    "\n",
    "# List of strings\n",
    "\n",
    "# Open or create a CSV file in write mode\n",
    "with open('submission.csv', mode='w', newline='') as file:\n",
    "    writer = csv.writer(file)\n",
    "    \n",
    "    # Write all strings in a single row\n",
    "    writer.writerow(results)\n",
    "\n",
    "print(\"Data has been written to output.csv\")"
   ]
  }
 ],
 "metadata": {
  "kernelspec": {
   "display_name": "Python 3",
   "language": "python",
   "name": "python3"
  },
  "language_info": {
   "codemirror_mode": {
    "name": "ipython",
    "version": 3
   },
   "file_extension": ".py",
   "mimetype": "text/x-python",
   "name": "python",
   "nbconvert_exporter": "python",
   "pygments_lexer": "ipython3",
   "version": "3.10.11"
  }
 },
 "nbformat": 4,
 "nbformat_minor": 2
}
