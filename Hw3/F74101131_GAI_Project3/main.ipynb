{
  "nbformat": 4,
  "nbformat_minor": 0,
  "metadata": {
    "colab": {
      "provenance": [],
      "gpuType": "T4"
    },
    "kernelspec": {
      "name": "python3",
      "display_name": "Python 3"
    },
    "language_info": {
      "name": "python"
    },
    "accelerator": "GPU",
    "widgets": {
      "application/vnd.jupyter.widget-state+json": {
        "114730106ce649bd9a5b30dc4e82bbf3": {
          "model_module": "@jupyter-widgets/controls",
          "model_name": "HBoxModel",
          "model_module_version": "1.5.0",
          "state": {
            "_dom_classes": [],
            "_model_module": "@jupyter-widgets/controls",
            "_model_module_version": "1.5.0",
            "_model_name": "HBoxModel",
            "_view_count": null,
            "_view_module": "@jupyter-widgets/controls",
            "_view_module_version": "1.5.0",
            "_view_name": "HBoxView",
            "box_style": "",
            "children": [
              "IPY_MODEL_30a4b66c072d43c2a634156c008e3358",
              "IPY_MODEL_c73d980e46bb42c5b00b1d6c48b0d77b",
              "IPY_MODEL_4f256e30178e45d2901841882fcd7cd4"
            ],
            "layout": "IPY_MODEL_26cb3cfaf67142d389d7e93e3e5cd6d1"
          }
        },
        "30a4b66c072d43c2a634156c008e3358": {
          "model_module": "@jupyter-widgets/controls",
          "model_name": "HTMLModel",
          "model_module_version": "1.5.0",
          "state": {
            "_dom_classes": [],
            "_model_module": "@jupyter-widgets/controls",
            "_model_module_version": "1.5.0",
            "_model_name": "HTMLModel",
            "_view_count": null,
            "_view_module": "@jupyter-widgets/controls",
            "_view_module_version": "1.5.0",
            "_view_name": "HTMLView",
            "description": "",
            "description_tooltip": null,
            "layout": "IPY_MODEL_f4dbe9b20d384a6082f448e1ab0c3377",
            "placeholder": "​",
            "style": "IPY_MODEL_f1ccd6a401f7421daeb2b880a9427385",
            "value": "model.safetensors: 100%"
          }
        },
        "c73d980e46bb42c5b00b1d6c48b0d77b": {
          "model_module": "@jupyter-widgets/controls",
          "model_name": "FloatProgressModel",
          "model_module_version": "1.5.0",
          "state": {
            "_dom_classes": [],
            "_model_module": "@jupyter-widgets/controls",
            "_model_module_version": "1.5.0",
            "_model_name": "FloatProgressModel",
            "_view_count": null,
            "_view_module": "@jupyter-widgets/controls",
            "_view_module_version": "1.5.0",
            "_view_name": "ProgressView",
            "bar_style": "success",
            "description": "",
            "description_tooltip": null,
            "layout": "IPY_MODEL_430f9ad5236743efab39a44bc65019b5",
            "max": 498818054,
            "min": 0,
            "orientation": "horizontal",
            "style": "IPY_MODEL_5d6c5a4a604c496abeadd2257cc6aa4d",
            "value": 498818054
          }
        },
        "4f256e30178e45d2901841882fcd7cd4": {
          "model_module": "@jupyter-widgets/controls",
          "model_name": "HTMLModel",
          "model_module_version": "1.5.0",
          "state": {
            "_dom_classes": [],
            "_model_module": "@jupyter-widgets/controls",
            "_model_module_version": "1.5.0",
            "_model_name": "HTMLModel",
            "_view_count": null,
            "_view_module": "@jupyter-widgets/controls",
            "_view_module_version": "1.5.0",
            "_view_name": "HTMLView",
            "description": "",
            "description_tooltip": null,
            "layout": "IPY_MODEL_fe4259edeac048b09bf71a01f0ab2935",
            "placeholder": "​",
            "style": "IPY_MODEL_4a863765db7648c5a3c8ea82af7b734f",
            "value": " 499M/499M [00:03&lt;00:00, 212MB/s]"
          }
        },
        "26cb3cfaf67142d389d7e93e3e5cd6d1": {
          "model_module": "@jupyter-widgets/base",
          "model_name": "LayoutModel",
          "model_module_version": "1.2.0",
          "state": {
            "_model_module": "@jupyter-widgets/base",
            "_model_module_version": "1.2.0",
            "_model_name": "LayoutModel",
            "_view_count": null,
            "_view_module": "@jupyter-widgets/base",
            "_view_module_version": "1.2.0",
            "_view_name": "LayoutView",
            "align_content": null,
            "align_items": null,
            "align_self": null,
            "border": null,
            "bottom": null,
            "display": null,
            "flex": null,
            "flex_flow": null,
            "grid_area": null,
            "grid_auto_columns": null,
            "grid_auto_flow": null,
            "grid_auto_rows": null,
            "grid_column": null,
            "grid_gap": null,
            "grid_row": null,
            "grid_template_areas": null,
            "grid_template_columns": null,
            "grid_template_rows": null,
            "height": null,
            "justify_content": null,
            "justify_items": null,
            "left": null,
            "margin": null,
            "max_height": null,
            "max_width": null,
            "min_height": null,
            "min_width": null,
            "object_fit": null,
            "object_position": null,
            "order": null,
            "overflow": null,
            "overflow_x": null,
            "overflow_y": null,
            "padding": null,
            "right": null,
            "top": null,
            "visibility": null,
            "width": null
          }
        },
        "f4dbe9b20d384a6082f448e1ab0c3377": {
          "model_module": "@jupyter-widgets/base",
          "model_name": "LayoutModel",
          "model_module_version": "1.2.0",
          "state": {
            "_model_module": "@jupyter-widgets/base",
            "_model_module_version": "1.2.0",
            "_model_name": "LayoutModel",
            "_view_count": null,
            "_view_module": "@jupyter-widgets/base",
            "_view_module_version": "1.2.0",
            "_view_name": "LayoutView",
            "align_content": null,
            "align_items": null,
            "align_self": null,
            "border": null,
            "bottom": null,
            "display": null,
            "flex": null,
            "flex_flow": null,
            "grid_area": null,
            "grid_auto_columns": null,
            "grid_auto_flow": null,
            "grid_auto_rows": null,
            "grid_column": null,
            "grid_gap": null,
            "grid_row": null,
            "grid_template_areas": null,
            "grid_template_columns": null,
            "grid_template_rows": null,
            "height": null,
            "justify_content": null,
            "justify_items": null,
            "left": null,
            "margin": null,
            "max_height": null,
            "max_width": null,
            "min_height": null,
            "min_width": null,
            "object_fit": null,
            "object_position": null,
            "order": null,
            "overflow": null,
            "overflow_x": null,
            "overflow_y": null,
            "padding": null,
            "right": null,
            "top": null,
            "visibility": null,
            "width": null
          }
        },
        "f1ccd6a401f7421daeb2b880a9427385": {
          "model_module": "@jupyter-widgets/controls",
          "model_name": "DescriptionStyleModel",
          "model_module_version": "1.5.0",
          "state": {
            "_model_module": "@jupyter-widgets/controls",
            "_model_module_version": "1.5.0",
            "_model_name": "DescriptionStyleModel",
            "_view_count": null,
            "_view_module": "@jupyter-widgets/base",
            "_view_module_version": "1.2.0",
            "_view_name": "StyleView",
            "description_width": ""
          }
        },
        "430f9ad5236743efab39a44bc65019b5": {
          "model_module": "@jupyter-widgets/base",
          "model_name": "LayoutModel",
          "model_module_version": "1.2.0",
          "state": {
            "_model_module": "@jupyter-widgets/base",
            "_model_module_version": "1.2.0",
            "_model_name": "LayoutModel",
            "_view_count": null,
            "_view_module": "@jupyter-widgets/base",
            "_view_module_version": "1.2.0",
            "_view_name": "LayoutView",
            "align_content": null,
            "align_items": null,
            "align_self": null,
            "border": null,
            "bottom": null,
            "display": null,
            "flex": null,
            "flex_flow": null,
            "grid_area": null,
            "grid_auto_columns": null,
            "grid_auto_flow": null,
            "grid_auto_rows": null,
            "grid_column": null,
            "grid_gap": null,
            "grid_row": null,
            "grid_template_areas": null,
            "grid_template_columns": null,
            "grid_template_rows": null,
            "height": null,
            "justify_content": null,
            "justify_items": null,
            "left": null,
            "margin": null,
            "max_height": null,
            "max_width": null,
            "min_height": null,
            "min_width": null,
            "object_fit": null,
            "object_position": null,
            "order": null,
            "overflow": null,
            "overflow_x": null,
            "overflow_y": null,
            "padding": null,
            "right": null,
            "top": null,
            "visibility": null,
            "width": null
          }
        },
        "5d6c5a4a604c496abeadd2257cc6aa4d": {
          "model_module": "@jupyter-widgets/controls",
          "model_name": "ProgressStyleModel",
          "model_module_version": "1.5.0",
          "state": {
            "_model_module": "@jupyter-widgets/controls",
            "_model_module_version": "1.5.0",
            "_model_name": "ProgressStyleModel",
            "_view_count": null,
            "_view_module": "@jupyter-widgets/base",
            "_view_module_version": "1.2.0",
            "_view_name": "StyleView",
            "bar_color": null,
            "description_width": ""
          }
        },
        "fe4259edeac048b09bf71a01f0ab2935": {
          "model_module": "@jupyter-widgets/base",
          "model_name": "LayoutModel",
          "model_module_version": "1.2.0",
          "state": {
            "_model_module": "@jupyter-widgets/base",
            "_model_module_version": "1.2.0",
            "_model_name": "LayoutModel",
            "_view_count": null,
            "_view_module": "@jupyter-widgets/base",
            "_view_module_version": "1.2.0",
            "_view_name": "LayoutView",
            "align_content": null,
            "align_items": null,
            "align_self": null,
            "border": null,
            "bottom": null,
            "display": null,
            "flex": null,
            "flex_flow": null,
            "grid_area": null,
            "grid_auto_columns": null,
            "grid_auto_flow": null,
            "grid_auto_rows": null,
            "grid_column": null,
            "grid_gap": null,
            "grid_row": null,
            "grid_template_areas": null,
            "grid_template_columns": null,
            "grid_template_rows": null,
            "height": null,
            "justify_content": null,
            "justify_items": null,
            "left": null,
            "margin": null,
            "max_height": null,
            "max_width": null,
            "min_height": null,
            "min_width": null,
            "object_fit": null,
            "object_position": null,
            "order": null,
            "overflow": null,
            "overflow_x": null,
            "overflow_y": null,
            "padding": null,
            "right": null,
            "top": null,
            "visibility": null,
            "width": null
          }
        },
        "4a863765db7648c5a3c8ea82af7b734f": {
          "model_module": "@jupyter-widgets/controls",
          "model_name": "DescriptionStyleModel",
          "model_module_version": "1.5.0",
          "state": {
            "_model_module": "@jupyter-widgets/controls",
            "_model_module_version": "1.5.0",
            "_model_name": "DescriptionStyleModel",
            "_view_count": null,
            "_view_module": "@jupyter-widgets/base",
            "_view_module_version": "1.2.0",
            "_view_name": "StyleView",
            "description_width": ""
          }
        }
      }
    }
  },
  "cells": [
    {
      "cell_type": "code",
      "execution_count": null,
      "metadata": {
        "id": "ZKziG3zFRgos"
      },
      "outputs": [],
      "source": [
        "# 若沒有安裝 transformers 和 datasets 套件，請取消以下註解並執行\n",
        "!pip install transformers==4.38.0\n",
        "!pip install datasets\n",
        "!pip install torch==2.0.1+cu110\n",
        "!pip install peft\n",
        "\n",
        "!git clone https://github.com/NVIDIA/apex\n",
        "%cd apex\n",
        "!pip install -r requirements.txt\n",
        "!pip install -v --disable-pip-version-check --no-cache-dir ./\n"
      ]
    },
    {
      "cell_type": "code",
      "source": [
        "# 1. 確認所需套件的版本\n",
        "import torch\n",
        "print(\"PyTorch 的版本為: {}\".format(torch.__version__))\n",
        "\n",
        "import transformers\n",
        "print(\"Hugging Face Transformers 的版本為: {}\".format(transformers.__version__))\n",
        "\n",
        "import datasets\n",
        "print(\"Hugging Face Datasets 的版本為: {}\".format(datasets.__version__))\n",
        "\n",
        "import peft\n",
        "print(\"PEFT 的版本為: {}\".format(peft.__version__))\n",
        "\n",
        "# 2. 載入其他所需套件\n",
        "\n",
        "import os\n",
        "import json\n",
        "import numpy as np\n",
        "from pathlib import Path # (Python3.4+)"
      ],
      "metadata": {
        "id": "ts7U7teNR7dK",
        "colab": {
          "base_uri": "https://localhost:8080/"
        },
        "outputId": "21cd04cc-4152-4b16-ca22-00fd32a908ec"
      },
      "execution_count": null,
      "outputs": [
        {
          "output_type": "stream",
          "name": "stdout",
          "text": [
            "PyTorch 的版本為: 2.2.1+cu121\n",
            "Hugging Face Transformers 的版本為: 4.38.0\n",
            "Hugging Face Datasets 的版本為: 2.19.1\n",
            "PEFT 的版本為: 0.10.0\n"
          ]
        }
      ]
    },
    {
      "cell_type": "code",
      "source": [
        "from datasets import load_dataset\n",
        "\n",
        "dataset_sst2 = load_dataset(\"glue\", \"sst2\")\n",
        "dataset_rte = load_dataset(\"glue\", \"rte\")"
      ],
      "metadata": {
        "id": "ZJjTydarR-ID"
      },
      "execution_count": null,
      "outputs": []
    },
    {
      "cell_type": "code",
      "source": [
        "# # 获取所有的键\n",
        "# keys2 = dataset_rte.keys()\n",
        "\n",
        "# # 遍历所有的键，并查看对应的数据集结构\n",
        "# for key in keys2:\n",
        "#     print(f\"Dataset: {key}\")\n",
        "#     print(dataset_rte[key])\n",
        "#     print(\"\\n\")"
      ],
      "metadata": {
        "id": "-4Yan7eunpgP"
      },
      "execution_count": null,
      "outputs": []
    },
    {
      "cell_type": "code",
      "source": [
        "# 8. 載入 tokenizer\n",
        "\n",
        "# 在 Hugging Face 套件中可使用 .from_pretrained() 的方法來導入預訓練模型\n",
        "tokenizer = transformers.AutoTokenizer.from_pretrained('roberta-base')"
      ],
      "metadata": {
        "id": "P5019exgR-_W"
      },
      "execution_count": null,
      "outputs": []
    },
    {
      "cell_type": "code",
      "source": [
        "# 9. 分別將3種資料 (train/valid/test) 做 tokenization\n",
        "# truncation 代表依照 max_length 進行序列長度的裁切\n",
        "# max_length 可以在 tokenizer 的 parameters 中進行設定\n",
        "# 如果沒有指定 max_length，則依照所使用的模型的序列最大長度\n",
        "# padding 為 True 表示會將序列長度補齊至該 batch 的最大長度 (欲知詳情請查看 source code)\n",
        "\n",
        "sst2_train_encodings = tokenizer(dataset_sst2['train']['sentence'], truncation=True, padding=True)\n",
        "sst2_val_encodings = tokenizer(dataset_sst2['validation']['sentence'], truncation=True, padding=True)\n",
        "sst2_test_encodings = tokenizer(dataset_sst2['test']['sentence'], truncation=True, padding=True)\n"
      ],
      "metadata": {
        "id": "xFc8HZZ7SIV_"
      },
      "execution_count": null,
      "outputs": []
    },
    {
      "cell_type": "code",
      "source": [
        "rte_train_encodings = tokenizer(dataset_rte['train']['sentence1'],dataset_rte['train']['sentence2'], return_tensors='pt',truncation=True, padding=True)\n",
        "rte_val_encodings = tokenizer(dataset_rte['validation']['sentence1'],dataset_rte['validation']['sentence2'], return_tensors='pt',truncation=True, padding=True)\n",
        "rte_test_encodings = tokenizer(dataset_rte['test']['sentence1'],dataset_rte['test']['sentence2'], return_tensors='pt',truncation=True, padding=True)"
      ],
      "metadata": {
        "id": "wsUoGXJQi0IA"
      },
      "execution_count": null,
      "outputs": []
    },
    {
      "cell_type": "code",
      "source": [
        "# 13. 透過 PyTorch Dataset 來建立能夠進行方便資料存取的格式\n",
        "\n",
        "class Dataset(torch.utils.data.Dataset):\n",
        "    def __init__(self, encodings, labels):\n",
        "        # Dataset class 的 parameters 放入我們 tokenization 後的資料以及資料的標籤\n",
        "        self.encodings = encodings\n",
        "        self.labels = labels\n",
        "\n",
        "    def __getitem__(self, idx):\n",
        "        # 請注意 tokenization 後的資料是一個 dict\n",
        "        # 在此步驟將資料以及標籤都轉換為 PyTorch 的 tensors\n",
        "        item = {key: torch.tensor(val[idx]) for key, val in self.encodings.items()}\n",
        "        item['labels'] = torch.tensor(self.labels[idx])\n",
        "\n",
        "        return item\n",
        "\n",
        "    def __len__(self):\n",
        "        # 回傳資料集的總數\n",
        "        return len(self.labels)\n",
        "\n",
        "sst2_train_dataset = Dataset(sst2_train_encodings, dataset_sst2['train']['label'])\n",
        "sst2_val_dataset = Dataset(sst2_val_encodings, dataset_sst2['validation']['label'])\n",
        "sst2_test_dataset = Dataset(sst2_test_encodings, dataset_sst2['test']['label'])"
      ],
      "metadata": {
        "id": "6B1E-sv1SSpY"
      },
      "execution_count": null,
      "outputs": []
    },
    {
      "cell_type": "code",
      "source": [
        "rte_train_dataset = Dataset(rte_train_encodings, dataset_rte['train']['label'])\n",
        "rte_val_dataset = Dataset(rte_val_encodings, dataset_rte['validation']['label'])\n",
        "rte_test_dataset = Dataset(rte_test_encodings, dataset_rte['test']['label'])"
      ],
      "metadata": {
        "id": "B_G09t1KTuVf"
      },
      "execution_count": null,
      "outputs": []
    },
    {
      "cell_type": "code",
      "source": [
        "model = transformers.RobertaForSequenceClassification.from_pretrained(\"roberta-base\")"
      ],
      "metadata": {
        "id": "G1EFYLe7SdeH",
        "colab": {
          "base_uri": "https://localhost:8080/",
          "height": 104,
          "referenced_widgets": [
            "114730106ce649bd9a5b30dc4e82bbf3",
            "30a4b66c072d43c2a634156c008e3358",
            "c73d980e46bb42c5b00b1d6c48b0d77b",
            "4f256e30178e45d2901841882fcd7cd4",
            "26cb3cfaf67142d389d7e93e3e5cd6d1",
            "f4dbe9b20d384a6082f448e1ab0c3377",
            "f1ccd6a401f7421daeb2b880a9427385",
            "430f9ad5236743efab39a44bc65019b5",
            "5d6c5a4a604c496abeadd2257cc6aa4d",
            "fe4259edeac048b09bf71a01f0ab2935",
            "4a863765db7648c5a3c8ea82af7b734f"
          ]
        },
        "outputId": "ed175161-4d89-4f1a-e2ff-7903d28e3a91"
      },
      "execution_count": null,
      "outputs": [
        {
          "output_type": "display_data",
          "data": {
            "text/plain": [
              "model.safetensors:   0%|          | 0.00/499M [00:00<?, ?B/s]"
            ],
            "application/vnd.jupyter.widget-view+json": {
              "version_major": 2,
              "version_minor": 0,
              "model_id": "114730106ce649bd9a5b30dc4e82bbf3"
            }
          },
          "metadata": {}
        },
        {
          "output_type": "stream",
          "name": "stderr",
          "text": [
            "Some weights of RobertaForSequenceClassification were not initialized from the model checkpoint at roberta-base and are newly initialized: ['classifier.dense.bias', 'classifier.dense.weight', 'classifier.out_proj.bias', 'classifier.out_proj.weight']\n",
            "You should probably TRAIN this model on a down-stream task to be able to use it for predictions and inference.\n"
          ]
        }
      ]
    },
    {
      "cell_type": "code",
      "source": [
        "# # lora\n",
        "# from peft import LoraConfig, TaskType, get_peft_model\n",
        "\n",
        "# config = LoraConfig(task_type=TaskType.CAUSAL_LM)\n",
        "# model = get_peft_model(model, config)"
      ],
      "metadata": {
        "id": "rdKKbgcpSgEJ"
      },
      "execution_count": null,
      "outputs": []
    },
    {
      "cell_type": "code",
      "source": [
        "# for name, parameter in model.named_parameters():\n",
        "#     print(name)"
      ],
      "metadata": {
        "id": "qN4P32ddSj38"
      },
      "execution_count": null,
      "outputs": []
    },
    {
      "cell_type": "code",
      "source": [
        "# 18. 建立自定的評估的指標 (定義 function)\n",
        "# 將作為 transformers.Trainer 的 parameters 之一\n",
        "\n",
        "# Scikit-learn 的 precision_recall_fscore_support 套件可以一次計算 F1 score, precision, 和 recall\n",
        "from sklearn.metrics import accuracy_score, precision_recall_fscore_support\n",
        "# 請參考GLUE benchmark的官方網頁，使用和資料集對應的evaluation matrics\n",
        "\n",
        "def compute_metrics(pred):\n",
        "    labels = pred.label_ids\n",
        "    preds = pred.predictions.argmax(-1)\n",
        "    accuracy = (preds == labels).mean()\n",
        "    return {'accuracy': accuracy}\n"
      ],
      "metadata": {
        "id": "W8WREUy7SorC"
      },
      "execution_count": null,
      "outputs": []
    },
    {
      "cell_type": "code",
      "source": [
        "# 19. 訓練模型\n",
        "\n",
        "# 設定 TrainingArguments\n",
        "training_args = transformers.TrainingArguments(\n",
        "    output_dir=\"./results\" ,          # 輸出的資料夾\n",
        "    num_train_epochs= 3,              # 總共訓練的 epoch 數目\n",
        "    learning_rate=2e-5 ,              # 學習率\n",
        "    per_device_train_batch_size=8 ,  # 訓練模型時每個裝置的 batch size\n",
        "    per_device_eval_batch_size=8 ,   # 驗證模型時每個裝置的 batch size\n",
        "    gradient_accumulation_steps=2 ,   # 梯度累積的步數\n",
        "    warmup_steps=500 ,                # learning rate scheduler 的參數\n",
        "    weight_decay=0.01 ,               # 最佳化演算法 (optimizer) 中的權重衰退率\n",
        "    evaluation_strategy= \"steps\",     # 設定驗證的時機\n",
        "    save_strategy=\"epoch\" ,           # 設定儲存的時機\n",
        "    save_steps=500 ,                  # 設定多少步驟儲存一次模型\n",
        "    eval_steps=500 ,                  # 設定多少步驟驗證一次模型\n",
        "    report_to=\"tensorboard\" ,         # 是否將訓練結果儲存到 TensorBoard\n",
        "    save_total_limit= 1,              # 最多儲存幾個模型\n",
        "    logging_dir=\"./logs\" ,            # 存放 log 的資料夾\n",
        "    logging_steps=10 ,\n",
        "    seed=42 ,\n",
        ")"
      ],
      "metadata": {
        "id": "kfqattmeSsrA"
      },
      "execution_count": null,
      "outputs": []
    },
    {
      "cell_type": "code",
      "source": [
        "# BitFit\n",
        "num_param = 0\n",
        "for name,param in model.named_parameters():\n",
        "  if \"bias\" not in name:\n",
        "    param.requires_grad = False\n",
        "  else:\n",
        "    num_param += param.numel()\n",
        "num_param"
      ],
      "metadata": {
        "id": "IAqK4Qz9Sz3D",
        "colab": {
          "base_uri": "https://localhost:8080/"
        },
        "outputId": "9e8c28d6-eb6f-4f85-f351-5d5ef4ba9461"
      },
      "execution_count": null,
      "outputs": [
        {
          "output_type": "execute_result",
          "data": {
            "text/plain": [
              "102914"
            ]
          },
          "metadata": {},
          "execution_count": 17
        }
      ]
    },
    {
      "cell_type": "code",
      "source": [
        "sum(param.numel() for param in model.parameters())"
      ],
      "metadata": {
        "id": "8ddUESQU4-me",
        "colab": {
          "base_uri": "https://localhost:8080/"
        },
        "outputId": "31422058-ab76-4595-ce82-0bba976b4dce"
      },
      "execution_count": null,
      "outputs": [
        {
          "output_type": "execute_result",
          "data": {
            "text/plain": [
              "124647170"
            ]
          },
          "metadata": {},
          "execution_count": 18
        }
      ]
    },
    {
      "cell_type": "code",
      "source": [
        "trainer = transformers.Trainer(\n",
        "    model=model,                         # 🤗 的模型\n",
        "    args=training_args,                  # Trainer 所需要的引數\n",
        "    train_dataset=sst2_train_dataset,         # 訓練集 (注意是 PyTorch Dataset)\n",
        "    eval_dataset=sst2_val_dataset,            # 驗證集 (注意是 PyTorch Dataset)，可使 Trainer 在進行訓練時也進行驗證\n",
        "    compute_metrics=compute_metrics,     # 自定的評估的指標\n",
        ")\n",
        "\n",
        "# 指定使用 1 個 GPU 進行訓練\n",
        "trainer.args._n_gpu=1\n",
        "\n",
        "# 開始進行模型訓練\n",
        "trainer.train()"
      ],
      "metadata": {
        "id": "2CTLLc3sS28a",
        "colab": {
          "base_uri": "https://localhost:8080/",
          "height": 966
        },
        "outputId": "cb25f066-bf98-41b7-f968-fdb1144b934c"
      },
      "execution_count": null,
      "outputs": [
        {
          "output_type": "stream",
          "name": "stderr",
          "text": [
            "/usr/local/lib/python3.10/dist-packages/accelerate/accelerator.py:446: FutureWarning: Passing the following arguments to `Accelerator` is deprecated and will be removed in version 1.0 of Accelerate: dict_keys(['dispatch_batches', 'split_batches', 'even_batches', 'use_seedable_sampler']). Please pass an `accelerate.DataLoaderConfiguration` instead: \n",
            "dataloader_config = DataLoaderConfiguration(dispatch_batches=None, split_batches=False, even_batches=True, use_seedable_sampler=True)\n",
            "  warnings.warn(\n"
          ]
        },
        {
          "output_type": "display_data",
          "data": {
            "text/plain": [
              "<IPython.core.display.HTML object>"
            ],
            "text/html": [
              "\n",
              "    <div>\n",
              "      \n",
              "      <progress value='12627' max='12627' style='width:300px; height:20px; vertical-align: middle;'></progress>\n",
              "      [12627/12627 29:27, Epoch 2/3]\n",
              "    </div>\n",
              "    <table border=\"1\" class=\"dataframe\">\n",
              "  <thead>\n",
              " <tr style=\"text-align: left;\">\n",
              "      <th>Step</th>\n",
              "      <th>Training Loss</th>\n",
              "      <th>Validation Loss</th>\n",
              "      <th>Accuracy</th>\n",
              "    </tr>\n",
              "  </thead>\n",
              "  <tbody>\n",
              "    <tr>\n",
              "      <td>500</td>\n",
              "      <td>0.699600</td>\n",
              "      <td>0.692876</td>\n",
              "      <td>0.521789</td>\n",
              "    </tr>\n",
              "    <tr>\n",
              "      <td>1000</td>\n",
              "      <td>0.681900</td>\n",
              "      <td>0.693897</td>\n",
              "      <td>0.509174</td>\n",
              "    </tr>\n",
              "    <tr>\n",
              "      <td>1500</td>\n",
              "      <td>0.675500</td>\n",
              "      <td>0.693602</td>\n",
              "      <td>0.509174</td>\n",
              "    </tr>\n",
              "    <tr>\n",
              "      <td>2000</td>\n",
              "      <td>0.674700</td>\n",
              "      <td>0.682883</td>\n",
              "      <td>0.509174</td>\n",
              "    </tr>\n",
              "    <tr>\n",
              "      <td>2500</td>\n",
              "      <td>0.479700</td>\n",
              "      <td>0.485322</td>\n",
              "      <td>0.848624</td>\n",
              "    </tr>\n",
              "    <tr>\n",
              "      <td>3000</td>\n",
              "      <td>0.487100</td>\n",
              "      <td>0.405401</td>\n",
              "      <td>0.858945</td>\n",
              "    </tr>\n",
              "    <tr>\n",
              "      <td>3500</td>\n",
              "      <td>0.448200</td>\n",
              "      <td>0.379682</td>\n",
              "      <td>0.862385</td>\n",
              "    </tr>\n",
              "    <tr>\n",
              "      <td>4000</td>\n",
              "      <td>0.465000</td>\n",
              "      <td>0.369830</td>\n",
              "      <td>0.866972</td>\n",
              "    </tr>\n",
              "    <tr>\n",
              "      <td>4500</td>\n",
              "      <td>0.358800</td>\n",
              "      <td>0.356569</td>\n",
              "      <td>0.871560</td>\n",
              "    </tr>\n",
              "    <tr>\n",
              "      <td>5000</td>\n",
              "      <td>0.391600</td>\n",
              "      <td>0.351986</td>\n",
              "      <td>0.872706</td>\n",
              "    </tr>\n",
              "    <tr>\n",
              "      <td>5500</td>\n",
              "      <td>0.364300</td>\n",
              "      <td>0.343075</td>\n",
              "      <td>0.875000</td>\n",
              "    </tr>\n",
              "    <tr>\n",
              "      <td>6000</td>\n",
              "      <td>0.336700</td>\n",
              "      <td>0.342192</td>\n",
              "      <td>0.878440</td>\n",
              "    </tr>\n",
              "    <tr>\n",
              "      <td>6500</td>\n",
              "      <td>0.421900</td>\n",
              "      <td>0.327646</td>\n",
              "      <td>0.880734</td>\n",
              "    </tr>\n",
              "    <tr>\n",
              "      <td>7000</td>\n",
              "      <td>0.286400</td>\n",
              "      <td>0.323573</td>\n",
              "      <td>0.880734</td>\n",
              "    </tr>\n",
              "    <tr>\n",
              "      <td>7500</td>\n",
              "      <td>0.405400</td>\n",
              "      <td>0.327272</td>\n",
              "      <td>0.878440</td>\n",
              "    </tr>\n",
              "    <tr>\n",
              "      <td>8000</td>\n",
              "      <td>0.315000</td>\n",
              "      <td>0.315254</td>\n",
              "      <td>0.886468</td>\n",
              "    </tr>\n",
              "    <tr>\n",
              "      <td>8500</td>\n",
              "      <td>0.365300</td>\n",
              "      <td>0.320504</td>\n",
              "      <td>0.883028</td>\n",
              "    </tr>\n",
              "    <tr>\n",
              "      <td>9000</td>\n",
              "      <td>0.273200</td>\n",
              "      <td>0.310700</td>\n",
              "      <td>0.887615</td>\n",
              "    </tr>\n",
              "    <tr>\n",
              "      <td>9500</td>\n",
              "      <td>0.294000</td>\n",
              "      <td>0.309080</td>\n",
              "      <td>0.888761</td>\n",
              "    </tr>\n",
              "    <tr>\n",
              "      <td>10000</td>\n",
              "      <td>0.433600</td>\n",
              "      <td>0.306957</td>\n",
              "      <td>0.891055</td>\n",
              "    </tr>\n",
              "    <tr>\n",
              "      <td>10500</td>\n",
              "      <td>0.383100</td>\n",
              "      <td>0.309659</td>\n",
              "      <td>0.887615</td>\n",
              "    </tr>\n",
              "    <tr>\n",
              "      <td>11000</td>\n",
              "      <td>0.315300</td>\n",
              "      <td>0.304541</td>\n",
              "      <td>0.892202</td>\n",
              "    </tr>\n",
              "    <tr>\n",
              "      <td>11500</td>\n",
              "      <td>0.334600</td>\n",
              "      <td>0.305781</td>\n",
              "      <td>0.891055</td>\n",
              "    </tr>\n",
              "    <tr>\n",
              "      <td>12000</td>\n",
              "      <td>0.283800</td>\n",
              "      <td>0.302965</td>\n",
              "      <td>0.891055</td>\n",
              "    </tr>\n",
              "    <tr>\n",
              "      <td>12500</td>\n",
              "      <td>0.314300</td>\n",
              "      <td>0.302356</td>\n",
              "      <td>0.893349</td>\n",
              "    </tr>\n",
              "  </tbody>\n",
              "</table><p>"
            ]
          },
          "metadata": {}
        },
        {
          "output_type": "execute_result",
          "data": {
            "text/plain": [
              "TrainOutput(global_step=12627, training_loss=0.43447850812989175, metrics={'train_runtime': 1769.146, 'train_samples_per_second': 114.206, 'train_steps_per_second': 7.137, 'total_flos': 6955865942774760.0, 'train_loss': 0.43447850812989175, 'epoch': 3.0})"
            ]
          },
          "metadata": {},
          "execution_count": 19
        }
      ]
    }
  ]
}